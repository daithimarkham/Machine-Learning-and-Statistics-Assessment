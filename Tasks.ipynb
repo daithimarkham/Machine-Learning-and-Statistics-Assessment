{
 "cells": [
  {
   "cell_type": "markdown",
   "metadata": {},
   "source": [
    "![title](Images/image2.png)\n",
    "<br>\n",
    "<br>\n",
    "# <center>Machine Learning and Statistics Tasks</center>\n",
    "\n",
    "![title](Images/image1.png)\n",
    "\n",
    "- A Jupyter Notebook containing assessments for Machine Learning & Statistics.\n",
    "- We will be completing four tasks throughout the course of the semester.\n",
    "- All tasks will be completed in this Notebook.\n",
    "\n",
    "<br>\n",
    "<br>\n",
    "<br>"
   ]
  },
  {
   "cell_type": "markdown",
   "metadata": {},
   "source": [
    "## <center>Task 1</center>\n",
    "\n",
    "\n",
    "\n",
    "\n",
    "\n",
    "Write a Python function called sqrt2 that calculates and prints to the screen the square root of 2 to 100 decimal places.\n",
    "\n",
    "Your code should not depend on any module from the standard library1 or otherwise. (By this, you should not import a library.)\n",
    "\n",
    "You should research the task first and include references and a description of your algorithm.\n",
    "\n",
    "![title](Images/image3.png)"
   ]
  },
  {
   "cell_type": "markdown",
   "metadata": {},
   "source": [
    "## References\n",
    "\n",
    "Learn Python, 2020, Statistics and Machine Learning compared, viewed on 2019/10/12, available online at: https://pythonprogramminglanguage.com/what-is-the-difference-between-statistics-and-machine-learning/\n",
    "\n",
    "Real Python, 2019, The Python Square Root Function, viewed on 2019/10/12, available online at: https://realpython.com/python-square-root-function/ "
   ]
  }
 ],
 "metadata": {
  "kernelspec": {
   "display_name": "Python 3",
   "language": "python",
   "name": "python3"
  },
  "language_info": {
   "codemirror_mode": {
    "name": "ipython",
    "version": 3
   },
   "file_extension": ".py",
   "mimetype": "text/x-python",
   "name": "python",
   "nbconvert_exporter": "python",
   "pygments_lexer": "ipython3",
   "version": "3.8.3"
  }
 },
 "nbformat": 4,
 "nbformat_minor": 4
}
