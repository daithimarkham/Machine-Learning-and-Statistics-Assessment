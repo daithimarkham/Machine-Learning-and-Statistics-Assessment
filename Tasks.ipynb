{
 "cells": [
  {
   "cell_type": "markdown",
   "metadata": {},
   "source": [
    "![title](Images/image2.png)\n",
    "<br>\n",
    "<br>\n",
    "\n",
    "![title](Images/image1.png)\n",
    "<br>\n",
    "# <center>Machine Learning and Statistics Tasks</center>\n",
    "\n",
    "\n",
    "### **A Jupyter Notebook containing assessments for Machine Learning & Statistics.**\n",
    "\n",
    "### **We will be completing four tasks throughout the course of the semester.**\n",
    "\n",
    "### **All tasks will be completed in this Notebook.**\n",
    "\n",
    "<br>\n",
    "<br>\n",
    "<br>\n",
    "<br>"
   ]
  },
  {
   "cell_type": "markdown",
   "metadata": {},
   "source": [
    "# Task 1\n",
    "\n",
    "\n",
    "\n",
    "\n",
    "\n",
    "Write a Python function called sqrt2 that calculates and prints to the screen the square root of 2 to 100 decimal places.\n",
    "\n",
    "Your code should not depend on any module from the standard library1 or otherwise. (By this, you should not import a library.)\n",
    "\n",
    "You should research the task first and include references and a description of your algorithm.\n",
    "\n",
    "![title](Images/image3.png)"
   ]
  },
  {
   "cell_type": "markdown",
   "metadata": {},
   "source": [
    "### Getting started\n",
    "\n",
    "Finding the square root in programming languages is straight forward, as most have mathemathical packages built in, and will calculate it for you. For this task we have to go back to basics and write code that will output the square root of 2 to 100 decimal places.\n",
    "\n",
    "In algebra, a number x, is the result of a number, n, multiplied by itself: x = n²\n",
    "\n",
    "n = 5\n",
    "<br>\n",
    "x = x ** 2 \n",
    "<br>\n",
    "x = 25 \n",
    "\n",
    "The tricky part is displaying the decimal to 100 places. The decimal module in Python will display this for us, but we are asked to try and achieve this without using any of the imported modules.\n",
    "\n",
    "We can calculate the square root of 2 using <a href=\"https://www.math24.net/newtons-method/\">Newton's method.</a>\n",
    "\n",
    "To find the square root of $z$ of $y$:\n",
    "\n",
    "This can be done using the following equation: \n",
    "\n",
    "$$ z = z - \\frac{z^2 - y} {2z}$$"
   ]
  },
  {
   "cell_type": "markdown",
   "metadata": {},
   "source": [
    "This was the first method, and is only out-putting a certain of amount of deciaml places. Once it gets to 50, it outputs zeros. This has to do with using floating point numbers instead of integers."
   ]
  },
  {
   "cell_type": "code",
   "execution_count": 1,
   "metadata": {},
   "outputs": [
    {
     "name": "stdout",
     "output_type": "stream",
     "text": [
      "1.4142135623730951454746218587388284504413604736328125000000000000000000000000000000000000000000000000\n"
     ]
    }
   ],
   "source": [
    "# Code adapted from Stackoverflow.\n",
    "\n",
    "\n",
    "def sqrt(y): # Calculate square root of value y.\n",
    "    z = y / 2 # Initial guess of square root z.\n",
    "    \n",
    "    # Create while loop until accurate.\n",
    "    # While you square z and take it away from y, while it's bigger than 0.000001 and  z squared doesn't agree with z,\n",
    "    # keep looping.\n",
    "    while abs(y - (z * z)) > 0.000001: # abs gives you positive value if it's minus. Can increase accuracy with more decimal places.\n",
    "        z -= (z*z - y) / (2 * z) # Calculates, give us an approx of value.\n",
    "    # Return square root of y.\n",
    "    return z\n",
    "\n",
    "result = 2**(0.5)\n",
    "\n",
    "printResult = format(result, ',.100f') # formats to 100 decimal places when you add the 'f' after .100.\n",
    "print(printResult)"
   ]
  },
  {
   "cell_type": "markdown",
   "metadata": {},
   "source": [
    "### Test function with different values."
   ]
  },
  {
   "cell_type": "code",
   "execution_count": 2,
   "metadata": {
    "scrolled": false
   },
   "outputs": [
    {
     "data": {
      "text/plain": [
       "1.4142135623746899"
      ]
     },
     "execution_count": 2,
     "metadata": {},
     "output_type": "execute_result"
    }
   ],
   "source": [
    "sqrt(2)"
   ]
  },
  {
   "cell_type": "markdown",
   "metadata": {},
   "source": [
    "Here we can check to see f it is correct by multiplying the above output ** 2. "
   ]
  },
  {
   "cell_type": "code",
   "execution_count": 3,
   "metadata": {},
   "outputs": [
    {
     "data": {
      "text/plain": [
       "2.0000000000045106"
      ]
     },
     "execution_count": 3,
     "metadata": {},
     "output_type": "execute_result"
    }
   ],
   "source": [
    "1.4142135623746899 ** 2"
   ]
  },
  {
   "cell_type": "code",
   "execution_count": 4,
   "metadata": {},
   "outputs": [
    {
     "data": {
      "text/plain": [
       "3.0000000000393214"
      ]
     },
     "execution_count": 4,
     "metadata": {},
     "output_type": "execute_result"
    }
   ],
   "source": [
    "sqrt(9)"
   ]
  },
  {
   "cell_type": "markdown",
   "metadata": {},
   "source": [
    "### Output 100 decimal places with correct values.\n",
    "\n",
    "Above we found the square root of two without the use of libraries, but was only formatting 50 decimal places, then the remainder was all zero's. Now we use must get the output of 100 decimal places, to produce values instead of zero's after 50 places.\n",
    "\n",
    "Here is one solution which was on <a href=\"https://www.math24.net/newtons-method/\">Stackoverflow.</a>"
   ]
  },
  {
   "cell_type": "code",
   "execution_count": 5,
   "metadata": {
    "scrolled": true
   },
   "outputs": [
    {
     "name": "stdout",
     "output_type": "stream",
     "text": [
      "1.4142135623730950488016887242096980785696718753769480731766797379907324784621070388503875343276415727\n"
     ]
    }
   ],
   "source": [
    "# Code adapted from Stackoverflow.\n",
    "# https://stackoverflow.com/questions/64278117/is-there-a-way-to-create-more-decimal-points-on-python-without-importing-a-libra\n",
    "\n",
    "x = 2 * 10 ** 200\n",
    "\n",
    "r = x\n",
    "\n",
    "def test_diffs(x, r):\n",
    "    d0 = abs(x - r**2)\n",
    "    dm = abs(x - (r-1)**2)\n",
    "    dp = abs(x - (r+1)**2)\n",
    "    minimised = d0 <= dm and d0 <= dp\n",
    "    below_min = dp < dm\n",
    "    return minimised, below_min\n",
    "\n",
    "while True:\n",
    "    oldr = r\n",
    "    r = (r + x // r) // 2\n",
    "\n",
    "    minimised, below_min = test_diffs(x, r)\n",
    "    if minimised:\n",
    "        break\n",
    "\n",
    "    if r == oldr:\n",
    "        if below_min:\n",
    "            r += 1\n",
    "        else:\n",
    "            r -= 1\n",
    "        minimised, _ = test_diffs(x, r)\n",
    "        if minimised:\n",
    "            break\n",
    "\n",
    "print(f'{r // 10**100}.{r % 10**100:0100d}') # formating decimal places, 1st part 10**100 is the integer, 2nd modulo remainder."
   ]
  },
  {
   "cell_type": "markdown",
   "metadata": {},
   "source": [
    "**Here we can check the square root of two using another method, to confirm that our code above is correct.**"
   ]
  },
  {
   "cell_type": "code",
   "execution_count": null,
   "metadata": {},
   "outputs": [],
   "source": [
    "number = int(input(\"Please enter a number: \"))\n",
    "sqrt = number ** 0.5 # calculates the square root of user input.\n",
    "print(\"The square root is:\", sqrt)"
   ]
  },
  {
   "cell_type": "markdown",
   "metadata": {},
   "source": [
    "#### Import math to compare results."
   ]
  },
  {
   "cell_type": "code",
   "execution_count": null,
   "metadata": {
    "scrolled": true
   },
   "outputs": [],
   "source": [
    "import math\n",
    "print(math.sqrt(2))"
   ]
  },
  {
   "cell_type": "markdown",
   "metadata": {},
   "source": [
    "### Here we can find square root on graph."
   ]
  },
  {
   "cell_type": "code",
   "execution_count": null,
   "metadata": {
    "scrolled": true
   },
   "outputs": [],
   "source": [
    "import numpy as np \n",
    "import matplotlib.pyplot as plt\n",
    "import seaborn as sns # makes plot look nicer\n",
    "\n",
    "# Data for x and y axis\n",
    "x = np.linspace(0.0, 10.0, 1000)\n",
    "y = np.sqrt(x)\n",
    "\n",
    "plt.plot(x, y)\n",
    "\n",
    "# Label graph\n",
    "plt.xlabel('Square Root')\n",
    "plt.ylabel('')\n",
    "plt.title('Square root of 2 for example = 1.4')\n",
    "\n",
    "\n",
    "plt.show()\n"
   ]
  },
  {
   "cell_type": "markdown",
   "metadata": {},
   "source": [
    "## References\n",
    "\n",
    "Learn Python, 2020, Statistics and Machine Learning compared, viewed on 2019/10/12, available online at: https://pythonprogramminglanguage.com/what-is-the-difference-between-statistics-and-machine-learning/\n",
    "\n",
    "Real Python, 2019, The Python Square Root Function, viewed on 2019/10/12, available online at: https://realpython.com/python-square-root-function/\n",
    "\n",
    "Data Flair, 2020, Python repr Function With Example, viewed on 2019/10/12, available online at: https://data-flair.training/blogs/python-repr-function/\n",
    "\n",
    "Newton's method, 2020, Math24, viewed on 2019/10/13, available online at: https://www.math24.net/newtons-method/\n",
    "\n",
    "MathJax, 2020, Writing Mathematics for MathJax, viewed on 2019/10/13, available online at: https://www.mathjax.org/\n",
    "\n",
    "Reddit, 2020, How to square root of two without using libraries, viewed on 2019/10/02 vailable online at: https://www.reddit.com/r/AskProgramming/comments/j8mwxr/how_to_get_the_square_root_of_a_number_to_100/\n",
    "\n",
    "Random ASCII, Float Precision–From Zero to 100+ Digits, 2012, viewed on 2019/10/02 vailable online at: https://randomascii.wordpress.com/2012/03/08/float-precisionfrom-zero-to-100-digits-2/ \n",
    "\n",
    "Stackoverflow, How to get the square root of a number to 100 decimal places without using any libraries or modules, 2020, viewed on 2019/10/02 vailable online at: https://stackoverflow.com/questions/64295245/how-to-get-the-square-root-of-a-number-to-100-decimal-places-without-using-any-l \n",
    "\n",
    "Real Python, The Python Square Root in mathemathics, 2019, viewed on 2019/11/20 vailable online at: https://realpython.com/python-square-root-function/\n",
    "\n",
    "Python, Decimal fixed point and floating point arithmetic, 2020, viewed on 2019/11/20 vailable online at: https://docs.python.org/2/library/decimal.html"
   ]
  },
  {
   "cell_type": "markdown",
   "metadata": {},
   "source": [
    "# Task 2\n",
    "\n",
    "The Chi-squared test for independence is a statistical\n",
    "hypothesis test like a t-test. It is used to analyse whether two categorical variables\n",
    "are independent.\n",
    "\n",
    "The Wikipedia article gives the table below as an example [4],\n",
    "stating the Chi-squared value based on it is approximately 24.6.\n",
    "\n",
    "Use scipy.stats to verify this value and calculate the associated p value. You should include a short note with references justifying your analysis in a markdown cell.\n",
    "\n",
    "![title](Images/image4.png)"
   ]
  },
  {
   "cell_type": "markdown",
   "metadata": {},
   "source": [
    "### Chi-Squared Test\n",
    "\n",
    "**What Is a T-Test?**\n",
    "\n",
    "A t-test is a type of inferential statistic used to determine if there is a significant difference between the means of two groups, which may be related in certain features. It is mostly used when the data sets, like the data set recorded as the outcome from flipping a coin 100 times, would follow a normal distribution and may have unknown variances. A t-test is used as a hypothesis testing tool, which allows testing of an assumption applicable to a population.\n",
    "\n",
    "A t-test looks at the t-statistic, the t-distribution values, and the degrees of freedom to determine the statistical significance. To conduct a test with three or more means, one must use an analysis of variance.\n",
    "\n",
    "Essentially, a t-test allows us to compare the average values of the two data sets and determine if they came from the same population.\n",
    "\n",
    "$t$-tests are among the most common statistical tests performed in world.\n",
    "\n",
    "This notebook focuses on the practicalities of performing $t$-tests in Python.\n",
    "\n",
    "More information about the $t$-test itself can be found <a href=\"https://statistics.laerd.com/spss-tutorials/independent-t-test-using-spss-statistics.php\">here.</a> \n",
    "\n",
    "**What is the Chi-Square Test?**\n",
    "\n",
    "A <a href=\"https://machinelearningmastery.com/chi-squared-test-for-machine-learning/\">chi-square</a> (χ2) statistic is a test, like the t-test, that measures how a model compares to actual observed data. The data used in calculating a chi-square statistic must be random, raw, mutually exclusive, drawn from independent variables, and drawn from a large enough sample. For example, the results of tossing a fair coin meet these criteria.\n",
    "\n",
    "The Chi-Square test is a statistical procedure used by researchers to examine the differences between categorical variables in the same population. \n",
    "\n",
    "For example, imagine that a research group is interested in whether or not education level and marital status are related for all people in the U.S. \n",
    "\n",
    "After collecting a simple random sample of 500 U.S. citizens, and administering a survey to this sample, the researchers could first manually observe the frequency distribution of marital status and education category within their sample. \n",
    "\n",
    "The researchers could then perform a Chi-Square test to validate or provide additional context for these observed frequencies.\n",
    "\n",
    "\n",
    "\n",
    "Chi-Square **calculation formula** is as follows:\n",
    "\n",
    "\n",
    "![title](Images/image5.png) Source (Investopedia, 2020)\n",
    "\n",
    "**Understanding \"p\" Value**\n",
    "\n",
    "Most people want to see a p value less than 0.05 before they are happy to say the results show the groups have a different response. The \"p\" is the probability the variables are independent. Surveys are random, so we should expect the outcome/results to be slightly different each time. \n",
    "\n",
    "Just say we survey men and women, and their prefernces for dogs based on gender and the result was 0.03. In this case p < 0.05, so this result is thought of as being \"significant\" meaning we think the variables are not independent. We would think that gender is linked to gender preference, men and women have different preferences for male/female dogs.\n",
    "\n",
    "**Calculating Chi-squared Test.**\n",
    "\n",
    "This test only works for categorical data (data in categories), such as Gender {Men, Women} or color {Red, Yellow, Green, Blue} etc, but not numerical data such as height or weight.\n",
    "\n",
    "The numbers must be large enough. Each entry must be 5 or more.\n",
    "\n",
    "Our first step is to state our **hypotheses**: A statement that might be true, which can then be tested.\n",
    "\n",
    "From our table above, suppose there is a city of 1,000,000 residents with four neighborhoods: A, B, C, and D. A random sample of 650 residents of the city is taken and their occupation is recorded as “white collar”, “blue collar”, or “no collar”. The null hypothesis is that each person’s neighborhood of residence is independent of the person’s occupational classification.\n",
    "\n",
    "**The two hypotheses are.**\n",
    "Neighbourhood and preference for collar are independent.\n",
    "Neighbourhood and preference for collar are not independent.\n",
    "\n",
    "Lay the data out in a table, add up the rows and columns, and calculate the Expected Value for each entry(Multiply each row total by each column total and divide by the overall total). See code below to see how calculation is done. \n",
    "\n",
    "We will perform the test using Python’s SciPy module."
   ]
  },
  {
   "cell_type": "markdown",
   "metadata": {},
   "source": [
    "### Import Packages"
   ]
  },
  {
   "cell_type": "code",
   "execution_count": 8,
   "metadata": {},
   "outputs": [],
   "source": [
    "import numpy as np # creates large numerical arrays.\n",
    "import pandas as pd # Creates dataframes and structures built from Numpy arrays\n",
    "import statsmodels.stats.weightstats as stat # Stats modles\n",
    "\n",
    "## Scipy.stats is the only library you need to doa t-test.\n",
    "import scipy.stats as stats # This module contains a large number of probability distributions as well as a growing library of stat functions\n",
    "import matplotlib.pyplot as plt # Displays plots\n",
    "import seaborn as sns # higher level plots, which gives more insight into datasets\n",
    "from scipy.stats import chi2_contingency \n"
   ]
  },
  {
   "cell_type": "markdown",
   "metadata": {},
   "source": [
    "**Contingency Table**"
   ]
  },
  {
   "cell_type": "code",
   "execution_count": 3,
   "metadata": {
    "scrolled": false
   },
   "outputs": [
    {
     "data": {
      "text/html": [
       "<div>\n",
       "<style scoped>\n",
       "    .dataframe tbody tr th:only-of-type {\n",
       "        vertical-align: middle;\n",
       "    }\n",
       "\n",
       "    .dataframe tbody tr th {\n",
       "        vertical-align: top;\n",
       "    }\n",
       "\n",
       "    .dataframe thead th {\n",
       "        text-align: right;\n",
       "    }\n",
       "</style>\n",
       "<table border=\"1\" class=\"dataframe\">\n",
       "  <thead>\n",
       "    <tr style=\"text-align: right;\">\n",
       "      <th></th>\n",
       "      <th>A</th>\n",
       "      <th>B</th>\n",
       "      <th>C</th>\n",
       "      <th>D</th>\n",
       "    </tr>\n",
       "  </thead>\n",
       "  <tbody>\n",
       "    <tr>\n",
       "      <th>White Collar</th>\n",
       "      <td>90</td>\n",
       "      <td>60</td>\n",
       "      <td>104</td>\n",
       "      <td>95</td>\n",
       "    </tr>\n",
       "    <tr>\n",
       "      <th>Blue Collar</th>\n",
       "      <td>30</td>\n",
       "      <td>50</td>\n",
       "      <td>51</td>\n",
       "      <td>20</td>\n",
       "    </tr>\n",
       "    <tr>\n",
       "      <th>No Collar</th>\n",
       "      <td>30</td>\n",
       "      <td>40</td>\n",
       "      <td>45</td>\n",
       "      <td>35</td>\n",
       "    </tr>\n",
       "  </tbody>\n",
       "</table>\n",
       "</div>"
      ],
      "text/plain": [
       "               A   B    C   D\n",
       "White Collar  90  60  104  95\n",
       "Blue Collar   30  50   51  20\n",
       "No Collar     30  40   45  35"
      ]
     },
     "execution_count": 3,
     "metadata": {},
     "output_type": "execute_result"
    }
   ],
   "source": [
    "# Create df\n",
    "data = np.array([[90, 60, 104, 95],[30, 50, 51, 20],[30, 40, 45, 35]])    \n",
    "df = pd.DataFrame(data, columns=[\"A\", \"B\", \"C\", \"D\"]) # label cols\n",
    "df.index = [\"White Collar\", \"Blue Collar\", 'No Collar'] # label rows\n",
    "df"
   ]
  },
  {
   "cell_type": "markdown",
   "metadata": {},
   "source": [
    "Create a csv and read it in this way."
   ]
  },
  {
   "cell_type": "code",
   "execution_count": 4,
   "metadata": {
    "scrolled": false
   },
   "outputs": [
    {
     "data": {
      "text/html": [
       "<div>\n",
       "<style scoped>\n",
       "    .dataframe tbody tr th:only-of-type {\n",
       "        vertical-align: middle;\n",
       "    }\n",
       "\n",
       "    .dataframe tbody tr th {\n",
       "        vertical-align: top;\n",
       "    }\n",
       "\n",
       "    .dataframe thead th {\n",
       "        text-align: right;\n",
       "    }\n",
       "</style>\n",
       "<table border=\"1\" class=\"dataframe\">\n",
       "  <thead>\n",
       "    <tr style=\"text-align: right;\">\n",
       "      <th></th>\n",
       "      <th>Area</th>\n",
       "      <th>A</th>\n",
       "      <th>B</th>\n",
       "      <th>C</th>\n",
       "      <th>D</th>\n",
       "    </tr>\n",
       "  </thead>\n",
       "  <tbody>\n",
       "    <tr>\n",
       "      <th>0</th>\n",
       "      <td>White Collar</td>\n",
       "      <td>90</td>\n",
       "      <td>60</td>\n",
       "      <td>104</td>\n",
       "      <td>95</td>\n",
       "    </tr>\n",
       "    <tr>\n",
       "      <th>1</th>\n",
       "      <td>Blue Collar</td>\n",
       "      <td>30</td>\n",
       "      <td>50</td>\n",
       "      <td>51</td>\n",
       "      <td>20</td>\n",
       "    </tr>\n",
       "    <tr>\n",
       "      <th>2</th>\n",
       "      <td>No Collar</td>\n",
       "      <td>30</td>\n",
       "      <td>40</td>\n",
       "      <td>45</td>\n",
       "      <td>35</td>\n",
       "    </tr>\n",
       "  </tbody>\n",
       "</table>\n",
       "</div>"
      ],
      "text/plain": [
       "           Area   A   B    C   D\n",
       "0  White Collar  90  60  104  95\n",
       "1   Blue Collar  30  50   51  20\n",
       "2     No Collar  30  40   45  35"
      ]
     },
     "execution_count": 4,
     "metadata": {},
     "output_type": "execute_result"
    }
   ],
   "source": [
    "df = pd.read_csv(\"Collar.csv\")\n",
    "df"
   ]
  },
  {
   "cell_type": "markdown",
   "metadata": {},
   "source": [
    "**Row/Column Totals.**"
   ]
  },
  {
   "cell_type": "code",
   "execution_count": 9,
   "metadata": {
    "scrolled": true
   },
   "outputs": [
    {
     "data": {
      "text/html": [
       "<div>\n",
       "<style scoped>\n",
       "    .dataframe tbody tr th:only-of-type {\n",
       "        vertical-align: middle;\n",
       "    }\n",
       "\n",
       "    .dataframe tbody tr th {\n",
       "        vertical-align: top;\n",
       "    }\n",
       "\n",
       "    .dataframe thead th {\n",
       "        text-align: right;\n",
       "    }\n",
       "</style>\n",
       "<table border=\"1\" class=\"dataframe\">\n",
       "  <thead>\n",
       "    <tr style=\"text-align: right;\">\n",
       "      <th></th>\n",
       "      <th>Area</th>\n",
       "      <th>A</th>\n",
       "      <th>B</th>\n",
       "      <th>C</th>\n",
       "      <th>D</th>\n",
       "      <th>Row Total</th>\n",
       "    </tr>\n",
       "  </thead>\n",
       "  <tbody>\n",
       "    <tr>\n",
       "      <th>0</th>\n",
       "      <td>White Collar</td>\n",
       "      <td>90.0</td>\n",
       "      <td>60.0</td>\n",
       "      <td>104.0</td>\n",
       "      <td>95.0</td>\n",
       "      <td>349.0</td>\n",
       "    </tr>\n",
       "    <tr>\n",
       "      <th>1</th>\n",
       "      <td>Blue Collar</td>\n",
       "      <td>30.0</td>\n",
       "      <td>50.0</td>\n",
       "      <td>51.0</td>\n",
       "      <td>20.0</td>\n",
       "      <td>151.0</td>\n",
       "    </tr>\n",
       "    <tr>\n",
       "      <th>2</th>\n",
       "      <td>No Collar</td>\n",
       "      <td>30.0</td>\n",
       "      <td>40.0</td>\n",
       "      <td>45.0</td>\n",
       "      <td>35.0</td>\n",
       "      <td>150.0</td>\n",
       "    </tr>\n",
       "    <tr>\n",
       "      <th>Column Total</th>\n",
       "      <td>NaN</td>\n",
       "      <td>150.0</td>\n",
       "      <td>150.0</td>\n",
       "      <td>200.0</td>\n",
       "      <td>150.0</td>\n",
       "      <td>650.0</td>\n",
       "    </tr>\n",
       "  </tbody>\n",
       "</table>\n",
       "</div>"
      ],
      "text/plain": [
       "                      Area      A      B      C      D  Row Total\n",
       "0             White Collar   90.0   60.0  104.0   95.0      349.0\n",
       "1              Blue Collar   30.0   50.0   51.0   20.0      151.0\n",
       "2                No Collar   30.0   40.0   45.0   35.0      150.0\n",
       "Column Total           NaN  150.0  150.0  200.0  150.0      650.0"
      ]
     },
     "execution_count": 9,
     "metadata": {},
     "output_type": "execute_result"
    }
   ],
   "source": [
    "df2 = df.copy() # Contingency table with the row/column and the grand total. \n",
    "df2.loc['Column Total']= df2.sum(numeric_only=True, axis=0) # Sum Col total.\n",
    "df2.loc[:,'Row Total'] = df2.sum(numeric_only=True, axis=1) # Sum Row total.\n",
    "df2"
   ]
  },
  {
   "cell_type": "code",
   "execution_count": 10,
   "metadata": {
    "scrolled": true
   },
   "outputs": [
    {
     "data": {
      "text/plain": [
       "<matplotlib.axes._subplots.AxesSubplot at 0x1c88de36d00>"
      ]
     },
     "execution_count": 10,
     "metadata": {},
     "output_type": "execute_result"
    },
    {
     "data": {
      "image/png": "[encoded data removed]",
      "text/plain": [
       "<Figure size 432x288 with 1 Axes>"
      ]
     },
     "metadata": {
      "needs_background": "light"
     },
     "output_type": "display_data"
    }
   ],
   "source": [
    "df.plot()"
   ]
  },
  {
   "cell_type": "markdown",
   "metadata": {},
   "source": [
    "The table was called a contingency table, by Karl Pearson, because the intent is to help determine whether one variable is contingent upon or depends upon the other variable. For example, does an interest in math or science depend on gender, or are they independent?\n",
    "\n",
    "This is challenging to determine from the table alone; instead, we can use a statistical method called the Pearson’s Chi-Squared test."
   ]
  },
  {
   "cell_type": "markdown",
   "metadata": {},
   "source": [
    "**Chi2_contingency() SciPy function**:\n",
    "\n",
    "The Pearson’s chi-squared test for independence can be calculated in Python using the chi2_contingency() SciPy function.\n",
    "\n",
    "The function takes an array as input representing the contingency table for the two categorical variables. It returns the calculated statistic and p-value for interpretation as well as the calculated degrees of freedom and table of expected frequencies. \n",
    "\n",
    "**Values**: The calculated values.\n",
    "\n",
    "**P**: If the statistic is less than or equal to the critical value, we can fail to reject this assumption, otherwise it can be rejected.\n",
    "\n",
    "Most people want to see a p value less than 0.05 before they are happy to say the results show the groups have a different response. The \"p\" is the probability the variables are independent. Surveys are random, so we should expect the outcome/results to be slightly different each time.\n",
    "\n",
    "**DOF**:\n",
    "The degrees of freedom for the chi-squared distribution is calculated based on the size of the contingency table as: (rows - 1) * (cols - 1) \n",
    "\n",
    "Calculating Degrees of Freedom is key when trying to understand the importance of a Chi-Square statistic and the validity of the null hypothesis.\n",
    "\n",
    "In terms of a p-value and a chosen significance level (alpha), the test can be interpreted as follows:\n",
    "\n",
    "If p-value <= alpha: significant result, reject null hypothesis (H0), dependent.\n",
    "If p-value > alpha: not significant result, fail to reject null hypothesis (H0), independent.\n",
    "For the test to be effective, at least five observations are required in each cell of the contingency table.\n",
    "\n",
    "**Expected**: Now we need to calculate the expected values for each cell in the table and we can do that using the the row total times the column total divided by the grand total (N). For example, for cell a the expected value would be (90+60+104+95)(90+30+30)/N.\n",
    "\n",
    "(Machine Learning Mastery, 2018) "
   ]
  },
  {
   "cell_type": "code",
   "execution_count": 11,
   "metadata": {
    "scrolled": true
   },
   "outputs": [
    {
     "name": "stdout",
     "output_type": "stream",
     "text": [
      "P value for effect of area on proportion of each collar = 0.0004098425861096696\n",
      "The p-value is less than 0.05 and would reject the Null Hypothesis.\n",
      "The neighbourhood and preference for collar are independent.\n",
      "\n",
      "\n",
      "The degree of freedom is: 6\n",
      "\n",
      "\n",
      "Contingency Table\n",
      "                      Area      A      B      C      D  Row Total\n",
      "0             White Collar   90.0   60.0  104.0   95.0      349.0\n",
      "1              Blue Collar   30.0   50.0   51.0   20.0      151.0\n",
      "2                No Collar   30.0   40.0   45.0   35.0      150.0\n",
      "Column Total           NaN  150.0  150.0  200.0  150.0      650.0\n",
      "\n",
      "Expected numbers if area did not effect numbers of each collar vote:\n",
      "[[ 80.53846154  80.53846154 107.38461538  80.53846154]\n",
      " [ 34.84615385  34.84615385  46.46153846  34.84615385]\n",
      " [ 34.61538462  34.61538462  46.15384615  34.61538462]]\n"
     ]
    }
   ],
   "source": [
    "# Code adapted from: https://pythonhealthcare.org/2018/04/13/58-statistics-chi-squared-test/ \n",
    "# V = values, p = probability, dof = degrees of freedom\n",
    "V, p, dof, expected = stats.chi2_contingency(data) \n",
    "\n",
    "\n",
    "# Probability \n",
    "print ('P value for effect of area on proportion of each collar = ' + str(p))\n",
    "\n",
    "\n",
    "# if statement for p value if less than .05\n",
    "if p < 0.05:\n",
    "    print(\"The p-value is less than 0.05 and would reject the Null Hypothesis.\")\n",
    "print(\"The neighbourhood and preference for collar are independent.\")\n",
    "print ('\\n')\n",
    "\n",
    "# Print degree of freedom using function above we created. \n",
    "print(\"The degree of freedom is: \" + str(dof))\n",
    "\n",
    "print ('\\n')\n",
    "\n",
    "print(\"Contingency Table\")\n",
    "print (df2) # prints data from table above\n",
    "\n",
    "    \n",
    "print ('\\nExpected numbers if area did not effect numbers of each collar vote:')\n",
    "print (expected) # displays figures "
   ]
  },
  {
   "cell_type": "markdown",
   "metadata": {},
   "source": [
    "**Scipy.stats.chi2_contingency function.**\n",
    "\n",
    "This function computes the chi-square statistic and p-value for the hypothesis test of independence of the observed frequencies in the contingency table. The expected frequencies are computed based on the marginal sums under the assumption of independence. (Scipy.org, 2020)"
   ]
  },
  {
   "cell_type": "code",
   "execution_count": 7,
   "metadata": {
    "scrolled": true
   },
   "outputs": [
    {
     "ename": "NameError",
     "evalue": "name 'tstat_scipy' is not defined",
     "output_type": "error",
     "traceback": [
      "\u001b[1;31m---------------------------------------------------------------------------\u001b[0m",
      "\u001b[1;31mNameError\u001b[0m                                 Traceback (most recent call last)",
      "\u001b[1;32m<ipython-input-7-bd8d95e2e01e>\u001b[0m in \u001b[0;36m<module>\u001b[1;34m\u001b[0m\n\u001b[0;32m      1\u001b[0m \u001b[1;32mfrom\u001b[0m \u001b[0mscipy\u001b[0m\u001b[1;33m.\u001b[0m\u001b[0mstats\u001b[0m \u001b[1;32mimport\u001b[0m \u001b[0mchi2_contingency\u001b[0m \u001b[1;31m# Import Scipy's built-in function\u001b[0m\u001b[1;33m\u001b[0m\u001b[1;33m\u001b[0m\u001b[0m\n\u001b[0;32m      2\u001b[0m \u001b[1;33m\u001b[0m\u001b[0m\n\u001b[1;32m----> 3\u001b[1;33m \u001b[0mprint\u001b[0m\u001b[1;33m(\u001b[0m\u001b[1;34m\"Chi-squared test value based on it is approximately: \"\u001b[0m \u001b[1;33m+\u001b[0m \u001b[0mstr\u001b[0m\u001b[1;33m(\u001b[0m\u001b[0mtstat_scipy\u001b[0m\u001b[1;33m)\u001b[0m\u001b[1;33m)\u001b[0m\u001b[1;33m\u001b[0m\u001b[1;33m\u001b[0m\u001b[0m\n\u001b[0m\u001b[0;32m      4\u001b[0m \u001b[0mprint\u001b[0m\u001b[1;33m(\u001b[0m\u001b[1;34m\"This has confirmed the value which was given to us at the beginning. \"\u001b[0m\u001b[1;33m)\u001b[0m\u001b[1;33m\u001b[0m\u001b[1;33m\u001b[0m\u001b[0m\n\u001b[0;32m      5\u001b[0m \u001b[1;33m\u001b[0m\u001b[0m\n",
      "\u001b[1;31mNameError\u001b[0m: name 'tstat_scipy' is not defined"
     ]
    }
   ],
   "source": [
    "from scipy.stats import chi2_contingency # Import Scipy's built-in function \n",
    " \n",
    "print(\"Chi-squared test value based on it is approximately: \" + str(tstat_scipy))\n",
    "print(\"This has confirmed the value which was given to us at the beginning. \")\n",
    "\n",
    "# (Scipy.org, 2020) "
   ]
  },
  {
   "cell_type": "markdown",
   "metadata": {},
   "source": [
    "## References\n",
    "\n",
    "Alchemer, What is the Chi-squared Test, 2020, viewed on 2019/11/20 vailable online at: https://www.alchemer.com/resources/blog/introduction-to-chi-square-test-and-when-to-use-it/\n",
    "\n",
    "Investopedia, Chi-Square (χ2) Statistic Definition, 2020, viewed on 2019/11/20 vailable online at: https://www.investopedia.com/terms/c/chi-square-statistic.asp \n",
    "\n",
    "Statistics by Jim, How t-Tests Work: t-Values, t-Distributions, and Probabilities, viewed on 2019/11/20 vailable online at: https://statisticsbyjim.com/hypothesis-testing/t-tests-t-values-t-distributions-probabilities/\n",
    "\n",
    "Machine Learning Mastery, A Gentle Introduction to the Chi-Squared Test for Machine Learning, 2018, viewed on 2019/11/23 vailable online at: https://machinelearningmastery.com/chi-squared-test-for-machine-learning/ \n",
    "\n",
    "Python, Statistics: Chi-squared test, 2018, viewed on 2019/11/23 vailable online at: https://pythonhealthcare.org/2018/04/13/58-statistics-chi-squared-test/\n",
    "\n",
    "SciPy.org, scipy.stats.chi2_contingency, 2020, viewed on 2019/11/23 vailable online at:https://docs.scipy.org/doc/scipy/reference/generated/scipy.stats.chi2_contingency.html"
   ]
  },
  {
   "cell_type": "markdown",
   "metadata": {},
   "source": [
    "# Task 3\n",
    "\n",
    "\n",
    "\n",
    "**The standard deviation** of an array of numbers x is calculated using numpy as np.sqrt(np.sum((x - np.mean(x))**2)/len(x)).\n",
    "\n",
    "However, Microsoft Excel has two different versions of the standard deviation calculation, STDEV.P and STDEV.S. The STDEV.P function performs the above calculation but in the STDEV.S calculation the division is by len(x)-1 rather than len(x).\n",
    "\n",
    "Research these Excel functions, writing a note in a Markdown cell about the difference between them. Then use numpy to perform a simulation demonstrating that the STDEV.S calculation is a better estimate for the standard deviation of a population when performed on a sample. \n",
    "\n",
    "Note that part of this task is to figure out the terminology in the previous sentence.\n",
    "\n",
    "### What is standard deviation?\n",
    "\n",
    "![title](Images/image13.png)\n",
    "\n",
    "The standard deviation is a measure that indicates how much the values of the set of data deviate (spread out) from the mean. To put it differently, the standard deviation shows whether your data is close to the mean or fluctuates a lot.\n",
    "\n",
    "The purpose of the standard deviation is to help you understand if the mean really returns a \"typical\" data. The closer the standard deviation is to zero, the lower the data variability and the more reliable the mean is. The standard deviation equal to 0 indicates that every value in the dataset is exactly equal to the mean. The higher the standard deviation, the more variation there is in the data and the less accurate the mean is.\n",
    "\n",
    "For example, say we have ten students in Chemistry, the average is 70, and the standard deviation is six. This means no result was more than six points away from the average, meaning all the students performed well and results were consistent and close to each others. Standard deviation would be used quite often by business//investment analysts as a measure of risk. The higher the STD, the higher the volatility, this would deem it unattractive to invest or trade on. ()\n",
    "\n",
    "![title](Images/image7.png)\n",
    "\n",
    "**Sample standard deviation vs. Population standard deviation**\n",
    "\n",
    "In relation to standard deviation, you may often hear the terms \"sample\" and \"population\", which refer to the completeness of the data you are working with. The main difference is as follows:\n",
    "\n",
    "- **Population** includes all of the elements from a data set. If the data is being considered a population on its own, we divide by the number of data points, N.\n",
    "\n",
    "![title](Images/image8.png)\n",
    "\n",
    "- Step 1: Calculate the mean of the data—this is μ in the formula.\n",
    "- Step 2: Subtract the mean from each data point. These differences are called deviations. Data points below the mean will have           negative deviations, and data points above the mean will have positive deviations.\n",
    "- Step 3: Square each deviation to make it positive.\n",
    "- Step 4: Add the squared deviations together.\n",
    "- Step 5: Divide the sum by the number of data points in the population. The result is called the variance.\n",
    "- Step 6: Take the square root of the variance to get the standard deviation.\n",
    "\n",
    "<br>\n",
    "<br>\n",
    "\n",
    "- **Sample** is a subset of data that includes one or more elements from the population. If the data is a sample from a larger population, we divide by one fewer than the number of data points in the sample, n-1n−1n, minus, 1. \n",
    "\n",
    "![title](Images/image9.png) \n",
    "\n",
    "- Step 1: Calculate the mean of the data — this is the line over the x in the formula. \n",
    "- Step 2: Subtract the mean from each data point. These differences are called deviations. Data points below the mean will have           negative deviations, and data points above the mean will have positive deviations.\n",
    "- Step 3: Square each deviation to make it positive.\n",
    "- Step 4: Add the squared deviations together.\n",
    "- Step 5: Divide the sum by one less than the number of data points in the sample. The result is called the variance.\n",
    "- Step 6: Take the square root of the variance to get the standard deviation.\n",
    "\n",
    "\n",
    "The steps in each formula are all the same except for one, we divide by one less than the number of data points when dealing with sample data. A quick video will explain the logic behind it <a href=\"https://statistics.laerd.com/spss-tutorials/independent-t-test-using-spss-statistics.php\">here.</a> \n",
    "\n",
    "Researchers and analysists operate on the standard deviation of a sample and population in different situations. For example, when summarizing the exam scores of a class of students, a teacher will use the population standard deviation. Statisticians calculating the national SAT average score would use a sample standard deviation because they are presented with the data from a sample only, not from the entire population.(Exceltip, 2019)\n",
    "\n",
    "\n",
    "#### Now we will run through all the steps using an example to hopefully make it clearer. \n",
    "\n",
    "**Sample Data:**\n",
    "- xi are individual values in the set of data.\n",
    "- x is the mean of all x values.\n",
    "- n is the total number of x values in the data set.\n",
    "\n",
    "![title](Images/image10.png)\n",
    "\n",
    "\n",
    "- **Step 1.** Calculate the mean or average. \n",
    "\n",
    "(1+2+4+5+6+8+9)/7=5 \n",
    "\n",
    "- **Step 2.** For each number, subtract the mean and square the result.\n",
    "\n",
    "This is the part of the standard deviation formula that says: (xi - x)2. In this example, the mean is 5, so we calculate the difference between each data point and 5.\n",
    "\n",
    "![title](Images/image11.png)\n",
    "\n",
    "- **Step 3.** \n",
    "Add up squared differences\n",
    "\n",
    "To say \"sum things up\" in mathematics, you use sigma Σ. So, what we do now is add up the squared differences to complete this part of the formula: Σ(xi - x)2.\n",
    "\n",
    "16 + 9 + 1 + 1 + 9 + 16 = 52\n",
    "\n",
    "- **Step 4.**\n",
    "\n",
    "Divide the total squared differences by the count of values\n",
    "So far, the sample standard deviation and population standard deviation formulas have been identical. At this point, they are different.\n",
    "\n",
    "For the sample standard deviation, you get the sample variance by dividing the total squared differences by the sample size minus 1:\n",
    "\n",
    "52 / (7-1) = 8.67\n",
    "\n",
    "For the population standard deviation, you find the mean of squared differences by dividing the total squared differences by their count:\n",
    "\n",
    "52 / 7 = 7.43\n",
    "\n",
    "Why this difference in the formulas? Because in the sample standard deviation formula, you need to correct the bias in the estimation of a sample mean instead of the true population mean. And you do this by using n - 1 instead of n, which is called Bessel's correction.\n",
    "\n",
    "- **Step 5.** \n",
    "Take the square root\n",
    "Finally, take the square root of the above numbers, and you will get your standard deviation (in the below equations, rounded to 2 decimal places):\n",
    "\n",
    "![title](Images/image12.png)\n",
    "\n",
    "If we plot a graph with on 1 to 100 with this standard deviation, the standard deviation graph will look like something this.\n",
    "\n",
    "![title](Images/image13.png)\n",
    "\n",
    "If we calculate standard deviation using STDEV.P it will be slightly less. It will be 19.7.\n",
    "\n",
    "The result of STDEV.S always greater than STDEV.P’s result on same data. You can see in below graph that standard deviation of sample is more spread than standard deviation of population.\n",
    "\n",
    "\n",
    "![title](Images/image6.png) Source (Exceltip, 2020)\n"
   ]
  },
  {
   "cell_type": "markdown",
   "metadata": {},
   "source": [
    "**Excel's STDEV** calculates the sample standard deviation(STDEV.S), while NumPy's stdev calculates the population standard deviation by default (it is behaving like Excel's STDEV.P).\n",
    "\n",
    "To make NumPy's std function behave like Excel's STDEV, pass in the value ddof=1:\n",
    "\n",
    "np.std(s, ddof=1)\n",
    "\n",
    "This calculates the standard deviation of s using the sample variance (i.e. dividing by n-1 rather than n.)"
   ]
  },
  {
   "cell_type": "markdown",
   "metadata": {},
   "source": [
    "**Calculate below the standard deviation of the population using STDEV.P**"
   ]
  },
  {
   "cell_type": "code",
   "execution_count": 9,
   "metadata": {
    "scrolled": true
   },
   "outputs": [
    {
     "data": {
      "text/plain": [
       "2.9832867780352594"
      ]
     },
     "execution_count": 9,
     "metadata": {},
     "output_type": "execute_result"
    }
   ],
   "source": [
    "x = ([9,2,5,4,12,7,8,11,9,3,7,4,12,5,4,10,9,6,9,4])\n",
    "np.sqrt(np.sum((x - np.mean(x))**2)/len(x))"
   ]
  },
  {
   "cell_type": "markdown",
   "metadata": {},
   "source": [
    "**Calculate below the standard deviation of the population using STDEV.S**"
   ]
  },
  {
   "cell_type": "code",
   "execution_count": 10,
   "metadata": {},
   "outputs": [
    {
     "data": {
      "text/plain": [
       "2.8106938645110393"
      ]
     },
     "execution_count": 10,
     "metadata": {},
     "output_type": "execute_result"
    }
   ],
   "source": [
    "x = ([9,2,5,4,12,7,8,11,9,3,7,4,12,5,4,10,9,6,9,4])\n",
    "np.sqrt(np.sum((x - np.mean(x))**2)/len(x)-1)"
   ]
  },
  {
   "cell_type": "markdown",
   "metadata": {},
   "source": [
    "## References \n",
    "\n",
    "\n",
    "Ablebits, How to calculate standard deviation in Excel, 2020, viewed on 2019/11/24 vailable online at:https://www.ablebits.com/office-addins-blog/2017/05/31/calculate-standard-deviation-excel/\n",
    "\n",
    "Exceltip, How to use the STDEV.S Function in Excel, 2019, viewed on 2019/11/24 vailable online at:https://www.exceltip.com/statistical-formulas/how-to-use-stdev-s-function-in-excel.html\n",
    "\n",
    "Khan Academy, Population and sample standard deviation, 2020 viewed on 2019/11/24 vailable online at:https://www.khanacademy.org/math/statistics-probability/summarizing-quantitative-data/variance-standard-deviation-sample/a/population-and-sample-standard-deviation-review"
   ]
  }
 ],
 "metadata": {
  "kernelspec": {
   "display_name": "Python 3",
   "language": "python",
   "name": "python3"
  },
  "language_info": {
   "codemirror_mode": {
    "name": "ipython",
    "version": 3
   },
   "file_extension": ".py",
   "mimetype": "text/x-python",
   "name": "python",
   "nbconvert_exporter": "python",
   "pygments_lexer": "ipython3",
   "version": "3.8.3"
  }
 },
 "nbformat": 4,
 "nbformat_minor": 4
}
