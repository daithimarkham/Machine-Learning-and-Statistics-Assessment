{
 "cells": [
  {
   "cell_type": "markdown",
   "metadata": {},
   "source": [
    "![title](Images/image2.png)\n",
    "<br>\n",
    "<br>\n",
    "\n",
    "![title](Images/image1.png)\n",
    "<br>\n",
    "# <center>Machine Learning and Statistics Tasks</center>\n",
    "\n",
    "\n",
    "### **A Jupyter Notebook containing assessments for Machine Learning & Statistics.**\n",
    "\n",
    "### **We will be completing four tasks throughout the course of the semester.**\n",
    "\n",
    "### **All tasks will be completed in this Notebook.**\n",
    "\n",
    "<br>\n",
    "<br>\n",
    "<br>\n",
    "<br>\n",
    "\n",
    "# Task 1\n",
    "\n",
    "\n",
    "\n",
    "\n",
    "\n",
    "Write a Python function called sqrt2 that calculates and prints to the screen the square root of 2 to 100 decimal places.\n",
    "\n",
    "Your code should not depend on any module from the standard library1 or otherwise. (By this, you should not import a library.)\n",
    "\n",
    "You should research the task first and include references and a description of your algorithm.\n",
    "\n",
    "![title](Images/image3.png)\n",
    "\n",
    "### Getting started\n",
    "\n",
    "Finding the square root in programming languages is straight forward, as most have mathemathical packages built in, and will calculate it for you. For this task we have to go back to basics and write code that will output the square root of 2 to 100 decimal places.\n",
    "\n",
    "In algebra, a number x, is the result of a number, n, multiplied by itself: x = n²\n",
    "\n",
    "n = 5\n",
    "<br>\n",
    "x = x ** 2 \n",
    "<br>\n",
    "x = 25 \n",
    "\n",
    "The tricky part is displaying the decimal to 100 places. The decimal module in Python will display this for us, but we are asked to try and achieve this without using any of the imported modules.\n",
    "\n",
    "We can calculate the square root of 2 using <a href=\"https://www.math24.net/newtons-method/\">Newton's method.</a>\n",
    "\n",
    "To find the square root of $z$ of $y$:\n",
    "\n",
    "This can be done using the following equation: \n",
    "\n",
    "$$ z = z - \\frac{z^2 - y} {2z}$$"
   ]
  },
  {
   "cell_type": "markdown",
   "metadata": {},
   "source": [
    "This was the first method, and is only out-putting a certain of amount of deciaml places. Once it gets to 50, it outputs zeros. This has to do with using floating point numbers instead of integers."
   ]
  },
  {
   "cell_type": "code",
   "execution_count": 1,
   "metadata": {},
   "outputs": [
    {
     "name": "stdout",
     "output_type": "stream",
     "text": [
      "1.4142135623730951454746218587388284504413604736328125000000000000000000000000000000000000000000000000\n"
     ]
    }
   ],
   "source": [
    "# Code adapted from Stackoverflow.\n",
    "\n",
    "\n",
    "def sqrt(y): # Calculate square root of value y.\n",
    "    z = y / 2 # Initial guess of square root z.\n",
    "    \n",
    "    # Create while loop until accurate.\n",
    "    # While you square z and take it away from y, while it's bigger than 0.000001 and  z squared doesn't agree with z,\n",
    "    # keep looping.\n",
    "    while abs(y - (z * z)) > 0.000001: # abs gives you positive value if it's minus. Can increase accuracy with more decimal places.\n",
    "        z -= (z*z - y) / (2 * z) # Calculates, give us an approx of value.\n",
    "    # Return square root of y.\n",
    "    return z\n",
    "\n",
    "result = 2**(0.5)\n",
    "\n",
    "printResult = format(result, ',.100f') # formats to 100 decimal places when you add the 'f' after .100.\n",
    "print(printResult)"
   ]
  },
  {
   "cell_type": "markdown",
   "metadata": {},
   "source": [
    "### Test function with different values."
   ]
  },
  {
   "cell_type": "code",
   "execution_count": 2,
   "metadata": {
    "scrolled": false
   },
   "outputs": [
    {
     "data": {
      "text/plain": [
       "1.4142135623746899"
      ]
     },
     "execution_count": 2,
     "metadata": {},
     "output_type": "execute_result"
    }
   ],
   "source": [
    "sqrt(2)"
   ]
  },
  {
   "cell_type": "markdown",
   "metadata": {},
   "source": [
    "Here we can check to see f it is correct by multiplying the above output ** 2. "
   ]
  },
  {
   "cell_type": "code",
   "execution_count": 3,
   "metadata": {},
   "outputs": [
    {
     "data": {
      "text/plain": [
       "2.0000000000045106"
      ]
     },
     "execution_count": 3,
     "metadata": {},
     "output_type": "execute_result"
    }
   ],
   "source": [
    "1.4142135623746899 ** 2"
   ]
  },
  {
   "cell_type": "code",
   "execution_count": 4,
   "metadata": {},
   "outputs": [
    {
     "data": {
      "text/plain": [
       "3.0000000000393214"
      ]
     },
     "execution_count": 4,
     "metadata": {},
     "output_type": "execute_result"
    }
   ],
   "source": [
    "sqrt(9)"
   ]
  },
  {
   "cell_type": "markdown",
   "metadata": {},
   "source": [
    "### Output 100 decimal places with correct values.\n",
    "\n",
    "Above we found the square root of two without the use of libraries, but was only formatting 50 decimal places, then the remainder was all zero's. Now we use must get the output of 100 decimal places, to produce values instead of zero's after 50 places.\n",
    "\n",
    "Here is one solution which was on <a href=\"https://www.math24.net/newtons-method/\">Stackoverflow.</a>"
   ]
  },
  {
   "cell_type": "code",
   "execution_count": 5,
   "metadata": {
    "scrolled": true
   },
   "outputs": [
    {
     "name": "stdout",
     "output_type": "stream",
     "text": [
      "1.4142135623730950488016887242096980785696718753769480731766797379907324784621070388503875343276415727\n"
     ]
    }
   ],
   "source": [
    "# Code adapted from Stackoverflow.\n",
    "# https://stackoverflow.com/questions/64278117/is-there-a-way-to-create-more-decimal-points-on-python-without-importing-a-libra\n",
    "\n",
    "x = 2 * 10 ** 200\n",
    "\n",
    "r = x\n",
    "\n",
    "def test_diffs(x, r):\n",
    "    d0 = abs(x - r**2)\n",
    "    dm = abs(x - (r-1)**2)\n",
    "    dp = abs(x - (r+1)**2)\n",
    "    minimised = d0 <= dm and d0 <= dp\n",
    "    below_min = dp < dm\n",
    "    return minimised, below_min\n",
    "\n",
    "while True:\n",
    "    oldr = r\n",
    "    r = (r + x // r) // 2\n",
    "\n",
    "    minimised, below_min = test_diffs(x, r)\n",
    "    if minimised:\n",
    "        break\n",
    "\n",
    "    if r == oldr:\n",
    "        if below_min:\n",
    "            r += 1\n",
    "        else:\n",
    "            r -= 1\n",
    "        minimised, _ = test_diffs(x, r)\n",
    "        if minimised:\n",
    "            break\n",
    "\n",
    "print(f'{r // 10**100}.{r % 10**100:0100d}') # formating decimal places, 1st part 10**100 is the integer, 2nd modulo remainder."
   ]
  },
  {
   "cell_type": "markdown",
   "metadata": {},
   "source": [
    "**Here we can check the square root of two using another method, to confirm that our code above is correct.**"
   ]
  },
  {
   "cell_type": "code",
   "execution_count": 1,
   "metadata": {},
   "outputs": [
    {
     "name": "stdout",
     "output_type": "stream",
     "text": [
      "Please enter a number: 2\n",
      "The square root is: 1.4142135623730951\n"
     ]
    }
   ],
   "source": [
    "number = int(input(\"Please enter a number: \"))\n",
    "sqrt = number ** 0.5 # calculates the square root of user input.\n",
    "print(\"The square root is:\", sqrt)"
   ]
  },
  {
   "cell_type": "markdown",
   "metadata": {},
   "source": [
    "#### Import math to compare results."
   ]
  },
  {
   "cell_type": "code",
   "execution_count": 2,
   "metadata": {
    "scrolled": true
   },
   "outputs": [
    {
     "name": "stdout",
     "output_type": "stream",
     "text": [
      "1.4142135623730951\n"
     ]
    }
   ],
   "source": [
    "import math\n",
    "print(math.sqrt(2))"
   ]
  },
  {
   "cell_type": "markdown",
   "metadata": {},
   "source": [
    "### Here we can find square root on graph."
   ]
  },
  {
   "cell_type": "code",
   "execution_count": 4,
   "metadata": {
    "scrolled": true
   },
   "outputs": [
    {
     "data": {
      "image/png": "[encoded data removed]",
      "text/plain": [
       "<Figure size 432x288 with 1 Axes>"
      ]
     },
     "metadata": {
      "needs_background": "light"
     },
     "output_type": "display_data"
    }
   ],
   "source": [
    "import numpy as np \n",
    "import matplotlib.pyplot as plt\n",
    "import seaborn as sns # makes plot look nicer\n",
    "\n",
    "# Data for x and y axis\n",
    "x = np.linspace(0.0, 10.0, 1000)\n",
    "y = np.sqrt(x)\n",
    "\n",
    "plt.plot(x, y)\n",
    "\n",
    "# Label graph\n",
    "plt.xlabel('Square Root')\n",
    "plt.ylabel('')\n",
    "plt.title('Square root of 2 for example = 1.4')\n",
    "\n",
    "\n",
    "plt.show()\n"
   ]
  },
  {
   "cell_type": "markdown",
   "metadata": {},
   "source": [
    "## References\n",
    "\n",
    "Learn Python, 2020, Statistics and Machine Learning compared, viewed on 2019/10/12, available online at: https://pythonprogramminglanguage.com/what-is-the-difference-between-statistics-and-machine-learning/\n",
    "\n",
    "Real Python, 2019, The Python Square Root Function, viewed on 2019/10/12, available online at: https://realpython.com/python-square-root-function/\n",
    "\n",
    "Data Flair, 2020, Python repr Function With Example, viewed on 2019/10/12, available online at: https://data-flair.training/blogs/python-repr-function/\n",
    "\n",
    "Newton's method, 2020, Math24, viewed on 2019/10/13, available online at: https://www.math24.net/newtons-method/\n",
    "\n",
    "MathJax, 2020, Writing Mathematics for MathJax, viewed on 2019/10/13, available online at: https://www.mathjax.org/\n",
    "\n",
    "Reddit, 2020, How to square root of two without using libraries, viewed on 2019/10/02 vailable online at: https://www.reddit.com/r/AskProgramming/comments/j8mwxr/how_to_get_the_square_root_of_a_number_to_100/\n",
    "\n",
    "Random ASCII, Float Precision–From Zero to 100+ Digits, 2012, viewed on 2019/10/02 vailable online at: https://randomascii.wordpress.com/2012/03/08/float-precisionfrom-zero-to-100-digits-2/ \n",
    "\n",
    "Stackoverflow, How to get the square root of a number to 100 decimal places without using any libraries or modules, 2020, viewed on 2019/10/02 vailable online at: https://stackoverflow.com/questions/64295245/how-to-get-the-square-root-of-a-number-to-100-decimal-places-without-using-any-l \n",
    "\n",
    "Real Python, The Python Square Root in mathemathics, 2019, viewed on 2019/11/20 vailable online at: https://realpython.com/python-square-root-function/\n",
    "\n",
    "Python, Decimal fixed point and floating point arithmetic, 2020, viewed on 2019/11/20 vailable online at: https://docs.python.org/2/library/decimal.html"
   ]
  },
  {
   "cell_type": "markdown",
   "metadata": {},
   "source": [
    "***\n",
    "\n",
    "# Task 2\n",
    "\n",
    "The Chi-squared test for independence is a statistical\n",
    "hypothesis test like a t-test. It is used to analyse whether two categorical variables\n",
    "are independent.\n",
    "\n",
    "The Wikipedia article gives the table below as an example [4],\n",
    "stating the Chi-squared value based on it is approximately 24.6.\n",
    "\n",
    "Use scipy.stats to verify this value and calculate the associated p value. You should include a short note with references justifying your analysis in a markdown cell.\n",
    "\n",
    "![title](Images/image4.png)"
   ]
  },
  {
   "cell_type": "markdown",
   "metadata": {},
   "source": [
    "### Chi-Squared Test\n",
    "\n",
    "**What Is a T-Test?**\n",
    "\n",
    "A t-test is a type of inferential statistic used to determine if there is a significant difference between the means of two groups, which may be related in certain features. It is mostly used when the data sets, like the data set recorded as the outcome from flipping a coin 100 times, would follow a normal distribution and may have unknown variances. A t-test is used as a hypothesis testing tool, which allows testing of an assumption applicable to a population.\n",
    "\n",
    "A t-test looks at the t-statistic, the t-distribution values, and the degrees of freedom to determine the statistical significance. To conduct a test with three or more means, one must use an analysis of variance.\n",
    "\n",
    "Essentially, a t-test allows us to compare the average values of the two data sets and determine if they came from the same population.\n",
    "\n",
    "$t$-tests are among the most common statistical tests performed in world.\n",
    "\n",
    "This notebook focuses on the practicalities of performing $t$-tests in Python.\n",
    "\n",
    "More information about the $t$-test itself can be found <a href=\"https://statistics.laerd.com/spss-tutorials/independent-t-test-using-spss-statistics.php\">here.</a> \n",
    "\n",
    "**What is the Chi-Square Test?**\n",
    "\n",
    "A <a href=\"https://machinelearningmastery.com/chi-squared-test-for-machine-learning/\">chi-square</a> (χ2) statistic is a test, like the t-test, that measures how a model compares to actual observed data. The data used in calculating a chi-square statistic must be random, raw, mutually exclusive, drawn from independent variables, and drawn from a large enough sample. For example, the results of tossing a fair coin meet these criteria.\n",
    "\n",
    "The Chi-Square test is a statistical procedure used by researchers to examine the differences between categorical variables in the same population. \n",
    "\n",
    "For example, imagine that a research group is interested in whether or not education level and marital status are related for all people in the U.S. \n",
    "\n",
    "After collecting a simple random sample of 500 U.S. citizens, and administering a survey to this sample, the researchers could first manually observe the frequency distribution of marital status and education category within their sample. \n",
    "\n",
    "The researchers could then perform a Chi-Square test to validate or provide additional context for these observed frequencies.\n",
    "\n",
    "\n",
    "\n",
    "Chi-Square **calculation formula** is as follows:\n",
    "\n",
    "\n",
    "![title](Images/image5.png) Source (Investopedia, 2020)\n",
    "\n",
    "**Understanding \"p\" Value**\n",
    "\n",
    "Most people want to see a p value less than 0.05 before they are happy to say the results show the groups have a different response. The \"p\" is the probability the variables are independent. Surveys are random, so we should expect the outcome/results to be slightly different each time. \n",
    "\n",
    "Just say we survey men and women, and their prefernces for dogs based on gender and the result was 0.03. In this case p < 0.05, so this result is thought of as being \"significant\" meaning we think the variables are not independent. We would think that gender is linked to gender preference, men and women have different preferences for male/female dogs.\n",
    "\n",
    "**Calculating Chi-squared Test.**\n",
    "\n",
    "This test only works for categorical data (data in categories), such as Gender {Men, Women} or color {Red, Yellow, Green, Blue} etc, but not numerical data such as height or weight.\n",
    "\n",
    "The numbers must be large enough. Each entry must be 5 or more.\n",
    "\n",
    "Our first step is to state our **hypotheses**: A statement that might be true, which can then be tested.\n",
    "\n",
    "From our table above, suppose there is a city of 1,000,000 residents with four neighborhoods: A, B, C, and D. A random sample of 650 residents of the city is taken and their occupation is recorded as “white collar”, “blue collar”, or “no collar”. The null hypothesis is that each person’s neighborhood of residence is independent of the person’s occupational classification.\n",
    "\n",
    "**The two hypotheses are.**\n",
    "Neighbourhood and preference for collar are independent.\n",
    "Neighbourhood and preference for collar are not independent.\n",
    "\n",
    "Lay the data out in a table, add up the rows and columns, and calculate the Expected Value for each entry(Multiply each row total by each column total and divide by the overall total). See code below to see how calculation is done. \n",
    "\n",
    "We will perform the test using Python’s SciPy module."
   ]
  },
  {
   "cell_type": "markdown",
   "metadata": {},
   "source": [
    "### Import Packages"
   ]
  },
  {
   "cell_type": "code",
   "execution_count": null,
   "metadata": {},
   "outputs": [],
   "source": [
    "import numpy as np # creates large numerical arrays.\n",
    "import pandas as pd # Creates dataframes and structures built from Numpy arrays\n",
    "import statsmodels.stats.weightstats as stat # Stats modles\n",
    "\n",
    "## Scipy.stats is the only library you need to doa t-test.\n",
    "import scipy.stats as stats # This module contains a large number of probability distributions as well as a growing library of stat functions\n",
    "import matplotlib.pyplot as plt # Displays plots\n",
    "import seaborn as sns # higher level plots, which gives more insight into datasets\n",
    "#from scipy.stats import chi2_contingency \n"
   ]
  },
  {
   "cell_type": "markdown",
   "metadata": {},
   "source": [
    "We can read in a csv with the data."
   ]
  },
  {
   "cell_type": "code",
   "execution_count": null,
   "metadata": {},
   "outputs": [],
   "source": [
    "df = pd.read_csv(\"Collar.csv\")\n",
    "df"
   ]
  },
  {
   "cell_type": "markdown",
   "metadata": {},
   "source": [
    "Plot the data."
   ]
  },
  {
   "cell_type": "code",
   "execution_count": null,
   "metadata": {},
   "outputs": [],
   "source": [
    "df.plot()"
   ]
  },
  {
   "cell_type": "markdown",
   "metadata": {},
   "source": [
    "**Contingency Table**\n",
    "\n",
    "Create a dataframe using the values from each area."
   ]
  },
  {
   "cell_type": "code",
   "execution_count": null,
   "metadata": {
    "scrolled": true
   },
   "outputs": [],
   "source": [
    "# Create df\n",
    "data = np.array([[90, 60, 104, 95],[30, 50, 51, 20],[30, 40, 45, 35]])    \n",
    "df = pd.DataFrame(data, columns=[\"A\", \"B\", \"C\", \"D\"]) # label cols\n",
    "df.index = [\"White Collar\", \"Blue Collar\", 'No Collar'] # label rows\n",
    "df"
   ]
  },
  {
   "cell_type": "markdown",
   "metadata": {},
   "source": [
    "**Row/Column Totals.**"
   ]
  },
  {
   "cell_type": "code",
   "execution_count": null,
   "metadata": {
    "scrolled": true
   },
   "outputs": [],
   "source": [
    "df2 = df.copy() # Contingency table with the row/column and the grand total. \n",
    "df2.loc['Column Total']= df2.sum(numeric_only=True, axis=0) # Sum Col total.\n",
    "df2.loc[:,'Row Total'] = df2.sum(numeric_only=True, axis=1) # Sum Row total.\n",
    "df2"
   ]
  },
  {
   "cell_type": "markdown",
   "metadata": {},
   "source": [
    "The table was called a contingency table, by Karl Pearson, because the intent is to help determine whether one variable is contingent upon or depends upon the other variable. For example, does an interest in math or science depend on gender, or are they independent?\n",
    "\n",
    "This is challenging to determine from the table alone; instead, we can use a statistical method called the Pearson’s Chi-Squared test."
   ]
  },
  {
   "cell_type": "markdown",
   "metadata": {},
   "source": [
    "**Chi2_contingency() SciPy function**:\n",
    "\n",
    "The Pearson’s chi-squared test for independence can be calculated in Python using the chi2_contingency() SciPy function.\n",
    "\n",
    "The function takes an array as input representing the contingency table for the two categorical variables. It returns the calculated statistic and p-value for interpretation as well as the calculated degrees of freedom and table of expected frequencies. \n",
    "\n",
    "**Values**: The calculated values.\n",
    "\n",
    "**P**: If the statistic is less than or equal to the critical value, we can fail to reject this assumption, otherwise it can be rejected.\n",
    "\n",
    "Most people want to see a p value less than 0.05 before they are happy to say the results show the groups have a different response. The \"p\" is the probability the variables are independent. Surveys are random, so we should expect the outcome/results to be slightly different each time.\n",
    "\n",
    "**DOF**:\n",
    "The degrees of freedom for the chi-squared distribution is calculated based on the size of the contingency table as: (rows - 1) * (cols - 1) \n",
    "\n",
    "Calculating Degrees of Freedom is key when trying to understand the importance of a Chi-Square statistic and the validity of the null hypothesis.\n",
    "\n",
    "In terms of a p-value and a chosen significance level (alpha), the test can be interpreted as follows:\n",
    "\n",
    "If p-value <= alpha: significant result, reject null hypothesis (H0), dependent.\n",
    "If p-value > alpha: not significant result, fail to reject null hypothesis (H0), independent.\n",
    "For the test to be effective, at least five observations are required in each cell of the contingency table.\n",
    "\n",
    "**Expected**: Now we need to calculate the expected values for each cell in the table and we can do that using the the row total times the column total divided by the grand total (N). For example, for cell a the expected value would be (90+60+104+95)(90+30+30)/N.\n",
    "\n",
    "(Machine Learning Mastery, 2018) "
   ]
  },
  {
   "cell_type": "markdown",
   "metadata": {},
   "source": [
    "### Understanding Chi-Square Tests\n",
    "\n",
    "With the chi-square stat and the degrees of freedoms, we can find the p-value. The p-value is what we use to determine significance (or independence in this case). Depending on the test, we are generally looking for a threshold at either 0.05 or 0.01. Our test is significant (i.e. we reject the null hypothesis) if we get a p-value below our threshold."
   ]
  },
  {
   "cell_type": "code",
   "execution_count": null,
   "metadata": {
    "scrolled": true
   },
   "outputs": [],
   "source": [
    "# Code adapted from: https://pythonhealthcare.org/2018/04/13/58-statistics-chi-squared-test/ \n",
    "# V = values, p = probability, dof = degrees of freedom\n",
    "V, p, dof, expected = stats.chi2_contingency(data) \n",
    "\n",
    "\n",
    "# Probability \n",
    "print ('P value for effect of area on proportion of each collar = ' + str(p))\n",
    "\n",
    "\n",
    "# if statement for p value if less than .05\n",
    "if p < 0.05:\n",
    "    print(\"The p-value is less than 0.05 and would reject the Null Hypothesis.\")\n",
    "print(\"The neighbourhood and preference for collar are independent.\")\n",
    "print ('\\n')\n",
    "\n",
    "# Print degree of freedom using function above we created. \n",
    "print(\"The degree of freedom is: \" + str(dof))\n",
    "\n",
    "print ('\\n')\n",
    "\n",
    "print(\"Contingency Table\")\n",
    "print (df2) # prints data from table above\n",
    "\n",
    "    \n",
    "print ('\\nExpected numbers if area did not effect numbers of each collar vote:')\n",
    "print (expected) # displays figures "
   ]
  },
  {
   "cell_type": "markdown",
   "metadata": {},
   "source": [
    "**Scipy.stats.chi2_contingency function.**\n",
    "\n",
    "This function computes the chi-square statistic and p-value for the hypothesis test of independence of the observed frequencies in the contingency table. The expected frequencies are computed based on the marginal sums under the assumption of independence. (Scipy.org, 2020)"
   ]
  },
  {
   "cell_type": "code",
   "execution_count": null,
   "metadata": {
    "scrolled": false
   },
   "outputs": [],
   "source": [
    "# Import Scipy's built-in function\n",
    "# Code adpated from https://towardsdatascience.com/running-chi-square-tests-in-python-with-die-roll-data-b9903817c51b and Scipy.org.\n",
    " \n",
    "\n",
    "chi2_stat = stats.chi2_contingency(data)\n",
    "print(chi2_stat)\n",
    "print(\"\\n\")\n",
    "print(\"This has confirmed the value which was given to us at the beginning, is indeed 24.6 \")\n",
    "# (Scipy.org, 2020)"
   ]
  },
  {
   "cell_type": "markdown",
   "metadata": {},
   "source": [
    "# Overview\n",
    "\n",
    "Often used for spatial distribution and can only be used for data in the form of frequencies in 2 or more groups/categories. The data must have a numerical value and the total observations must exceed 20 and an expected frequency must exceed 5, depends on the size of the difference between actual and observed values, the degrees of freedom, and the samples size. The calculated value must be above the critical value to reject null hypothesis. It can be used to test whether two variables are related or independent from one another or to test the goodness-of-fit between an observed distribution and a theoretical distribution of frequencies. \n"
   ]
  },
  {
   "cell_type": "markdown",
   "metadata": {},
   "source": [
    "## References\n",
    "\n",
    "Alchemer, What is the Chi-squared Test, 2020, viewed on 2019/11/20 vailable online at: https://www.alchemer.com/resources/blog/introduction-to-chi-square-test-and-when-to-use-it/\n",
    "\n",
    "Investopedia, Chi-Square (χ2) Statistic Definition, 2020, viewed on 2019/11/20 vailable online at: https://www.investopedia.com/terms/c/chi-square-statistic.asp \n",
    "\n",
    "Statistics by Jim, How t-Tests Work: t-Values, t-Distributions, and Probabilities, viewed on 2019/11/20 vailable online at: https://statisticsbyjim.com/hypothesis-testing/t-tests-t-values-t-distributions-probabilities/\n",
    "\n",
    "Machine Learning Mastery, A Gentle Introduction to the Chi-Squared Test for Machine Learning, 2018, viewed on 2019/11/23 vailable online at: https://machinelearningmastery.com/chi-squared-test-for-machine-learning/ \n",
    "\n",
    "Python, Statistics: Chi-squared test, 2018, viewed on 2019/11/23 vailable online at: https://pythonhealthcare.org/2018/04/13/58-statistics-chi-squared-test/\n",
    "\n",
    "SciPy.org, scipy.stats.chi2_contingency, 2020, viewed on 2019/11/23 vailable online at: https://docs.scipy.org/doc/scipy/reference/generated/scipy.stats.chi2_contingency.html"
   ]
  },
  {
   "cell_type": "markdown",
   "metadata": {},
   "source": [
    "# Task 3\n",
    "\n",
    "\n",
    "\n",
    "**The standard deviation** of an array of numbers x is calculated using numpy as np.sqrt(np.sum((x - np.mean(x))**2)/len(x)).\n",
    "\n",
    "However, Microsoft Excel has two different versions of the standard deviation calculation, STDEV.P and STDEV.S. The STDEV.P function performs the above calculation but in the STDEV.S calculation the division is by len(x)-1 rather than len(x).\n",
    "\n",
    "Research these Excel functions, writing a note in a Markdown cell about the difference between them. Then use numpy to perform a simulation demonstrating that the STDEV.S calculation is a better estimate for the standard deviation of a population when performed on a sample. \n",
    "\n",
    "Note that part of this task is to figure out the terminology in the previous sentence.\n",
    "\n",
    "### What is standard deviation?\n",
    "\n",
    "![title](Images/image13.png)\n",
    "\n",
    "The standard deviation is a measure that indicates how much the values of the set of data deviate (spread out) from the mean. To put it differently, the standard deviation shows whether your data is close to the mean or fluctuates a lot.\n",
    "\n",
    "The purpose of the standard deviation is to help you understand if the mean really returns a \"typical\" data. The closer the standard deviation is to zero, the lower the data variability and the more reliable the mean is. The standard deviation equal to 0 indicates that every value in the dataset is exactly equal to the mean. The higher the standard deviation, the more variation there is in the data and the less accurate the mean is.\n",
    "\n",
    "For example, say we have ten students in Chemistry, the average is 70, and the standard deviation is six. This means no result was more than six points away from the average, meaning all the students performed well and results were consistent and close to each others. Standard deviation would be used quite often by business//investment analysts as a measure of risk. The higher the STD, the higher the volatility, this would deem it unattractive to invest or trade on. ()\n",
    "\n",
    "![title](Images/image7.png)\n",
    "\n",
    "**Sample standard deviation vs. Population standard deviation**\n",
    "\n",
    "In relation to standard deviation, you may often hear the terms \"sample\" and \"population\", which refer to the completeness of the data you are working with. The main difference is as follows:\n",
    "\n",
    "- **Population** includes all of the elements from a data set. If the data is being considered a population on its own, we divide by the number of data points, N.\n",
    "\n",
    "![title](Images/image8.png)\n",
    "\n",
    "- Step 1: Calculate the mean of the data—this is μ in the formula.\n",
    "- Step 2: Subtract the mean from each data point. These differences are called deviations. Data points below the mean will have           negative deviations, and data points above the mean will have positive deviations.\n",
    "- Step 3: Square each deviation to make it positive.\n",
    "- Step 4: Add the squared deviations together.\n",
    "- Step 5: Divide the sum by the number of data points in the population. The result is called the variance.\n",
    "- Step 6: Take the square root of the variance to get the standard deviation.\n",
    "\n",
    "<br>\n",
    "<br>\n",
    "\n",
    "- **Sample** is a subset of data that includes one or more elements from the population. If the data is a sample from a larger population, we divide by one fewer than the number of data points in the sample, n-1n−1n, minus, 1. \n",
    "\n",
    "![title](Images/image9.png) \n",
    "\n",
    "- Step 1: Calculate the mean of the data — this is the line over the x in the formula. \n",
    "- Step 2: Subtract the mean from each data point. These differences are called deviations. Data points below the mean will have           negative deviations, and data points above the mean will have positive deviations.\n",
    "- Step 3: Square each deviation to make it positive.\n",
    "- Step 4: Add the squared deviations together.\n",
    "- Step 5: Divide the sum by one less than the number of data points in the sample. The result is called the variance.\n",
    "- Step 6: Take the square root of the variance to get the standard deviation.\n",
    "\n",
    "\n",
    "The steps in each formula are all the same except for one, we divide by one less than the number of data points when dealing with sample data. A quick video will explain the logic behind it <a href=\"https://statistics.laerd.com/spss-tutorials/independent-t-test-using-spss-statistics.php\">here.</a> \n",
    "\n",
    "Researchers and analysists operate on the standard deviation of a sample and population in different situations. For example, when summarizing the exam scores of a class of students, a teacher will use the population standard deviation. Statisticians calculating the national SAT average score would use a sample standard deviation because they are presented with the data from a sample only, not from the entire population.(Exceltip, 2019)\n",
    "\n",
    "\n",
    "#### Now we will run through all the steps using an example to hopefully make it clearer. \n",
    "\n",
    "**Sample Data:**\n",
    "- xi are individual values in the set of data.\n",
    "- x is the mean of all x values.\n",
    "- n is the total number of x values in the data set.\n",
    "\n",
    "![title](Images/image10.png)\n",
    "\n",
    "\n",
    "- **Step 1.** Calculate the mean or average. \n",
    "\n",
    "(1+2+4+5+6+8+9)/7=5 \n",
    "\n",
    "- **Step 2.** For each number, subtract the mean and square the result.\n",
    "\n",
    "This is the part of the standard deviation formula that says: (xi - x)2. In this example, the mean is 5, so we calculate the difference between each data point and 5.\n",
    "\n",
    "![title](Images/image11.png)\n",
    "\n",
    "- **Step 3.** \n",
    "Add up squared differences\n",
    "\n",
    "To say \"sum things up\" in mathematics, you use sigma Σ. So, what we do now is add up the squared differences to complete this part of the formula: Σ(xi - x)2.\n",
    "\n",
    "16 + 9 + 1 + 1 + 9 + 16 = 52\n",
    "\n",
    "- **Step 4.**\n",
    "\n",
    "Divide the total squared differences by the count of values\n",
    "So far, the sample standard deviation and population standard deviation formulas have been identical. At this point, they are different.\n",
    "\n",
    "For the sample standard deviation, you get the sample variance by dividing the total squared differences by the sample size minus 1:\n",
    "\n",
    "52 / (7-1) = 8.67\n",
    "\n",
    "For the population standard deviation, you find the mean of squared differences by dividing the total squared differences by their count:\n",
    "\n",
    "52 / 7 = 7.43\n",
    "\n",
    "Why this difference in the formulas? Because in the sample standard deviation formula, you need to correct the bias in the estimation of a sample mean instead of the true population mean. And you do this by using n - 1 instead of n, which is called Bessel's correction.\n",
    "\n",
    "- **Step 5.** \n",
    "Take the square root\n",
    "Finally, take the square root of the above numbers, and you will get your standard deviation (in the below equations, rounded to 2 decimal places):\n",
    "\n",
    "![title](Images/image12.png)\n",
    "\n",
    "If we plot a graph with on 1 to 100 with this standard deviation, the standard deviation graph will look like something this.\n",
    "\n",
    "![title](Images/image13.png)\n",
    "\n",
    "If we calculate standard deviation using STDEV.P it will be slightly less. It will be 19.7.\n",
    "\n",
    "The result of STDEV.S always greater than STDEV.P’s result on same data. You can see in below graph that standard deviation of sample is more spread than standard deviation of population.\n",
    "\n",
    "\n",
    "![title](Images/image6.png) Source (Exceltip, 2020)\n"
   ]
  },
  {
   "cell_type": "markdown",
   "metadata": {},
   "source": [
    "**Calculating the Variance**\n",
    "\n",
    "In statistics, the variance is a measure of how far individual (numeric) values in a dataset are from the mean or average value. The variance is often used to quantify spread or dispersion. Spread is a characteristic of a sample or population that describes how much variability there is in it.\n",
    "\n",
    "A high variance tells us that the values in our dataset are far from their mean. So, our data will have high levels of variability. On the other hand, a low variance tells us that the values are quite close to the mean. In this case, the data will have low levels of variability.\n",
    "\n",
    "To calculate the variance in a dataset, we first need to find the difference between each individual value and the mean. The variance is the average of the squares of those differences. \n",
    "\n",
    "![title](Images/image14.png)\n",
    "\n",
    "Variance is 3.92"
   ]
  },
  {
   "cell_type": "markdown",
   "metadata": {},
   "source": [
    "**Function to calculate variance.**\n",
    "\n",
    "In this case, variance() will calculate the population variance because we're using n instead of n - 1 to calculate the mean of the deviations. If we're working with a sample and we want to estimate the variance of the population, then we'll need to update the expression variance = sum(deviations) / n to variance = sum(deviations) / (n - 1)."
   ]
  },
  {
   "cell_type": "code",
   "execution_count": null,
   "metadata": {},
   "outputs": [],
   "source": [
    "# Code adpated from https://stackabuse.com/calculating-variance-and-standard-deviation-in-python/\n",
    "# Create function\n",
    "def variance(data):\n",
    "    # Number of observations/values in data.\n",
    "    n = len(data)\n",
    "    # Mean of the data\n",
    "    mean = sum(data) / n\n",
    "    # Square deviations\n",
    "    deviations = [(x - mean) ** 2 for x in data]\n",
    "    # Variance = sums of variations and divide by numbers of values in our data.\n",
    "    variance = sum(deviations) / n\n",
    "    return variance\n",
    "\n",
    "variance([6, 2, 12, 4, 5, 15, 11, 10, 7, 3, 17, 2, 5, 16, 8, 23, 18, 13])"
   ]
  },
  {
   "cell_type": "markdown",
   "metadata": {},
   "source": [
    "The sample standard deviation is another measure of data spread. It’s connected to the sample variance, as standard deviation, 𝑠, is the positive square root of the sample variance. The standard deviation is often more convenient than the variance because it has the same unit as the data points. Once you get the variance, you can calculate the standard deviation with pure Python"
   ]
  },
  {
   "cell_type": "markdown",
   "metadata": {},
   "source": [
    "### NUMPY\n",
    "\n",
    "NumPy is a third-party library for numerical computing, optimized for working with single- and multi-dimensional arrays. Its primary type is the array type called ndarray. This library contains many routines for statistical analysis.\n",
    "\n",
    "**Excel's STDEV** calculates the sample standard deviation(STDEV.S). Numpy uses population standard deviation by default.\n",
    "\n",
    "If you want to use it to calculate sample standard deviation, use an additional parameter, called ddof and set it to 1.\n",
    "\n",
    "By default ddof is 0. We can use ddof=0 to calculate the standard deviation of a population.\n",
    "\n"
   ]
  },
  {
   "cell_type": "markdown",
   "metadata": {},
   "source": [
    "**Numpy default stdev.p.**"
   ]
  },
  {
   "cell_type": "code",
   "execution_count": null,
   "metadata": {
    "scrolled": true
   },
   "outputs": [],
   "source": [
    "np.std([6, 2, 12, 4, 5, 15, 11, 10, 7, 3, 17, 2, 5, 16, 8, 23, 18, 13])"
   ]
  },
  {
   "cell_type": "code",
   "execution_count": null,
   "metadata": {},
   "outputs": [],
   "source": [
    "# here we can pass the default parameter.\n",
    "np.std([6, 2, 12, 4, 5, 15, 11, 10, 7, 3, 17, 2, 5, 16, 8, 23, 18, 13], ddof=0)"
   ]
  },
  {
   "cell_type": "markdown",
   "metadata": {},
   "source": [
    "**Numpy using stdev.s**"
   ]
  },
  {
   "cell_type": "code",
   "execution_count": null,
   "metadata": {},
   "outputs": [],
   "source": [
    "# To make NumPy's std function behave like Excel's STDEV, pass in the value ddof=1:\n",
    "# np.std(s, ddof=1)\n",
    "np.std([6, 2, 12, 4, 5, 15, 11, 10, 7, 3, 17, 2, 5, 16, 8, 23, 18, 13], ddof = 1)\n",
    "\n",
    "\n",
    "# This calculates the standard deviation of data using the sample variance (i.e. dividing by n-1 rather than n.)"
   ]
  },
  {
   "cell_type": "markdown",
   "metadata": {},
   "source": [
    "## Use Numpy to convert  arrays using STEDV.P and STDEV.S.\n",
    "\n",
    "**Calculate below the standard deviation of the population using STDEV.P using an array.** \n",
    "\n",
    "When you calculate statistics for an entire population (mean, variance, etc.) results are accurate because all data is available. However, when you calculate statistics for a sample, results are estimates and therefore not as accurate.\n",
    "\n",
    "Bessel's correction is an adjustment made to correct for bias that occurs when working with sample data. It appears in formulas as n-1, where n is the count. When working with a sample population, Bessel's correction can provide a better estimation of the standard deviation.\n",
    "\n",
    "In the context of Excel and standard deviation, the key thing to know is:\n",
    "\n",
    "The STDEV.S function uses Bessel's correction n-1. Bessel's Correction is a correction applied while calculating the sample variance and sample standard deviation where the denominator is n-1 instead of n, where n is the sample size or the number of observations in the sample. This is done in order to correct the bias in the estimation of population variance and standard deviations.\n",
    "The STDEV.P function does not. (Exceljet, 2020)"
   ]
  },
  {
   "cell_type": "code",
   "execution_count": null,
   "metadata": {
    "scrolled": true
   },
   "outputs": [],
   "source": [
    "print(\"Standard deviation of n:\")\n",
    "x = ([6, 2, 12, 4, 5, 15, 11, 10, 7, 3, 17, 2, 5, 16, 8, 23, 18, 13]) # population size\n",
    "np.sqrt(np.sum((x - np.mean(x))**2)/len(x)) # numpy cal for stdev for n "
   ]
  },
  {
   "cell_type": "markdown",
   "metadata": {},
   "source": [
    "**Calculate below the standard deviation of the population using STDEV.S**"
   ]
  },
  {
   "cell_type": "code",
   "execution_count": null,
   "metadata": {},
   "outputs": [],
   "source": [
    "print(\"Standard deviation of n-1:\")\n",
    "x = ([6, 2, 12, 4, 5, 15, 11, 10, 7, 3, 17, 2, 5, 16, 8, 23, 18, 13]) # pop size\n",
    "np.sqrt(np.sum((x - np.mean(x))**2)/len(x)-1) # numpy cal for stdev for n-1\n",
    "#print(\"Standard deviation of n-1:\")"
   ]
  },
  {
   "cell_type": "markdown",
   "metadata": {},
   "source": [
    "## Conclusion"
   ]
  },
  {
   "cell_type": "markdown",
   "metadata": {},
   "source": [
    "**Is STDEV.S** a better estimate for the standard deviation of a population when performed on a sample?\n",
    "\n",
    "In the case of sampling, you are randomly selecting a set of data points for the purpose of estimating the true values for mean, standard deviation, etc. In the case of a population problem you are collecting data points from 100% of the subjects you wish to study.\n",
    "\n",
    "When you calculate statistics for an entire population mean, variance, etc, results are accurate because all data is available. However, when you calculate statistics for a sample, results are estimates and therefore not as accurate.\n",
    "\n",
    "Is Stdev.s a better estimate for the standard deviation of a poulation? It depends if you have data for an entire population, use STDEV.P. If you have an appropriately large sample and you want to approximate standard deviation for the entire population, use the STDEV.S function.\n",
    "\n",
    "A small sample is not likely to be a good approximation of a population in most cases. On the other hand, a large enough sample size will approach the statistics produced for a population. When the sample size becomes larger, the difference in the standard deviations computed based on n and n-1 will narrow down. The Bessel’s correction is applied to reduce the bias on the standard deviation calculation for a sample. (Exceljet, 2020)"
   ]
  },
  {
   "cell_type": "markdown",
   "metadata": {},
   "source": [
    "## References \n",
    "\n",
    "\n",
    "Ablebits, How to calculate standard deviation in Excel, 2020, viewed on 2019/11/24, vailable online at:https://www.ablebits.com/office-addins-blog/2017/05/31/calculate-standard-deviation-excel/\n",
    "\n",
    "Exceltip, How to use the STDEV.S Function in Excel, 2019, viewed on 2019/11/24, vailable online at:https://www.exceltip.com/statistical-formulas/how-to-use-stdev-s-function-in-excel.html\n",
    "\n",
    "Khan Academy, Population and sample standard deviation, 2020, viewed on 2019/11/24, vailable online at:https://www.khanacademy.org/math/statistics-probability/summarizing-quantitative-data/variance-standard-deviation-sample/a/population-and-sample-standard-deviation-review\n",
    "\n",
    "Github, Numpy, 2020, viewed on 2019/11/24, vailable online at: https://saskeli.github.io/data-analysis-with-python-summer-2019/numpy.html\n",
    "\n",
    "TowardsDataScience, The Reasoning Behind Bessel’s Correction: n-1, 2020, viewed on 2019/11/25, vailable online at: https://towardsdatascience.com/the-reasoning-behind-bessels-correction-n-1-eeea25ec9bc9\n",
    "\n",
    "ExcelJet, Standard Deviation Calculation, 2020, viewed on 2019/12/14, vailable online at: https://exceljet.net/formula/standard-deviation-calculation \n",
    "\n",
    "Stackoverflow, Stdev-s and Stdev-p usng Numpy, 2020, viewed on 2019/12/14, vailable online at: https://stackoverflow.com/questions/64884294/stdev-s-and-stdev-p-using-numpy\n",
    "\n",
    "Numpy, Standard Deviation, 2020, viewed on 2019/12/14, vailable online at: https://numpy.org/doc/stable/reference/generated/numpy.std.html"
   ]
  },
  {
   "cell_type": "markdown",
   "metadata": {},
   "source": [
    "<br>\n",
    "<br>\n",
    "<br>\n",
    "\n",
    "# Task 4\n",
    "\n",
    "\n",
    "- Use scikit-learn to apply k-means clustering to Fisher’s famous Iris data set.\n",
    "- You will easily obtain a copy of the data set online. \n",
    "- Explain in a Markdown cell how your code works and how accurate it might be, and then explain how your model could be used to make predictions of species of iris.\n",
    "\n",
    "### Iris Data Set\n",
    "![title](Images/image16.jpg)\n",
    "\n",
    "This Iris data set was introduced by British mathematician and statistician Ronald Fisher which he published in his paper in 1936 The use of multiple measurements in taxonomic problems. The data set is often used in data mining, classification and clustering examples and to test algorithms. It is famous because it is used as the \"hello world\" in data sets and statistics by most people. It is traditionally used for classification and prediction to see which features(petal or sepal) of the flower belong to a certain type of Iris flower. This is done through petal and sepal length and width.\n",
    "\n",
    "The data set contains five columns, the first four are the measurements of the flowers in centimeters and the fifth is the species of the flower. The set comprises of 150 records of flowers representing three species of Iris (Iris setosa, versicolor and virginica) under five attributes - petal length, petal width, sepal length, sepal width and species. It is a data set which is based on the combination of four measurements, petal length and width, sepal length and width. Fisher developed a linear discriminant model to distinguish the species from each other. \"Logistic regression is a classification algorithm traditionally limited to only two-class classification problems. If you have more than two classes then Linear Discriminant Analysis is the preferred linear classification technique.\" (Machine Learning Mastery, 2016)\n",
    "\n",
    "### Who was Fisher?\n",
    "\n",
    "Sir Ronald Fisher was a British Statistician who pioneered the application of statistical procedures to the design of scientific experiments. By many, he was thought to be the greatest statistician of the last century who made profound contributions to both theoretical and applied statistics, and population genetics. He was born in London and studied mathematics at Cambridge University and graduated with a B.A. in astronomy. He continued to work at Cambridge after he graduated where he focused on astronomy and physics,the theory of errors. He taught maths and physics in Cambridge while he focused his research on statistics and genetics until 1919.\n",
    "\n",
    "In 1919 he did statistical work associated with plant breeding experiments and his methods were published and remained in print for more than 50 years. The experiments that he conducted led to theories about gene dominance and fitness. He analyzed crop data and experiments since the late 1800's and developed the analysis of variance. In 1921 He published Studies in Crop Variation, which was his first application of analysis of variance.\n",
    "\n",
    "In 1933 he became head of Eugenics( beliefs and practices that aim to improve the genetic quality of human population by excluding certain groups judged to be inferior and promoting certain groups judged to be superior) at University College London. While here he published The Design of Experiments in 1935, which he outlined The Lady Tasting Tea which is now a famous design of a statistical randomized experiment.\n",
    "\n",
    "In 1936 he introduced the Iris Flower Data Set as an example of discriminant analysis. This was a method used in statistics, pattern recognition and machine learning to find a linear combination that characterizes or separates two or more classes of objects or events.\n",
    "\n",
    "He worked in Cambridge from 1940 until 1956 where he published many more books and papers on data sets. In 1957 he retired to Adelaide, and he died in 1962 from an operation he had to remove colon cancer. (Encyclopedia Britannica, 2019)\n",
    "\n",
    "\n",
    "### What is clustering?\n",
    "\n",
    "\n",
    "**Automatic grouping of similar objects into sets.**\n",
    "\n",
    "Clustering is an unsupervised learning method that allows us to group set of objects based on similar characteristics. It can help you find meaningful structure among your data, group similar data together and discover underlying patterns.\n",
    "\n",
    "In a supervised learning model, the algorithm learns on a labeled dataset, providing an answer key that the algorithm can use to evaluate its accuracy on training data. An unsupervised model, in contrast, provides unlabeled data that the algorithm tries to make sense of by extracting features and patterns on its own.\n",
    "\n",
    "### K-Means Clustering \n",
    "K-Means Clustering is an unsupervised learning algorithm that is used to solve the clustering problems in machine learning or data science. Below we will learn what is K-means clustering algorithm, how the algorithm works, along with the Python implementation of k-means clustering.\n",
    "\n",
    "K defines the number of pre-defined clusters that need to be created in the process, as if K=2, there will be two clusters, and for K=3, three will be created. \n",
    "\n",
    "One of the most common clustering methods is K-means algorithm. Kmeans clustering is one of the most popular clustering algorithms and usually the first thing practitioners apply when solving clustering tasks to get an idea of the structure of the dataset. The goal of kmeans is to group data points into distinct non-overlapping subgroups. \n",
    "\n",
    "The aim of this algorithm is to minimize the sum of distances between the data point and their corresponding clusters. The algorithm takes the unlabeled dataset as input, divides the dataset into k-number of clusters, and repeats the process until it does not find the best clusters. The value of k should be predetermined in this algorithm.(Towardsdatascience, 2018)\n",
    "\n",
    "How does the K-Means Algorithm Work?\n",
    "The working of the K-Means algorithm is explained in the below steps:\n",
    "\n",
    "- Select the number K to decide the number of clusters.\n",
    "\n",
    "- Select random K points or centroids. (It can be other from the input dataset).\n",
    "\n",
    "- Assign each data point to their closest centroid, which will form the predefined K clusters.\n",
    "\n",
    "- Calculate the variance and place a new centroid of each cluster.\n",
    "\n",
    "- Repeat the third steps, which means reassign each datapoint to the new closest centroid of each cluster.\n",
    "\n",
    "- If any reassignment occurs, then go to step-4 else go to FINISH.\n",
    "\n",
    "- Now the model is ready for use.\n",
    "\n",
    "![title](Images/image15.png)(Javapoint, 2018)\n"
   ]
  },
  {
   "cell_type": "markdown",
   "metadata": {},
   "source": [
    "### Import Libraries"
   ]
  },
  {
   "cell_type": "code",
   "execution_count": 5,
   "metadata": {},
   "outputs": [],
   "source": [
    "import sklearn.neighbors as nei # sub package from scikitlearn.\n",
    "# Need to import specific package with Scikitlearn.\n",
    "import pandas as pd # dataframe package\n",
    "import numpy as np # numerical package\n",
    "import seaborn as sns # visualization package\n",
    "import matplotlib.pyplot as plt # displays plots\n",
    "import sklearn.model_selection as mod\n"
   ]
  },
  {
   "cell_type": "markdown",
   "metadata": {},
   "source": [
    "### Load Dataset \n",
    "\n",
    "Display Dataframe using Pandas."
   ]
  },
  {
   "cell_type": "code",
   "execution_count": 32,
   "metadata": {},
   "outputs": [
    {
     "data": {
      "text/html": [
       "<div>\n",
       "<style scoped>\n",
       "    .dataframe tbody tr th:only-of-type {\n",
       "        vertical-align: middle;\n",
       "    }\n",
       "\n",
       "    .dataframe tbody tr th {\n",
       "        vertical-align: top;\n",
       "    }\n",
       "\n",
       "    .dataframe thead th {\n",
       "        text-align: right;\n",
       "    }\n",
       "</style>\n",
       "<table border=\"1\" class=\"dataframe\">\n",
       "  <thead>\n",
       "    <tr style=\"text-align: right;\">\n",
       "      <th></th>\n",
       "      <th>sepal_length</th>\n",
       "      <th>sepal_width</th>\n",
       "      <th>petal_length</th>\n",
       "      <th>petal_width</th>\n",
       "      <th>species</th>\n",
       "    </tr>\n",
       "  </thead>\n",
       "  <tbody>\n",
       "    <tr>\n",
       "      <th>0</th>\n",
       "      <td>5.1</td>\n",
       "      <td>3.5</td>\n",
       "      <td>1.4</td>\n",
       "      <td>0.2</td>\n",
       "      <td>setosa</td>\n",
       "    </tr>\n",
       "    <tr>\n",
       "      <th>1</th>\n",
       "      <td>4.9</td>\n",
       "      <td>3.0</td>\n",
       "      <td>1.4</td>\n",
       "      <td>0.2</td>\n",
       "      <td>setosa</td>\n",
       "    </tr>\n",
       "    <tr>\n",
       "      <th>2</th>\n",
       "      <td>4.7</td>\n",
       "      <td>3.2</td>\n",
       "      <td>1.3</td>\n",
       "      <td>0.2</td>\n",
       "      <td>setosa</td>\n",
       "    </tr>\n",
       "    <tr>\n",
       "      <th>3</th>\n",
       "      <td>4.6</td>\n",
       "      <td>3.1</td>\n",
       "      <td>1.5</td>\n",
       "      <td>0.2</td>\n",
       "      <td>setosa</td>\n",
       "    </tr>\n",
       "    <tr>\n",
       "      <th>4</th>\n",
       "      <td>5.0</td>\n",
       "      <td>3.6</td>\n",
       "      <td>1.4</td>\n",
       "      <td>0.2</td>\n",
       "      <td>setosa</td>\n",
       "    </tr>\n",
       "    <tr>\n",
       "      <th>...</th>\n",
       "      <td>...</td>\n",
       "      <td>...</td>\n",
       "      <td>...</td>\n",
       "      <td>...</td>\n",
       "      <td>...</td>\n",
       "    </tr>\n",
       "    <tr>\n",
       "      <th>145</th>\n",
       "      <td>6.7</td>\n",
       "      <td>3.0</td>\n",
       "      <td>5.2</td>\n",
       "      <td>2.3</td>\n",
       "      <td>virginica</td>\n",
       "    </tr>\n",
       "    <tr>\n",
       "      <th>146</th>\n",
       "      <td>6.3</td>\n",
       "      <td>2.5</td>\n",
       "      <td>5.0</td>\n",
       "      <td>1.9</td>\n",
       "      <td>virginica</td>\n",
       "    </tr>\n",
       "    <tr>\n",
       "      <th>147</th>\n",
       "      <td>6.5</td>\n",
       "      <td>3.0</td>\n",
       "      <td>5.2</td>\n",
       "      <td>2.0</td>\n",
       "      <td>virginica</td>\n",
       "    </tr>\n",
       "    <tr>\n",
       "      <th>148</th>\n",
       "      <td>6.2</td>\n",
       "      <td>3.4</td>\n",
       "      <td>5.4</td>\n",
       "      <td>2.3</td>\n",
       "      <td>virginica</td>\n",
       "    </tr>\n",
       "    <tr>\n",
       "      <th>149</th>\n",
       "      <td>5.9</td>\n",
       "      <td>3.0</td>\n",
       "      <td>5.1</td>\n",
       "      <td>1.8</td>\n",
       "      <td>virginica</td>\n",
       "    </tr>\n",
       "  </tbody>\n",
       "</table>\n",
       "<p>150 rows × 5 columns</p>\n",
       "</div>"
      ],
      "text/plain": [
       "     sepal_length  sepal_width  petal_length  petal_width    species\n",
       "0             5.1          3.5           1.4          0.2     setosa\n",
       "1             4.9          3.0           1.4          0.2     setosa\n",
       "2             4.7          3.2           1.3          0.2     setosa\n",
       "3             4.6          3.1           1.5          0.2     setosa\n",
       "4             5.0          3.6           1.4          0.2     setosa\n",
       "..            ...          ...           ...          ...        ...\n",
       "145           6.7          3.0           5.2          2.3  virginica\n",
       "146           6.3          2.5           5.0          1.9  virginica\n",
       "147           6.5          3.0           5.2          2.0  virginica\n",
       "148           6.2          3.4           5.4          2.3  virginica\n",
       "149           5.9          3.0           5.1          1.8  virginica\n",
       "\n",
       "[150 rows x 5 columns]"
      ]
     },
     "execution_count": 32,
     "metadata": {},
     "output_type": "execute_result"
    }
   ],
   "source": [
    "k = pd.read_csv(\"https://gist.githubusercontent.com/curran/a08a1080b88344b0c8a7/raw/639388c2cbc2120a14dcf466e85730eb8be498bb/iris.csv\")\n",
    "k"
   ]
  },
  {
   "cell_type": "markdown",
   "metadata": {},
   "source": [
    "### Visualize your data-set.\n",
    "\n",
    "Use Seaborn do display your data. "
   ]
  },
  {
   "cell_type": "code",
   "execution_count": 33,
   "metadata": {},
   "outputs": [
    {
     "data": {
      "text/plain": [
       "<seaborn.axisgrid.PairGrid at 0x225c41a78b0>"
      ]
     },
     "execution_count": 33,
     "metadata": {},
     "output_type": "execute_result"
    },
    {
     "data": {
      "image/png": "[encoded data removed]",
      "text/plain": [
       "<Figure size 804.75x720 with 20 Axes>"
      ]
     },
     "metadata": {
      "needs_background": "light"
     },
     "output_type": "display_data"
    }
   ],
   "source": [
    "# Sometimes Jupyter can be a bit finicky with Seborn,\n",
    "# May need to run it twice.\n",
    "# plot the data with a pair plot\n",
    "sns.pairplot(k, hue=\"species\")"
   ]
  },
  {
   "cell_type": "markdown",
   "metadata": {},
   "source": [
    "Now that we have the data imported and we have a good idea of what kind of data and values we are dealing with, we move on and start our K-Means Algorithm. "
   ]
  },
  {
   "cell_type": "markdown",
   "metadata": {},
   "source": [
    "\n",
    "\n",
    "### How to choose the K number or pick a value for K?\n",
    "\n",
    "- Assign the number \"K\" to decide how many clusters we are going to have. \n",
    "\n",
    "- **Elbow Method**\n",
    "\n",
    "The Elbow method is one of the most popular ways to find the optimal number of clusters. This method uses the concept of WCSS value. WCSS stands for Within Cluster Sum of Squares, which defines the total variations within a cluster.\n",
    "\n",
    "We can use the formula below which is the sum of the square of the distances between each data point and its centroid within a cluster1 and, is repeated twice after that.\n",
    "\n",
    "![title](Images/image16.png)\n",
    "\n",
    "It is called the elbow method because of the sharp bend which looks like an elbow. The following steps are taken to when using the elbow method. \n",
    "\n",
    "- executes the K-means clustering on a dataset for different K values, these range from 1 to 10 usually. \n",
    "- Next, for each value of K, calculates the WCSS value, this is done throug the formulae above.\n",
    "- Plots a curve between calculated WCSS values and the number of clusters K.\n",
    "- The sharp point of bend or a point of the plot which looks like an arm, that point is assumed as the best value of K.\n",
    "\n",
    "![title](Images/image17.png) Source(Blogs Oracle, 2018)\n",
    "\n",
    "- We can choose the number of clusters equal to the given data points. If we choose the number of clusters equal to the data points, then the value of WCSS becomes zero, and that will be the endpoint of the plot.\n",
    "\n",
    "- **We already know the number is three from our dataset, three different species of the Iris plant.**\n",
    "\n"
   ]
  },
  {
   "cell_type": "markdown",
   "metadata": {},
   "source": [
    "### Import Libraries"
   ]
  },
  {
   "cell_type": "code",
   "execution_count": 23,
   "metadata": {},
   "outputs": [],
   "source": [
    "import sklearn.neighbors as nei # sub package from scikitlearn.\n",
    "# Need to import specific package with Scikitlearn.\n",
    "import pandas as pd # dataframe package\n",
    "import numpy as np # numerical package\n",
    "import seaborn as sns # visualization package\n",
    "import matplotlib.pyplot as plt # displays plots\n",
    "import sklearn.model_selection as mod\n",
    "import sklearn.cluster as KMeans\n",
    "from sklearn import datasets"
   ]
  },
  {
   "cell_type": "markdown",
   "metadata": {},
   "source": [
    "### Test dataset by locating first four colums, and locating rows one to ten."
   ]
  },
  {
   "cell_type": "code",
   "execution_count": 34,
   "metadata": {
    "scrolled": true
   },
   "outputs": [
    {
     "data": {
      "text/plain": [
       "array([[5.1, 3.5, 1.4, 0.2],\n",
       "       [4.9, 3. , 1.4, 0.2],\n",
       "       [4.7, 3.2, 1.3, 0.2],\n",
       "       [4.6, 3.1, 1.5, 0.2],\n",
       "       [5. , 3.6, 1.4, 0.2],\n",
       "       [5.4, 3.9, 1.7, 0.4],\n",
       "       [4.6, 3.4, 1.4, 0.3],\n",
       "       [5. , 3.4, 1.5, 0.2],\n",
       "       [4.4, 2.9, 1.4, 0.2],\n",
       "       [4.9, 3.1, 1.5, 0.1]])"
      ]
     },
     "execution_count": 34,
     "metadata": {},
     "output_type": "execute_result"
    }
   ],
   "source": [
    "k = df.iloc[:, [0, 1, 2, 3]].values  # return values from first 10 rows of dataset\n",
    "k[0:10]"
   ]
  },
  {
   "cell_type": "markdown",
   "metadata": {},
   "source": [
    "### Can use Elbow method to find the number of clusters.\n",
    "\n",
    "This is just for example purposes, we already know how many clusters we have."
   ]
  },
  {
   "cell_type": "code",
   "execution_count": 36,
   "metadata": {},
   "outputs": [
    {
     "data": {
      "image/png": "[encoded data removed]",
      "text/plain": [
       "<Figure size 432x288 with 1 Axes>"
      ]
     },
     "metadata": {
      "needs_background": "light"
     },
     "output_type": "display_data"
    },
    {
     "name": "stdout",
     "output_type": "stream",
     "text": [
      "We can see the number of clusters is 3, which we already knew.\n"
     ]
    }
   ],
   "source": [
    "# Here we find the number of clusters using Elbow Method. \n",
    "# https://www.javatpoint.com/k-means-clustering-algorithm-in-machine-learning\n",
    "# https://scikit-learn.org/stable/modules/generated/sklearn.cluster.KMeans.html\n",
    "\n",
    "from sklearn.cluster import KMeans  \n",
    "wcss_list= []  #Initializing the list for the values of WCSS  \n",
    "  \n",
    "#Using for loop for iterations from 1 to 10.  \n",
    "for i in range(1, 11):  \n",
    "    kmeans = KMeans(n_clusters=i, init='k-means++', random_state= 42) # https://scikit-learn.org/stable/modules/generated/sklearn.cluster.KMeans.html\n",
    "\n",
    "    kmeans.fit(k)  \n",
    "    wcss_list.append(kmeans.inertia_)  \n",
    "# Label graph\n",
    "plt.plot(range(1, 11), wcss_list)  \n",
    "plt.title('The Elobw Method Graph')  \n",
    "plt.xlabel('Number of clusters(k)')  \n",
    "plt.ylabel('wcss_list')  \n",
    "plt.show()   \n",
    "print(\"We can see the number of clusters is 3, which we already knew.\")"
   ]
  },
  {
   "cell_type": "markdown",
   "metadata": {},
   "source": [
    "### Let's take a look at our values on a plot."
   ]
  },
  {
   "cell_type": "code",
   "execution_count": 72,
   "metadata": {},
   "outputs": [],
   "source": [
    "k = datasets.load_iris() # load dataset\n"
   ]
  },
  {
   "cell_type": "code",
   "execution_count": 73,
   "metadata": {},
   "outputs": [
    {
     "name": "stdout",
     "output_type": "stream",
     "text": [
      "(array([[5.1, 3.5, 1.4, 0.2],\n",
      "       [4.9, 3. , 1.4, 0.2],\n",
      "       [4.7, 3.2, 1.3, 0.2],\n",
      "       [4.6, 3.1, 1.5, 0.2],\n",
      "       [5. , 3.6, 1.4, 0.2],\n",
      "       [5.4, 3.9, 1.7, 0.4],\n",
      "       [4.6, 3.4, 1.4, 0.3],\n",
      "       [5. , 3.4, 1.5, 0.2],\n",
      "       [4.4, 2.9, 1.4, 0.2],\n",
      "       [4.9, 3.1, 1.5, 0.1],\n",
      "       [5.4, 3.7, 1.5, 0.2],\n",
      "       [4.8, 3.4, 1.6, 0.2],\n",
      "       [4.8, 3. , 1.4, 0.1],\n",
      "       [4.3, 3. , 1.1, 0.1],\n",
      "       [5.8, 4. , 1.2, 0.2],\n",
      "       [5.7, 4.4, 1.5, 0.4],\n",
      "       [5.4, 3.9, 1.3, 0.4],\n",
      "       [5.1, 3.5, 1.4, 0.3],\n",
      "       [5.7, 3.8, 1.7, 0.3],\n",
      "       [5.1, 3.8, 1.5, 0.3],\n",
      "       [5.4, 3.4, 1.7, 0.2],\n",
      "       [5.1, 3.7, 1.5, 0.4],\n",
      "       [4.6, 3.6, 1. , 0.2],\n",
      "       [5.1, 3.3, 1.7, 0.5],\n",
      "       [4.8, 3.4, 1.9, 0.2],\n",
      "       [5. , 3. , 1.6, 0.2],\n",
      "       [5. , 3.4, 1.6, 0.4],\n",
      "       [5.2, 3.5, 1.5, 0.2],\n",
      "       [5.2, 3.4, 1.4, 0.2],\n",
      "       [4.7, 3.2, 1.6, 0.2],\n",
      "       [4.8, 3.1, 1.6, 0.2],\n",
      "       [5.4, 3.4, 1.5, 0.4],\n",
      "       [5.2, 4.1, 1.5, 0.1],\n",
      "       [5.5, 4.2, 1.4, 0.2],\n",
      "       [4.9, 3.1, 1.5, 0.2],\n",
      "       [5. , 3.2, 1.2, 0.2],\n",
      "       [5.5, 3.5, 1.3, 0.2],\n",
      "       [4.9, 3.6, 1.4, 0.1],\n",
      "       [4.4, 3. , 1.3, 0.2],\n",
      "       [5.1, 3.4, 1.5, 0.2],\n",
      "       [5. , 3.5, 1.3, 0.3],\n",
      "       [4.5, 2.3, 1.3, 0.3],\n",
      "       [4.4, 3.2, 1.3, 0.2],\n",
      "       [5. , 3.5, 1.6, 0.6],\n",
      "       [5.1, 3.8, 1.9, 0.4],\n",
      "       [4.8, 3. , 1.4, 0.3],\n",
      "       [5.1, 3.8, 1.6, 0.2],\n",
      "       [4.6, 3.2, 1.4, 0.2],\n",
      "       [5.3, 3.7, 1.5, 0.2],\n",
      "       [5. , 3.3, 1.4, 0.2],\n",
      "       [7. , 3.2, 4.7, 1.4],\n",
      "       [6.4, 3.2, 4.5, 1.5],\n",
      "       [6.9, 3.1, 4.9, 1.5],\n",
      "       [5.5, 2.3, 4. , 1.3],\n",
      "       [6.5, 2.8, 4.6, 1.5],\n",
      "       [5.7, 2.8, 4.5, 1.3],\n",
      "       [6.3, 3.3, 4.7, 1.6],\n",
      "       [4.9, 2.4, 3.3, 1. ],\n",
      "       [6.6, 2.9, 4.6, 1.3],\n",
      "       [5.2, 2.7, 3.9, 1.4],\n",
      "       [5. , 2. , 3.5, 1. ],\n",
      "       [5.9, 3. , 4.2, 1.5],\n",
      "       [6. , 2.2, 4. , 1. ],\n",
      "       [6.1, 2.9, 4.7, 1.4],\n",
      "       [5.6, 2.9, 3.6, 1.3],\n",
      "       [6.7, 3.1, 4.4, 1.4],\n",
      "       [5.6, 3. , 4.5, 1.5],\n",
      "       [5.8, 2.7, 4.1, 1. ],\n",
      "       [6.2, 2.2, 4.5, 1.5],\n",
      "       [5.6, 2.5, 3.9, 1.1],\n",
      "       [5.9, 3.2, 4.8, 1.8],\n",
      "       [6.1, 2.8, 4. , 1.3],\n",
      "       [6.3, 2.5, 4.9, 1.5],\n",
      "       [6.1, 2.8, 4.7, 1.2],\n",
      "       [6.4, 2.9, 4.3, 1.3],\n",
      "       [6.6, 3. , 4.4, 1.4],\n",
      "       [6.8, 2.8, 4.8, 1.4],\n",
      "       [6.7, 3. , 5. , 1.7],\n",
      "       [6. , 2.9, 4.5, 1.5],\n",
      "       [5.7, 2.6, 3.5, 1. ],\n",
      "       [5.5, 2.4, 3.8, 1.1],\n",
      "       [5.5, 2.4, 3.7, 1. ],\n",
      "       [5.8, 2.7, 3.9, 1.2],\n",
      "       [6. , 2.7, 5.1, 1.6],\n",
      "       [5.4, 3. , 4.5, 1.5],\n",
      "       [6. , 3.4, 4.5, 1.6],\n",
      "       [6.7, 3.1, 4.7, 1.5],\n",
      "       [6.3, 2.3, 4.4, 1.3],\n",
      "       [5.6, 3. , 4.1, 1.3],\n",
      "       [5.5, 2.5, 4. , 1.3],\n",
      "       [5.5, 2.6, 4.4, 1.2],\n",
      "       [6.1, 3. , 4.6, 1.4],\n",
      "       [5.8, 2.6, 4. , 1.2],\n",
      "       [5. , 2.3, 3.3, 1. ],\n",
      "       [5.6, 2.7, 4.2, 1.3],\n",
      "       [5.7, 3. , 4.2, 1.2],\n",
      "       [5.7, 2.9, 4.2, 1.3],\n",
      "       [6.2, 2.9, 4.3, 1.3],\n",
      "       [5.1, 2.5, 3. , 1.1],\n",
      "       [5.7, 2.8, 4.1, 1.3],\n",
      "       [6.3, 3.3, 6. , 2.5],\n",
      "       [5.8, 2.7, 5.1, 1.9],\n",
      "       [7.1, 3. , 5.9, 2.1],\n",
      "       [6.3, 2.9, 5.6, 1.8],\n",
      "       [6.5, 3. , 5.8, 2.2],\n",
      "       [7.6, 3. , 6.6, 2.1],\n",
      "       [4.9, 2.5, 4.5, 1.7],\n",
      "       [7.3, 2.9, 6.3, 1.8],\n",
      "       [6.7, 2.5, 5.8, 1.8],\n",
      "       [7.2, 3.6, 6.1, 2.5],\n",
      "       [6.5, 3.2, 5.1, 2. ],\n",
      "       [6.4, 2.7, 5.3, 1.9],\n",
      "       [6.8, 3. , 5.5, 2.1],\n",
      "       [5.7, 2.5, 5. , 2. ],\n",
      "       [5.8, 2.8, 5.1, 2.4],\n",
      "       [6.4, 3.2, 5.3, 2.3],\n",
      "       [6.5, 3. , 5.5, 1.8],\n",
      "       [7.7, 3.8, 6.7, 2.2],\n",
      "       [7.7, 2.6, 6.9, 2.3],\n",
      "       [6. , 2.2, 5. , 1.5],\n",
      "       [6.9, 3.2, 5.7, 2.3],\n",
      "       [5.6, 2.8, 4.9, 2. ],\n",
      "       [7.7, 2.8, 6.7, 2. ],\n",
      "       [6.3, 2.7, 4.9, 1.8],\n",
      "       [6.7, 3.3, 5.7, 2.1],\n",
      "       [7.2, 3.2, 6. , 1.8],\n",
      "       [6.2, 2.8, 4.8, 1.8],\n",
      "       [6.1, 3. , 4.9, 1.8],\n",
      "       [6.4, 2.8, 5.6, 2.1],\n",
      "       [7.2, 3. , 5.8, 1.6],\n",
      "       [7.4, 2.8, 6.1, 1.9],\n",
      "       [7.9, 3.8, 6.4, 2. ],\n",
      "       [6.4, 2.8, 5.6, 2.2],\n",
      "       [6.3, 2.8, 5.1, 1.5],\n",
      "       [6.1, 2.6, 5.6, 1.4],\n",
      "       [7.7, 3. , 6.1, 2.3],\n",
      "       [6.3, 3.4, 5.6, 2.4],\n",
      "       [6.4, 3.1, 5.5, 1.8],\n",
      "       [6. , 3. , 4.8, 1.8],\n",
      "       [6.9, 3.1, 5.4, 2.1],\n",
      "       [6.7, 3.1, 5.6, 2.4],\n",
      "       [6.9, 3.1, 5.1, 2.3],\n",
      "       [5.8, 2.7, 5.1, 1.9],\n",
      "       [6.8, 3.2, 5.9, 2.3],\n",
      "       [6.7, 3.3, 5.7, 2.5],\n",
      "       [6.7, 3. , 5.2, 2.3],\n",
      "       [6.3, 2.5, 5. , 1.9],\n",
      "       [6.5, 3. , 5.2, 2. ],\n",
      "       [6.2, 3.4, 5.4, 2.3],\n",
      "       [5.9, 3. , 5.1, 1.8]]), array([0, 0, 0, 0, 0, 0, 0, 0, 0, 0, 0, 0, 0, 0, 0, 0, 0, 0, 0, 0, 0, 0,\n",
      "       0, 0, 0, 0, 0, 0, 0, 0, 0, 0, 0, 0, 0, 0, 0, 0, 0, 0, 0, 0, 0, 0,\n",
      "       0, 0, 0, 0, 0, 0, 1, 1, 1, 1, 1, 1, 1, 1, 1, 1, 1, 1, 1, 1, 1, 1,\n",
      "       1, 1, 1, 1, 1, 1, 1, 1, 1, 1, 1, 1, 1, 1, 1, 1, 1, 1, 1, 1, 1, 1,\n",
      "       1, 1, 1, 1, 1, 1, 1, 1, 1, 1, 1, 1, 2, 2, 2, 2, 2, 2, 2, 2, 2, 2,\n",
      "       2, 2, 2, 2, 2, 2, 2, 2, 2, 2, 2, 2, 2, 2, 2, 2, 2, 2, 2, 2, 2, 2,\n",
      "       2, 2, 2, 2, 2, 2, 2, 2, 2, 2, 2, 2, 2, 2, 2, 2, 2, 2]))\n"
     ]
    }
   ],
   "source": [
    "# Returns the values and three clusters of species.\n",
    "x = k.data[:,] \n",
    "y = k.target\n",
    "vals = xvals,yvals\n",
    "print(vals)"
   ]
  },
  {
   "cell_type": "markdown",
   "metadata": {},
   "source": [
    "### Sepal length and Width"
   ]
  },
  {
   "cell_type": "code",
   "execution_count": 78,
   "metadata": {
    "scrolled": true
   },
   "outputs": [
    {
     "data": {
      "text/plain": [
       "Text(0, 0.5, 'Sepal Width')"
      ]
     },
     "execution_count": 78,
     "metadata": {},
     "output_type": "execute_result"
    },
    {
     "data": {
      "image/png": "[encoded data removed]",
      "text/plain": [
       "<Figure size 432x288 with 1 Axes>"
      ]
     },
     "metadata": {
      "needs_background": "light"
     },
     "output_type": "display_data"
    }
   ],
   "source": [
    "# Plot values for sepal len and width.\n",
    "plt.scatter(x[:,0], x[:,1], c=y, cmap='gist_rainbow') # 1st two cols of data\n",
    "plt.xlabel('Spea1 Length', fontsize=18) \n",
    "plt.ylabel('Sepal Width', fontsize=18)\n"
   ]
  },
  {
   "cell_type": "markdown",
   "metadata": {},
   "source": [
    "### Petal length and width."
   ]
  },
  {
   "cell_type": "code",
   "execution_count": 76,
   "metadata": {},
   "outputs": [
    {
     "data": {
      "text/plain": [
       "Text(0, 0.5, 'Petal Width')"
      ]
     },
     "execution_count": 76,
     "metadata": {},
     "output_type": "execute_result"
    },
    {
     "data": {
      "image/png": "[encoded data removed]",
      "text/plain": [
       "<Figure size 432x288 with 1 Axes>"
      ]
     },
     "metadata": {
      "needs_background": "light"
     },
     "output_type": "display_data"
    }
   ],
   "source": [
    "plt.scatter(x[:,2], x[:,3], c=y, cmap='gist_rainbow')\n",
    "plt.xlabel('Petal Length', fontsize=18)\n",
    "plt.ylabel('Petal Width', fontsize=18)"
   ]
  },
  {
   "cell_type": "markdown",
   "metadata": {},
   "source": [
    "### Training the K-Means model on the dataset.\n",
    "\n",
    "Training the K-means algorithm on the training dataset\n",
    "As we have got the number of clusters, so we can now train the model on the dataset.\n",
    "\n",
    "We will use three clusters and a random state of 0.\n"
   ]
  },
  {
   "cell_type": "markdown",
   "metadata": {},
   "source": [
    "### Prediction"
   ]
  },
  {
   "cell_type": "code",
   "execution_count": 96,
   "metadata": {},
   "outputs": [
    {
     "data": {
      "text/plain": [
       "KMeans(n_clusters=3, random_state=21)"
      ]
     },
     "execution_count": 96,
     "metadata": {},
     "output_type": "execute_result"
    }
   ],
   "source": [
    "km = KMeans(n_clusters = 3, random_state=21)\n",
    "km.fit(x) # 3 clusters we will use, and random states prevents it from giving back diff values every time.\n"
   ]
  },
  {
   "cell_type": "code",
   "execution_count": 98,
   "metadata": {},
   "outputs": [
    {
     "data": {
      "text/plain": [
       "array([1, 1, 1, 1, 1, 1, 1, 1, 1, 1, 1, 1, 1, 1, 1, 1, 1, 1, 1, 1, 1, 1,\n",
       "       1, 1, 1, 1, 1, 1, 1, 1, 1, 1, 1, 1, 1, 1, 1, 1, 1, 1, 1, 1, 1, 1,\n",
       "       1, 1, 1, 1, 1, 1, 0, 0, 2, 0, 0, 0, 0, 0, 0, 0, 0, 0, 0, 0, 0, 0,\n",
       "       0, 0, 0, 0, 0, 0, 0, 0, 0, 0, 0, 2, 0, 0, 0, 0, 0, 0, 0, 0, 0, 0,\n",
       "       0, 0, 0, 0, 0, 0, 0, 0, 0, 0, 0, 0, 2, 0, 2, 2, 2, 2, 0, 2, 2, 2,\n",
       "       2, 2, 2, 0, 0, 2, 2, 2, 2, 0, 2, 0, 2, 0, 2, 2, 0, 0, 2, 2, 2, 2,\n",
       "       2, 0, 2, 2, 2, 2, 0, 2, 2, 2, 0, 2, 2, 2, 0, 2, 2, 0])"
      ]
     },
     "execution_count": 98,
     "metadata": {},
     "output_type": "execute_result"
    }
   ],
   "source": [
    "# See the labels of the points, can see the three clusters, 0,1 and 2.\n",
    "km.labels_ "
   ]
  },
  {
   "cell_type": "code",
   "execution_count": 173,
   "metadata": {
    "scrolled": true
   },
   "outputs": [
    {
     "name": "stdout",
     "output_type": "stream",
     "text": [
      "[[5.9016129  2.7483871  4.39354839 1.43387097]\n",
      " [5.006      3.428      1.462      0.246     ]\n",
      " [6.85       3.07368421 5.74210526 2.07105263]]\n"
     ]
    }
   ],
   "source": [
    "center = km.cluster_centers_ # returns the centre points for all the clusters/values.\n",
    "print(center)"
   ]
  },
  {
   "cell_type": "markdown",
   "metadata": {},
   "source": [
    "### Here we can get the algorithm to predict which cluster the values entered below are likely to be from."
   ]
  },
  {
   "cell_type": "code",
   "execution_count": 175,
   "metadata": {},
   "outputs": [
    {
     "data": {
      "text/plain": [
       "array([2, 0])"
      ]
     },
     "execution_count": 175,
     "metadata": {},
     "output_type": "execute_result"
    }
   ],
   "source": [
    "# predicts the points/values based by the previous data set and returns what cluster/species they would belong to.\n",
    "k.predict([[0, 0, 4, 3], [4, 3, 9, 6]])"
   ]
  },
  {
   "cell_type": "markdown",
   "metadata": {},
   "source": [
    "**Identify the centre points of the above data.**"
   ]
  },
  {
   "cell_type": "code",
   "execution_count": 62,
   "metadata": {
    "scrolled": true
   },
   "outputs": [
    {
     "name": "stdout",
     "output_type": "stream",
     "text": [
      "[[6.56818182 3.08636364 5.53636364 2.16363636]\n",
      " [4.69       3.085      1.385      0.19      ]\n",
      " [5.9        2.91333333 4.39333333 1.37333333]\n",
      " [6.03684211 2.70526316 5.         1.77894737]\n",
      " [5.49       3.92       1.46       0.26      ]\n",
      " [7.475      3.125      6.3        2.05      ]\n",
      " [5.         2.3        3.275      1.025     ]\n",
      " [6.63333333 3.03333333 4.63333333 1.45833333]\n",
      " [5.575      2.56875    3.975      1.2125    ]\n",
      " [5.08       3.5        1.545      0.29      ]]\n"
     ]
    }
   ],
   "source": [
    "centers = kmeans.cluster_centers_ # returns the centre points for all the clusters/values.\n",
    "print(centers)"
   ]
  },
  {
   "cell_type": "markdown",
   "metadata": {},
   "source": [
    "### Predict the cluster for new values. \n",
    "\n",
    "Will return what clusters the values in each array belong to."
   ]
  },
  {
   "cell_type": "code",
   "execution_count": 83,
   "metadata": {},
   "outputs": [
    {
     "data": {
      "text/plain": [
       "array([1, 3])"
      ]
     },
     "execution_count": 83,
     "metadata": {},
     "output_type": "execute_result"
    }
   ],
   "source": [
    "newvalues = np.array([[3, 2, 1, 0], [4, 3, 6, 4]]) # create new vals and predict using the kmeans algorithm\n",
    "predictions = kmeans.predict(newvalues)\n",
    "predictions"
   ]
  },
  {
   "cell_type": "markdown",
   "metadata": {},
   "source": [
    "### Plot the new values \n",
    "\n",
    "### Needs to be finished. Task was changed. "
   ]
  },
  {
   "cell_type": "markdown",
   "metadata": {},
   "source": [
    "### References \n",
    "Encyclopedia Britannica, Sir Ronald Aylmer Fisher, 2019, viewed on 2019-12-14, available online: https://www.britannica.com/biography/Ronald-Aylmer-Fisher\n",
    "\n",
    "Machine Learning Mastery, Linear Discriminant Analysis for Machine Learning, 2016, viewed on 2019-12-14, available online: https://machinelearningmastery.com/linear-discriminant-analysis-for-machine-learning/\n",
    "\n",
    "Towardsdatscience, K-means Clustering, 2018, viewed on 2019-12-14, available online: https://scikit-learn.org/stable/modules/clustering.html#k-means https://towardsdatascience.com/k-means-clustering-algorithm-applications-evaluation-methods-and-drawbacks-aa03e644b48a\n",
    "\n",
    "SciKit Learn, Clustering, 2020, viewed on 2019-12-14, available online: https://scikit-learn.org/stable/modules/clustering.html#k-means \n",
    "\n",
    "\n",
    "Javapoint, K-Means Clustering, 2018, viewed on 2019-12-14, available online: https://www.javatpoint.com/k-means-clustering-algorithm-in-machine-learning\n",
    "\n",
    "Medium, Predicting Iris Flower Species With K-MEANS Clustering In Python, 2018, viewed on 2019-12-15, available online: https://medium.com/@belen.sanchez27/predicting-iris-flower-species-with-k-means-clustering-in-python-f6e46806aaee \n",
    "\n",
    "Blogs Oracles, Numbers or Clusters, 2018, viewed on 2019-12-14, available online: https://blogs.oracle.com/r/selecting-the-best-number-of-clusters-at-scale-using-oracle-r-enterprise\n",
    "\n",
    "\n"
   ]
  },
  {
   "cell_type": "markdown",
   "metadata": {},
   "source": [
    "***\n",
    "\n",
    "## Task 4 \n",
    "\n",
    "- Use scikit-learn to apply KNN, k-neareast neighbours algorithm to Fisher’s famous Iris data set.\n",
    "- You will easily obtain a copy of the data set online.\n",
    "- Explain in a Markdown cell how your code works and how accurate it might be, and then explain how your model could be used to make predictions of species of iris.\n",
    "\n",
    "![title](Images/image17.jpg)\n",
    "\n",
    "K Nearest Neighbor(KNN) is a very simple, easy to understand, versatile and one of the topmost machine learning algorithms. KNN used in the variety of applications such as finance, healthcare, political science, handwriting detection, image recognition and video recognition. In Credit ratings, financial institutes will predict the credit rating of customers. In loan disbursement, banking institutes will predict whether the loan is safe or risky. In political science, classifying potential voters in two classes will vote or won’t vote. KNN algorithm used for both classification and regression problems. KNN algorithm based on feature similarity approach. You can read up and find out <a href=\"https://www.datacamp.com/community/tutorials/k-nearest-neighbor-classification-scikit-learn\">here</a> a more detailed expalanation of how the algorithm works, and what code is to be applied when using this algorithm. (Datacamp, 2018)\n",
    "\n"
   ]
  },
  {
   "cell_type": "markdown",
   "metadata": {},
   "source": [
    "### Libraries"
   ]
  },
  {
   "cell_type": "code",
   "execution_count": 126,
   "metadata": {},
   "outputs": [],
   "source": [
    "\n",
    "import sklearn.neighbors as nei # sub package from scikitlearn.\n",
    "# Need to import specific package with Scikitlearn.\n",
    "import pandas as pd\n",
    "import numpy as np\n",
    "import seaborn as sns\n",
    "import sklearn.model_selection as mod"
   ]
  },
  {
   "cell_type": "markdown",
   "metadata": {},
   "source": [
    "### Load Dataset"
   ]
  },
  {
   "cell_type": "code",
   "execution_count": 127,
   "metadata": {},
   "outputs": [],
   "source": [
    "# Load Iris set from a URL.\n",
    "\n",
    "df = pd.read_csv(\"https://gist.githubusercontent.com/curran/a08a1080b88344b0c8a7/raw/639388c2cbc2120a14dcf466e85730eb8be498bb/iris.csv\")"
   ]
  },
  {
   "cell_type": "code",
   "execution_count": 128,
   "metadata": {},
   "outputs": [
    {
     "data": {
      "text/html": [
       "<div>\n",
       "<style scoped>\n",
       "    .dataframe tbody tr th:only-of-type {\n",
       "        vertical-align: middle;\n",
       "    }\n",
       "\n",
       "    .dataframe tbody tr th {\n",
       "        vertical-align: top;\n",
       "    }\n",
       "\n",
       "    .dataframe thead th {\n",
       "        text-align: right;\n",
       "    }\n",
       "</style>\n",
       "<table border=\"1\" class=\"dataframe\">\n",
       "  <thead>\n",
       "    <tr style=\"text-align: right;\">\n",
       "      <th></th>\n",
       "      <th>sepal_length</th>\n",
       "      <th>sepal_width</th>\n",
       "      <th>petal_length</th>\n",
       "      <th>petal_width</th>\n",
       "      <th>species</th>\n",
       "    </tr>\n",
       "  </thead>\n",
       "  <tbody>\n",
       "    <tr>\n",
       "      <th>0</th>\n",
       "      <td>5.1</td>\n",
       "      <td>3.5</td>\n",
       "      <td>1.4</td>\n",
       "      <td>0.2</td>\n",
       "      <td>setosa</td>\n",
       "    </tr>\n",
       "    <tr>\n",
       "      <th>1</th>\n",
       "      <td>4.9</td>\n",
       "      <td>3.0</td>\n",
       "      <td>1.4</td>\n",
       "      <td>0.2</td>\n",
       "      <td>setosa</td>\n",
       "    </tr>\n",
       "    <tr>\n",
       "      <th>2</th>\n",
       "      <td>4.7</td>\n",
       "      <td>3.2</td>\n",
       "      <td>1.3</td>\n",
       "      <td>0.2</td>\n",
       "      <td>setosa</td>\n",
       "    </tr>\n",
       "    <tr>\n",
       "      <th>3</th>\n",
       "      <td>4.6</td>\n",
       "      <td>3.1</td>\n",
       "      <td>1.5</td>\n",
       "      <td>0.2</td>\n",
       "      <td>setosa</td>\n",
       "    </tr>\n",
       "    <tr>\n",
       "      <th>4</th>\n",
       "      <td>5.0</td>\n",
       "      <td>3.6</td>\n",
       "      <td>1.4</td>\n",
       "      <td>0.2</td>\n",
       "      <td>setosa</td>\n",
       "    </tr>\n",
       "    <tr>\n",
       "      <th>...</th>\n",
       "      <td>...</td>\n",
       "      <td>...</td>\n",
       "      <td>...</td>\n",
       "      <td>...</td>\n",
       "      <td>...</td>\n",
       "    </tr>\n",
       "    <tr>\n",
       "      <th>145</th>\n",
       "      <td>6.7</td>\n",
       "      <td>3.0</td>\n",
       "      <td>5.2</td>\n",
       "      <td>2.3</td>\n",
       "      <td>virginica</td>\n",
       "    </tr>\n",
       "    <tr>\n",
       "      <th>146</th>\n",
       "      <td>6.3</td>\n",
       "      <td>2.5</td>\n",
       "      <td>5.0</td>\n",
       "      <td>1.9</td>\n",
       "      <td>virginica</td>\n",
       "    </tr>\n",
       "    <tr>\n",
       "      <th>147</th>\n",
       "      <td>6.5</td>\n",
       "      <td>3.0</td>\n",
       "      <td>5.2</td>\n",
       "      <td>2.0</td>\n",
       "      <td>virginica</td>\n",
       "    </tr>\n",
       "    <tr>\n",
       "      <th>148</th>\n",
       "      <td>6.2</td>\n",
       "      <td>3.4</td>\n",
       "      <td>5.4</td>\n",
       "      <td>2.3</td>\n",
       "      <td>virginica</td>\n",
       "    </tr>\n",
       "    <tr>\n",
       "      <th>149</th>\n",
       "      <td>5.9</td>\n",
       "      <td>3.0</td>\n",
       "      <td>5.1</td>\n",
       "      <td>1.8</td>\n",
       "      <td>virginica</td>\n",
       "    </tr>\n",
       "  </tbody>\n",
       "</table>\n",
       "<p>150 rows × 5 columns</p>\n",
       "</div>"
      ],
      "text/plain": [
       "     sepal_length  sepal_width  petal_length  petal_width    species\n",
       "0             5.1          3.5           1.4          0.2     setosa\n",
       "1             4.9          3.0           1.4          0.2     setosa\n",
       "2             4.7          3.2           1.3          0.2     setosa\n",
       "3             4.6          3.1           1.5          0.2     setosa\n",
       "4             5.0          3.6           1.4          0.2     setosa\n",
       "..            ...          ...           ...          ...        ...\n",
       "145           6.7          3.0           5.2          2.3  virginica\n",
       "146           6.3          2.5           5.0          1.9  virginica\n",
       "147           6.5          3.0           5.2          2.0  virginica\n",
       "148           6.2          3.4           5.4          2.3  virginica\n",
       "149           5.9          3.0           5.1          1.8  virginica\n",
       "\n",
       "[150 rows x 5 columns]"
      ]
     },
     "execution_count": 128,
     "metadata": {},
     "output_type": "execute_result"
    }
   ],
   "source": [
    "df"
   ]
  },
  {
   "cell_type": "markdown",
   "metadata": {},
   "source": [
    "### Visualize Datset"
   ]
  },
  {
   "cell_type": "code",
   "execution_count": 129,
   "metadata": {},
   "outputs": [
    {
     "data": {
      "text/plain": [
       "<seaborn.axisgrid.PairGrid at 0x225c6fab040>"
      ]
     },
     "execution_count": 129,
     "metadata": {},
     "output_type": "execute_result"
    },
    {
     "data": {
      "image/png": "[encoded data removed]",
      "text/plain": [
       "<Figure size 804.75x720 with 20 Axes>"
      ]
     },
     "metadata": {
      "needs_background": "light"
     },
     "output_type": "display_data"
    }
   ],
   "source": [
    "# Import Seaborn Package. Sometimes Jupyter can be a bit finicky with Seborn,\n",
    "# May need to run it twice.\n",
    "import seaborn as sns\n",
    "# plot the data with a pair plot\n",
    "sns.pairplot(df, hue=\"species\")"
   ]
  },
  {
   "cell_type": "markdown",
   "metadata": {},
   "source": [
    "### Predict\n",
    "\n",
    "- Take the four varibles in the columns (sepal length, sepal width, petal lenght and petal width) and take those four values and predict the class of Iris flower, that a given set of values relate to.\n",
    "- Going to use the algorithm to build up a model, to predict the class of a the flower.\n",
    "- If you come across a new Iris flower, can go to your KNN algorithm and test the new values, and hopefully KNN algorithm will be able to predict what class of flower it is, based on the 150 set of values from the data-set it has seen before.\n",
    "\n",
    "\n",
    "### Loading inputs and outputs.\n",
    "\n",
    "The idea here is to train the algorithm to know the sepal and petal dimensions, so that if you come along with a new Iris flower it will be able to tell you what kind of flower it is, based on it's measurements."
   ]
  },
  {
   "cell_type": "code",
   "execution_count": 130,
   "metadata": {},
   "outputs": [],
   "source": [
    "# Select four columns names from the dataframe.\n",
    "inputs = df[['sepal_length', 'sepal_width', 'petal_length', 'petal_width']] # Create new variable called inputs, from df cols.\n",
    "# Species column\n",
    "outputs = df['species'] # Create variable called outputs from df col, species."
   ]
  },
  {
   "cell_type": "markdown",
   "metadata": {},
   "source": [
    "- Next call inputs."
   ]
  },
  {
   "cell_type": "code",
   "execution_count": 131,
   "metadata": {},
   "outputs": [
    {
     "data": {
      "text/html": [
       "<div>\n",
       "<style scoped>\n",
       "    .dataframe tbody tr th:only-of-type {\n",
       "        vertical-align: middle;\n",
       "    }\n",
       "\n",
       "    .dataframe tbody tr th {\n",
       "        vertical-align: top;\n",
       "    }\n",
       "\n",
       "    .dataframe thead th {\n",
       "        text-align: right;\n",
       "    }\n",
       "</style>\n",
       "<table border=\"1\" class=\"dataframe\">\n",
       "  <thead>\n",
       "    <tr style=\"text-align: right;\">\n",
       "      <th></th>\n",
       "      <th>sepal_length</th>\n",
       "      <th>sepal_width</th>\n",
       "      <th>petal_length</th>\n",
       "      <th>petal_width</th>\n",
       "    </tr>\n",
       "  </thead>\n",
       "  <tbody>\n",
       "    <tr>\n",
       "      <th>0</th>\n",
       "      <td>5.1</td>\n",
       "      <td>3.5</td>\n",
       "      <td>1.4</td>\n",
       "      <td>0.2</td>\n",
       "    </tr>\n",
       "    <tr>\n",
       "      <th>1</th>\n",
       "      <td>4.9</td>\n",
       "      <td>3.0</td>\n",
       "      <td>1.4</td>\n",
       "      <td>0.2</td>\n",
       "    </tr>\n",
       "    <tr>\n",
       "      <th>2</th>\n",
       "      <td>4.7</td>\n",
       "      <td>3.2</td>\n",
       "      <td>1.3</td>\n",
       "      <td>0.2</td>\n",
       "    </tr>\n",
       "    <tr>\n",
       "      <th>3</th>\n",
       "      <td>4.6</td>\n",
       "      <td>3.1</td>\n",
       "      <td>1.5</td>\n",
       "      <td>0.2</td>\n",
       "    </tr>\n",
       "    <tr>\n",
       "      <th>4</th>\n",
       "      <td>5.0</td>\n",
       "      <td>3.6</td>\n",
       "      <td>1.4</td>\n",
       "      <td>0.2</td>\n",
       "    </tr>\n",
       "    <tr>\n",
       "      <th>...</th>\n",
       "      <td>...</td>\n",
       "      <td>...</td>\n",
       "      <td>...</td>\n",
       "      <td>...</td>\n",
       "    </tr>\n",
       "    <tr>\n",
       "      <th>145</th>\n",
       "      <td>6.7</td>\n",
       "      <td>3.0</td>\n",
       "      <td>5.2</td>\n",
       "      <td>2.3</td>\n",
       "    </tr>\n",
       "    <tr>\n",
       "      <th>146</th>\n",
       "      <td>6.3</td>\n",
       "      <td>2.5</td>\n",
       "      <td>5.0</td>\n",
       "      <td>1.9</td>\n",
       "    </tr>\n",
       "    <tr>\n",
       "      <th>147</th>\n",
       "      <td>6.5</td>\n",
       "      <td>3.0</td>\n",
       "      <td>5.2</td>\n",
       "      <td>2.0</td>\n",
       "    </tr>\n",
       "    <tr>\n",
       "      <th>148</th>\n",
       "      <td>6.2</td>\n",
       "      <td>3.4</td>\n",
       "      <td>5.4</td>\n",
       "      <td>2.3</td>\n",
       "    </tr>\n",
       "    <tr>\n",
       "      <th>149</th>\n",
       "      <td>5.9</td>\n",
       "      <td>3.0</td>\n",
       "      <td>5.1</td>\n",
       "      <td>1.8</td>\n",
       "    </tr>\n",
       "  </tbody>\n",
       "</table>\n",
       "<p>150 rows × 4 columns</p>\n",
       "</div>"
      ],
      "text/plain": [
       "     sepal_length  sepal_width  petal_length  petal_width\n",
       "0             5.1          3.5           1.4          0.2\n",
       "1             4.9          3.0           1.4          0.2\n",
       "2             4.7          3.2           1.3          0.2\n",
       "3             4.6          3.1           1.5          0.2\n",
       "4             5.0          3.6           1.4          0.2\n",
       "..            ...          ...           ...          ...\n",
       "145           6.7          3.0           5.2          2.3\n",
       "146           6.3          2.5           5.0          1.9\n",
       "147           6.5          3.0           5.2          2.0\n",
       "148           6.2          3.4           5.4          2.3\n",
       "149           5.9          3.0           5.1          1.8\n",
       "\n",
       "[150 rows x 4 columns]"
      ]
     },
     "execution_count": 131,
     "metadata": {},
     "output_type": "execute_result"
    }
   ],
   "source": [
    "# Values from 1st for cols.\n",
    "inputs # shows all the inputs you asked from the function above."
   ]
  },
  {
   "cell_type": "markdown",
   "metadata": {},
   "source": [
    "- Call ouputs"
   ]
  },
  {
   "cell_type": "code",
   "execution_count": 132,
   "metadata": {},
   "outputs": [
    {
     "data": {
      "text/plain": [
       "0         setosa\n",
       "1         setosa\n",
       "2         setosa\n",
       "3         setosa\n",
       "4         setosa\n",
       "         ...    \n",
       "145    virginica\n",
       "146    virginica\n",
       "147    virginica\n",
       "148    virginica\n",
       "149    virginica\n",
       "Name: species, Length: 150, dtype: object"
      ]
     },
     "execution_count": 132,
     "metadata": {},
     "output_type": "execute_result"
    }
   ],
   "source": [
    "# Call the species\n",
    "outputs\n",
    "# That seperates your df into inputs and outputs."
   ]
  },
  {
   "cell_type": "markdown",
   "metadata": {},
   "source": [
    "### Classifier\n",
    "Create the classifier and fit it to our data-set, and predict.\n",
    "\n",
    "How to <a href=\"https://www.datacamp.com/community/tutorials/k-nearest-neighbor-classification-scikit-learn\">train</a> K Nearest Neighbours classifier in sklearn. "
   ]
  },
  {
   "cell_type": "code",
   "execution_count": 133,
   "metadata": {},
   "outputs": [],
   "source": [
    "# Returns back an object, data-structure that selects it's five nearest neighbours.\n",
    "# Finds closest five dots from that data point in plot and decides what flower it is.\n",
    "# Can change the nember to whatever you need.\n",
    "knn = nei.KNeighborsClassifier(n_neighbors=5)"
   ]
  },
  {
   "cell_type": "markdown",
   "metadata": {},
   "source": [
    "### Fit\n",
    "\n",
    "- Train the **classifier** on your dataset.\n",
    "- Give it the inputs for which you know the outputs, you're going to fit that.\n",
    "- Tells KNN the data, and asks it to build a model.\n",
    "- Based on what each flower looks like, and in the future, be able to predict."
   ]
  },
  {
   "cell_type": "code",
   "execution_count": 134,
   "metadata": {},
   "outputs": [
    {
     "data": {
      "text/plain": [
       "KNeighborsClassifier()"
      ]
     },
     "execution_count": 134,
     "metadata": {},
     "output_type": "execute_result"
    }
   ],
   "source": [
    "# Assign our vars we created above\n",
    "knn.fit(inputs, outputs) # Fit inputs and outputs to knn."
   ]
  },
  {
   "cell_type": "markdown",
   "metadata": {},
   "source": [
    "### Making Predictions\n",
    "- How to make predictions from a trained classifier.\n",
    "- So far we have trained it to have 5 neighbours.\n",
    "- And given it the Iris dataset, with 150 inputs, for which we know the 150 outputs.\n",
    "- KNN algorithm gone in, and prepared to make predictions based on that dataset.\n",
    "- Now we give it one it was trained on."
   ]
  },
  {
   "cell_type": "code",
   "execution_count": 135,
   "metadata": {},
   "outputs": [
    {
     "data": {
      "text/plain": [
       "sepal_length       5.1\n",
       "sepal_width        3.5\n",
       "petal_length       1.4\n",
       "petal_width        0.2\n",
       "species         setosa\n",
       "Name: 0, dtype: object"
      ]
     },
     "execution_count": 135,
     "metadata": {},
     "output_type": "execute_result"
    }
   ],
   "source": [
    "df.loc[0] # Locates data from the first row."
   ]
  },
  {
   "cell_type": "code",
   "execution_count": 136,
   "metadata": {},
   "outputs": [
    {
     "data": {
      "text/plain": [
       "array(['setosa'], dtype=object)"
      ]
     },
     "execution_count": 136,
     "metadata": {},
     "output_type": "execute_result"
    }
   ],
   "source": [
    "# Call the prediction function.\n",
    "knn.predict([[5.1, 3.5, 1.4, 0.2]])# Give it the data from above, should recognise and predict it as a Setosa."
   ]
  },
  {
   "cell_type": "markdown",
   "metadata": {},
   "source": [
    "### It might not always make the right prediction, based upon what it has been trained, just a facet of the algorithm."
   ]
  },
  {
   "cell_type": "code",
   "execution_count": 137,
   "metadata": {},
   "outputs": [
    {
     "data": {
      "text/plain": [
       "array(['setosa', 'versicolor'], dtype=object)"
      ]
     },
     "execution_count": 137,
     "metadata": {},
     "output_type": "execute_result"
    }
   ],
   "source": [
    "# Can add a second if you like by the following: \n",
    "knn.predict([[5.1, 3.5, 1.4, 0.2], [2.1, 2.5, 4.0, 2.2]])"
   ]
  },
  {
   "cell_type": "markdown",
   "metadata": {},
   "source": [
    "### Evaluate\n",
    "\n",
    "- It might not always give the correct output, based upon what it has been trained for.\n",
    "\n",
    "**Testing the classifier**\n",
    "- How to test the knn classifier in sklearn."
   ]
  },
  {
   "cell_type": "code",
   "execution_count": 138,
   "metadata": {},
   "outputs": [
    {
     "data": {
      "text/plain": [
       "array(['setosa', 'setosa', 'setosa', 'setosa', 'setosa', 'setosa',\n",
       "       'setosa', 'setosa', 'setosa', 'setosa', 'setosa', 'setosa',\n",
       "       'setosa', 'setosa', 'setosa', 'setosa', 'setosa', 'setosa',\n",
       "       'setosa', 'setosa', 'setosa', 'setosa', 'setosa', 'setosa',\n",
       "       'setosa', 'setosa', 'setosa', 'setosa', 'setosa', 'setosa',\n",
       "       'setosa', 'setosa', 'setosa', 'setosa', 'setosa', 'setosa',\n",
       "       'setosa', 'setosa', 'setosa', 'setosa', 'setosa', 'setosa',\n",
       "       'setosa', 'setosa', 'setosa', 'setosa', 'setosa', 'setosa',\n",
       "       'setosa', 'setosa', 'versicolor', 'versicolor', 'versicolor',\n",
       "       'versicolor', 'versicolor', 'versicolor', 'versicolor',\n",
       "       'versicolor', 'versicolor', 'versicolor', 'versicolor',\n",
       "       'versicolor', 'versicolor', 'versicolor', 'versicolor',\n",
       "       'versicolor', 'versicolor', 'versicolor', 'versicolor',\n",
       "       'versicolor', 'virginica', 'versicolor', 'virginica', 'versicolor',\n",
       "       'versicolor', 'versicolor', 'versicolor', 'versicolor',\n",
       "       'versicolor', 'versicolor', 'versicolor', 'versicolor',\n",
       "       'versicolor', 'virginica', 'versicolor', 'versicolor',\n",
       "       'versicolor', 'versicolor', 'versicolor', 'versicolor',\n",
       "       'versicolor', 'versicolor', 'versicolor', 'versicolor',\n",
       "       'versicolor', 'versicolor', 'versicolor', 'versicolor',\n",
       "       'versicolor', 'versicolor', 'virginica', 'virginica', 'virginica',\n",
       "       'virginica', 'virginica', 'virginica', 'versicolor', 'virginica',\n",
       "       'virginica', 'virginica', 'virginica', 'virginica', 'virginica',\n",
       "       'virginica', 'virginica', 'virginica', 'virginica', 'virginica',\n",
       "       'virginica', 'versicolor', 'virginica', 'virginica', 'virginica',\n",
       "       'virginica', 'virginica', 'virginica', 'virginica', 'virginica',\n",
       "       'virginica', 'virginica', 'virginica', 'virginica', 'virginica',\n",
       "       'virginica', 'virginica', 'virginica', 'virginica', 'virginica',\n",
       "       'virginica', 'virginica', 'virginica', 'virginica', 'virginica',\n",
       "       'virginica', 'virginica', 'virginica', 'virginica', 'virginica',\n",
       "       'virginica', 'virginica'], dtype=object)"
      ]
     },
     "execution_count": 138,
     "metadata": {},
     "output_type": "execute_result"
    }
   ],
   "source": [
    "knn.predict(inputs)"
   ]
  },
  {
   "cell_type": "code",
   "execution_count": 139,
   "metadata": {},
   "outputs": [
    {
     "data": {
      "text/plain": [
       "0         setosa\n",
       "1         setosa\n",
       "2         setosa\n",
       "3         setosa\n",
       "4         setosa\n",
       "         ...    \n",
       "145    virginica\n",
       "146    virginica\n",
       "147    virginica\n",
       "148    virginica\n",
       "149    virginica\n",
       "Name: species, Length: 150, dtype: object"
      ]
     },
     "execution_count": 139,
     "metadata": {},
     "output_type": "execute_result"
    }
   ],
   "source": [
    "# Displays list of values from df\n",
    "outputs"
   ]
  },
  {
   "cell_type": "code",
   "execution_count": 140,
   "metadata": {},
   "outputs": [
    {
     "data": {
      "text/plain": [
       "0      True\n",
       "1      True\n",
       "2      True\n",
       "3      True\n",
       "4      True\n",
       "       ... \n",
       "145    True\n",
       "146    True\n",
       "147    True\n",
       "148    True\n",
       "149    True\n",
       "Name: species, Length: 150, dtype: bool"
      ]
     },
     "execution_count": 140,
     "metadata": {},
     "output_type": "execute_result"
    }
   ],
   "source": [
    "knn.predict(inputs) == outputs # knn predicts that the input is equal to the output, or not."
   ]
  },
  {
   "cell_type": "code",
   "execution_count": 141,
   "metadata": {},
   "outputs": [
    {
     "data": {
      "text/plain": [
       "145"
      ]
     },
     "execution_count": 141,
     "metadata": {},
     "output_type": "execute_result"
    }
   ],
   "source": [
    "(knn.predict(inputs) == outputs).sum() # Displays how many are true, predicts 145, can be down to the explanation just above."
   ]
  },
  {
   "cell_type": "markdown",
   "metadata": {},
   "source": [
    "#### We can see how many false values there are using the function below.\n",
    "You are not guaranteed that the classifier will classify the values correctly, in the plot above a versicolor is in the middle of virginica's, so classifier will predict that it is a virginca, based on it's five nearest neighbours being virginica's. So it will not always get the training set correct."
   ]
  },
  {
   "cell_type": "markdown",
   "metadata": {},
   "source": [
    "### Import from sklearn.model.train.test\n",
    "\n",
    "- Train, test split takes your df, which has 150 different rows in it, we split it into inputs and ouputs, tell it to split the inputs and outputs into two parts, we want 150 training inputs and training outputs, and put the rest of the test into inputs test and outputs test. We specified that the test size should be a third(0.33),\n",
    "- So there should be 100 rows in inputs train and outputs train, 50 in test."
   ]
  },
  {
   "cell_type": "code",
   "execution_count": 142,
   "metadata": {},
   "outputs": [],
   "source": [
    "# Import from sklearn.model.train.test\n",
    "# Returns arrays\n",
    "inputs_train, inputs_test, outputs_train, outputs_test = mod.train_test_split(inputs, outputs, test_size=0.33)"
   ]
  },
  {
   "cell_type": "code",
   "execution_count": 143,
   "metadata": {},
   "outputs": [
    {
     "data": {
      "text/html": [
       "<div>\n",
       "<style scoped>\n",
       "    .dataframe tbody tr th:only-of-type {\n",
       "        vertical-align: middle;\n",
       "    }\n",
       "\n",
       "    .dataframe tbody tr th {\n",
       "        vertical-align: top;\n",
       "    }\n",
       "\n",
       "    .dataframe thead th {\n",
       "        text-align: right;\n",
       "    }\n",
       "</style>\n",
       "<table border=\"1\" class=\"dataframe\">\n",
       "  <thead>\n",
       "    <tr style=\"text-align: right;\">\n",
       "      <th></th>\n",
       "      <th>sepal_length</th>\n",
       "      <th>sepal_width</th>\n",
       "      <th>petal_length</th>\n",
       "      <th>petal_width</th>\n",
       "    </tr>\n",
       "  </thead>\n",
       "  <tbody>\n",
       "    <tr>\n",
       "      <th>133</th>\n",
       "      <td>6.3</td>\n",
       "      <td>2.8</td>\n",
       "      <td>5.1</td>\n",
       "      <td>1.5</td>\n",
       "    </tr>\n",
       "    <tr>\n",
       "      <th>63</th>\n",
       "      <td>6.1</td>\n",
       "      <td>2.9</td>\n",
       "      <td>4.7</td>\n",
       "      <td>1.4</td>\n",
       "    </tr>\n",
       "    <tr>\n",
       "      <th>121</th>\n",
       "      <td>5.6</td>\n",
       "      <td>2.8</td>\n",
       "      <td>4.9</td>\n",
       "      <td>2.0</td>\n",
       "    </tr>\n",
       "    <tr>\n",
       "      <th>97</th>\n",
       "      <td>6.2</td>\n",
       "      <td>2.9</td>\n",
       "      <td>4.3</td>\n",
       "      <td>1.3</td>\n",
       "    </tr>\n",
       "    <tr>\n",
       "      <th>7</th>\n",
       "      <td>5.0</td>\n",
       "      <td>3.4</td>\n",
       "      <td>1.5</td>\n",
       "      <td>0.2</td>\n",
       "    </tr>\n",
       "    <tr>\n",
       "      <th>...</th>\n",
       "      <td>...</td>\n",
       "      <td>...</td>\n",
       "      <td>...</td>\n",
       "      <td>...</td>\n",
       "    </tr>\n",
       "    <tr>\n",
       "      <th>71</th>\n",
       "      <td>6.1</td>\n",
       "      <td>2.8</td>\n",
       "      <td>4.0</td>\n",
       "      <td>1.3</td>\n",
       "    </tr>\n",
       "    <tr>\n",
       "      <th>138</th>\n",
       "      <td>6.0</td>\n",
       "      <td>3.0</td>\n",
       "      <td>4.8</td>\n",
       "      <td>1.8</td>\n",
       "    </tr>\n",
       "    <tr>\n",
       "      <th>106</th>\n",
       "      <td>4.9</td>\n",
       "      <td>2.5</td>\n",
       "      <td>4.5</td>\n",
       "      <td>1.7</td>\n",
       "    </tr>\n",
       "    <tr>\n",
       "      <th>25</th>\n",
       "      <td>5.0</td>\n",
       "      <td>3.0</td>\n",
       "      <td>1.6</td>\n",
       "      <td>0.2</td>\n",
       "    </tr>\n",
       "    <tr>\n",
       "      <th>124</th>\n",
       "      <td>6.7</td>\n",
       "      <td>3.3</td>\n",
       "      <td>5.7</td>\n",
       "      <td>2.1</td>\n",
       "    </tr>\n",
       "  </tbody>\n",
       "</table>\n",
       "<p>100 rows × 4 columns</p>\n",
       "</div>"
      ],
      "text/plain": [
       "     sepal_length  sepal_width  petal_length  petal_width\n",
       "133           6.3          2.8           5.1          1.5\n",
       "63            6.1          2.9           4.7          1.4\n",
       "121           5.6          2.8           4.9          2.0\n",
       "97            6.2          2.9           4.3          1.3\n",
       "7             5.0          3.4           1.5          0.2\n",
       "..            ...          ...           ...          ...\n",
       "71            6.1          2.8           4.0          1.3\n",
       "138           6.0          3.0           4.8          1.8\n",
       "106           4.9          2.5           4.5          1.7\n",
       "25            5.0          3.0           1.6          0.2\n",
       "124           6.7          3.3           5.7          2.1\n",
       "\n",
       "[100 rows x 4 columns]"
      ]
     },
     "execution_count": 143,
     "metadata": {},
     "output_type": "execute_result"
    }
   ],
   "source": [
    "# 100 rows which we trained, shuffles the rows so we get a random selection of them.\n",
    "inputs_train"
   ]
  },
  {
   "cell_type": "code",
   "execution_count": 144,
   "metadata": {},
   "outputs": [
    {
     "data": {
      "text/plain": [
       "133     virginica\n",
       "63     versicolor\n",
       "121     virginica\n",
       "97     versicolor\n",
       "7          setosa\n",
       "          ...    \n",
       "71     versicolor\n",
       "138     virginica\n",
       "106     virginica\n",
       "25         setosa\n",
       "124     virginica\n",
       "Name: species, Length: 100, dtype: object"
      ]
     },
     "execution_count": 144,
     "metadata": {},
     "output_type": "execute_result"
    }
   ],
   "source": [
    "# Should be 100 rows also.\n",
    "outputs_train"
   ]
  },
  {
   "cell_type": "code",
   "execution_count": 145,
   "metadata": {},
   "outputs": [
    {
     "data": {
      "text/html": [
       "<div>\n",
       "<style scoped>\n",
       "    .dataframe tbody tr th:only-of-type {\n",
       "        vertical-align: middle;\n",
       "    }\n",
       "\n",
       "    .dataframe tbody tr th {\n",
       "        vertical-align: top;\n",
       "    }\n",
       "\n",
       "    .dataframe thead th {\n",
       "        text-align: right;\n",
       "    }\n",
       "</style>\n",
       "<table border=\"1\" class=\"dataframe\">\n",
       "  <thead>\n",
       "    <tr style=\"text-align: right;\">\n",
       "      <th></th>\n",
       "      <th>sepal_length</th>\n",
       "      <th>sepal_width</th>\n",
       "      <th>petal_length</th>\n",
       "      <th>petal_width</th>\n",
       "    </tr>\n",
       "  </thead>\n",
       "  <tbody>\n",
       "    <tr>\n",
       "      <th>78</th>\n",
       "      <td>6.0</td>\n",
       "      <td>2.9</td>\n",
       "      <td>4.5</td>\n",
       "      <td>1.5</td>\n",
       "    </tr>\n",
       "    <tr>\n",
       "      <th>81</th>\n",
       "      <td>5.5</td>\n",
       "      <td>2.4</td>\n",
       "      <td>3.7</td>\n",
       "      <td>1.0</td>\n",
       "    </tr>\n",
       "    <tr>\n",
       "      <th>119</th>\n",
       "      <td>6.0</td>\n",
       "      <td>2.2</td>\n",
       "      <td>5.0</td>\n",
       "      <td>1.5</td>\n",
       "    </tr>\n",
       "    <tr>\n",
       "      <th>143</th>\n",
       "      <td>6.8</td>\n",
       "      <td>3.2</td>\n",
       "      <td>5.9</td>\n",
       "      <td>2.3</td>\n",
       "    </tr>\n",
       "    <tr>\n",
       "      <th>144</th>\n",
       "      <td>6.7</td>\n",
       "      <td>3.3</td>\n",
       "      <td>5.7</td>\n",
       "      <td>2.5</td>\n",
       "    </tr>\n",
       "    <tr>\n",
       "      <th>18</th>\n",
       "      <td>5.7</td>\n",
       "      <td>3.8</td>\n",
       "      <td>1.7</td>\n",
       "      <td>0.3</td>\n",
       "    </tr>\n",
       "    <tr>\n",
       "      <th>24</th>\n",
       "      <td>4.8</td>\n",
       "      <td>3.4</td>\n",
       "      <td>1.9</td>\n",
       "      <td>0.2</td>\n",
       "    </tr>\n",
       "    <tr>\n",
       "      <th>93</th>\n",
       "      <td>5.0</td>\n",
       "      <td>2.3</td>\n",
       "      <td>3.3</td>\n",
       "      <td>1.0</td>\n",
       "    </tr>\n",
       "    <tr>\n",
       "      <th>44</th>\n",
       "      <td>5.1</td>\n",
       "      <td>3.8</td>\n",
       "      <td>1.9</td>\n",
       "      <td>0.4</td>\n",
       "    </tr>\n",
       "    <tr>\n",
       "      <th>14</th>\n",
       "      <td>5.8</td>\n",
       "      <td>4.0</td>\n",
       "      <td>1.2</td>\n",
       "      <td>0.2</td>\n",
       "    </tr>\n",
       "    <tr>\n",
       "      <th>132</th>\n",
       "      <td>6.4</td>\n",
       "      <td>2.8</td>\n",
       "      <td>5.6</td>\n",
       "      <td>2.2</td>\n",
       "    </tr>\n",
       "    <tr>\n",
       "      <th>108</th>\n",
       "      <td>6.7</td>\n",
       "      <td>2.5</td>\n",
       "      <td>5.8</td>\n",
       "      <td>1.8</td>\n",
       "    </tr>\n",
       "    <tr>\n",
       "      <th>23</th>\n",
       "      <td>5.1</td>\n",
       "      <td>3.3</td>\n",
       "      <td>1.7</td>\n",
       "      <td>0.5</td>\n",
       "    </tr>\n",
       "    <tr>\n",
       "      <th>77</th>\n",
       "      <td>6.7</td>\n",
       "      <td>3.0</td>\n",
       "      <td>5.0</td>\n",
       "      <td>1.7</td>\n",
       "    </tr>\n",
       "    <tr>\n",
       "      <th>33</th>\n",
       "      <td>5.5</td>\n",
       "      <td>4.2</td>\n",
       "      <td>1.4</td>\n",
       "      <td>0.2</td>\n",
       "    </tr>\n",
       "    <tr>\n",
       "      <th>75</th>\n",
       "      <td>6.6</td>\n",
       "      <td>3.0</td>\n",
       "      <td>4.4</td>\n",
       "      <td>1.4</td>\n",
       "    </tr>\n",
       "    <tr>\n",
       "      <th>50</th>\n",
       "      <td>7.0</td>\n",
       "      <td>3.2</td>\n",
       "      <td>4.7</td>\n",
       "      <td>1.4</td>\n",
       "    </tr>\n",
       "    <tr>\n",
       "      <th>101</th>\n",
       "      <td>5.8</td>\n",
       "      <td>2.7</td>\n",
       "      <td>5.1</td>\n",
       "      <td>1.9</td>\n",
       "    </tr>\n",
       "    <tr>\n",
       "      <th>13</th>\n",
       "      <td>4.3</td>\n",
       "      <td>3.0</td>\n",
       "      <td>1.1</td>\n",
       "      <td>0.1</td>\n",
       "    </tr>\n",
       "    <tr>\n",
       "      <th>98</th>\n",
       "      <td>5.1</td>\n",
       "      <td>2.5</td>\n",
       "      <td>3.0</td>\n",
       "      <td>1.1</td>\n",
       "    </tr>\n",
       "    <tr>\n",
       "      <th>84</th>\n",
       "      <td>5.4</td>\n",
       "      <td>3.0</td>\n",
       "      <td>4.5</td>\n",
       "      <td>1.5</td>\n",
       "    </tr>\n",
       "    <tr>\n",
       "      <th>41</th>\n",
       "      <td>4.5</td>\n",
       "      <td>2.3</td>\n",
       "      <td>1.3</td>\n",
       "      <td>0.3</td>\n",
       "    </tr>\n",
       "    <tr>\n",
       "      <th>9</th>\n",
       "      <td>4.9</td>\n",
       "      <td>3.1</td>\n",
       "      <td>1.5</td>\n",
       "      <td>0.1</td>\n",
       "    </tr>\n",
       "    <tr>\n",
       "      <th>5</th>\n",
       "      <td>5.4</td>\n",
       "      <td>3.9</td>\n",
       "      <td>1.7</td>\n",
       "      <td>0.4</td>\n",
       "    </tr>\n",
       "    <tr>\n",
       "      <th>118</th>\n",
       "      <td>7.7</td>\n",
       "      <td>2.6</td>\n",
       "      <td>6.9</td>\n",
       "      <td>2.3</td>\n",
       "    </tr>\n",
       "    <tr>\n",
       "      <th>15</th>\n",
       "      <td>5.7</td>\n",
       "      <td>4.4</td>\n",
       "      <td>1.5</td>\n",
       "      <td>0.4</td>\n",
       "    </tr>\n",
       "    <tr>\n",
       "      <th>141</th>\n",
       "      <td>6.9</td>\n",
       "      <td>3.1</td>\n",
       "      <td>5.1</td>\n",
       "      <td>2.3</td>\n",
       "    </tr>\n",
       "    <tr>\n",
       "      <th>91</th>\n",
       "      <td>6.1</td>\n",
       "      <td>3.0</td>\n",
       "      <td>4.6</td>\n",
       "      <td>1.4</td>\n",
       "    </tr>\n",
       "    <tr>\n",
       "      <th>146</th>\n",
       "      <td>6.3</td>\n",
       "      <td>2.5</td>\n",
       "      <td>5.0</td>\n",
       "      <td>1.9</td>\n",
       "    </tr>\n",
       "    <tr>\n",
       "      <th>16</th>\n",
       "      <td>5.4</td>\n",
       "      <td>3.9</td>\n",
       "      <td>1.3</td>\n",
       "      <td>0.4</td>\n",
       "    </tr>\n",
       "    <tr>\n",
       "      <th>58</th>\n",
       "      <td>6.6</td>\n",
       "      <td>2.9</td>\n",
       "      <td>4.6</td>\n",
       "      <td>1.3</td>\n",
       "    </tr>\n",
       "    <tr>\n",
       "      <th>102</th>\n",
       "      <td>7.1</td>\n",
       "      <td>3.0</td>\n",
       "      <td>5.9</td>\n",
       "      <td>2.1</td>\n",
       "    </tr>\n",
       "    <tr>\n",
       "      <th>69</th>\n",
       "      <td>5.6</td>\n",
       "      <td>2.5</td>\n",
       "      <td>3.9</td>\n",
       "      <td>1.1</td>\n",
       "    </tr>\n",
       "    <tr>\n",
       "      <th>147</th>\n",
       "      <td>6.5</td>\n",
       "      <td>3.0</td>\n",
       "      <td>5.2</td>\n",
       "      <td>2.0</td>\n",
       "    </tr>\n",
       "    <tr>\n",
       "      <th>12</th>\n",
       "      <td>4.8</td>\n",
       "      <td>3.0</td>\n",
       "      <td>1.4</td>\n",
       "      <td>0.1</td>\n",
       "    </tr>\n",
       "    <tr>\n",
       "      <th>100</th>\n",
       "      <td>6.3</td>\n",
       "      <td>3.3</td>\n",
       "      <td>6.0</td>\n",
       "      <td>2.5</td>\n",
       "    </tr>\n",
       "    <tr>\n",
       "      <th>29</th>\n",
       "      <td>4.7</td>\n",
       "      <td>3.2</td>\n",
       "      <td>1.6</td>\n",
       "      <td>0.2</td>\n",
       "    </tr>\n",
       "    <tr>\n",
       "      <th>126</th>\n",
       "      <td>6.2</td>\n",
       "      <td>2.8</td>\n",
       "      <td>4.8</td>\n",
       "      <td>1.8</td>\n",
       "    </tr>\n",
       "    <tr>\n",
       "      <th>72</th>\n",
       "      <td>6.3</td>\n",
       "      <td>2.5</td>\n",
       "      <td>4.9</td>\n",
       "      <td>1.5</td>\n",
       "    </tr>\n",
       "    <tr>\n",
       "      <th>64</th>\n",
       "      <td>5.6</td>\n",
       "      <td>2.9</td>\n",
       "      <td>3.6</td>\n",
       "      <td>1.3</td>\n",
       "    </tr>\n",
       "    <tr>\n",
       "      <th>130</th>\n",
       "      <td>7.4</td>\n",
       "      <td>2.8</td>\n",
       "      <td>6.1</td>\n",
       "      <td>1.9</td>\n",
       "    </tr>\n",
       "    <tr>\n",
       "      <th>52</th>\n",
       "      <td>6.9</td>\n",
       "      <td>3.1</td>\n",
       "      <td>4.9</td>\n",
       "      <td>1.5</td>\n",
       "    </tr>\n",
       "    <tr>\n",
       "      <th>67</th>\n",
       "      <td>5.8</td>\n",
       "      <td>2.7</td>\n",
       "      <td>4.1</td>\n",
       "      <td>1.0</td>\n",
       "    </tr>\n",
       "    <tr>\n",
       "      <th>128</th>\n",
       "      <td>6.4</td>\n",
       "      <td>2.8</td>\n",
       "      <td>5.6</td>\n",
       "      <td>2.1</td>\n",
       "    </tr>\n",
       "    <tr>\n",
       "      <th>8</th>\n",
       "      <td>4.4</td>\n",
       "      <td>2.9</td>\n",
       "      <td>1.4</td>\n",
       "      <td>0.2</td>\n",
       "    </tr>\n",
       "    <tr>\n",
       "      <th>129</th>\n",
       "      <td>7.2</td>\n",
       "      <td>3.0</td>\n",
       "      <td>5.8</td>\n",
       "      <td>1.6</td>\n",
       "    </tr>\n",
       "    <tr>\n",
       "      <th>30</th>\n",
       "      <td>4.8</td>\n",
       "      <td>3.1</td>\n",
       "      <td>1.6</td>\n",
       "      <td>0.2</td>\n",
       "    </tr>\n",
       "    <tr>\n",
       "      <th>104</th>\n",
       "      <td>6.5</td>\n",
       "      <td>3.0</td>\n",
       "      <td>5.8</td>\n",
       "      <td>2.2</td>\n",
       "    </tr>\n",
       "    <tr>\n",
       "      <th>135</th>\n",
       "      <td>7.7</td>\n",
       "      <td>3.0</td>\n",
       "      <td>6.1</td>\n",
       "      <td>2.3</td>\n",
       "    </tr>\n",
       "    <tr>\n",
       "      <th>148</th>\n",
       "      <td>6.2</td>\n",
       "      <td>3.4</td>\n",
       "      <td>5.4</td>\n",
       "      <td>2.3</td>\n",
       "    </tr>\n",
       "  </tbody>\n",
       "</table>\n",
       "</div>"
      ],
      "text/plain": [
       "     sepal_length  sepal_width  petal_length  petal_width\n",
       "78            6.0          2.9           4.5          1.5\n",
       "81            5.5          2.4           3.7          1.0\n",
       "119           6.0          2.2           5.0          1.5\n",
       "143           6.8          3.2           5.9          2.3\n",
       "144           6.7          3.3           5.7          2.5\n",
       "18            5.7          3.8           1.7          0.3\n",
       "24            4.8          3.4           1.9          0.2\n",
       "93            5.0          2.3           3.3          1.0\n",
       "44            5.1          3.8           1.9          0.4\n",
       "14            5.8          4.0           1.2          0.2\n",
       "132           6.4          2.8           5.6          2.2\n",
       "108           6.7          2.5           5.8          1.8\n",
       "23            5.1          3.3           1.7          0.5\n",
       "77            6.7          3.0           5.0          1.7\n",
       "33            5.5          4.2           1.4          0.2\n",
       "75            6.6          3.0           4.4          1.4\n",
       "50            7.0          3.2           4.7          1.4\n",
       "101           5.8          2.7           5.1          1.9\n",
       "13            4.3          3.0           1.1          0.1\n",
       "98            5.1          2.5           3.0          1.1\n",
       "84            5.4          3.0           4.5          1.5\n",
       "41            4.5          2.3           1.3          0.3\n",
       "9             4.9          3.1           1.5          0.1\n",
       "5             5.4          3.9           1.7          0.4\n",
       "118           7.7          2.6           6.9          2.3\n",
       "15            5.7          4.4           1.5          0.4\n",
       "141           6.9          3.1           5.1          2.3\n",
       "91            6.1          3.0           4.6          1.4\n",
       "146           6.3          2.5           5.0          1.9\n",
       "16            5.4          3.9           1.3          0.4\n",
       "58            6.6          2.9           4.6          1.3\n",
       "102           7.1          3.0           5.9          2.1\n",
       "69            5.6          2.5           3.9          1.1\n",
       "147           6.5          3.0           5.2          2.0\n",
       "12            4.8          3.0           1.4          0.1\n",
       "100           6.3          3.3           6.0          2.5\n",
       "29            4.7          3.2           1.6          0.2\n",
       "126           6.2          2.8           4.8          1.8\n",
       "72            6.3          2.5           4.9          1.5\n",
       "64            5.6          2.9           3.6          1.3\n",
       "130           7.4          2.8           6.1          1.9\n",
       "52            6.9          3.1           4.9          1.5\n",
       "67            5.8          2.7           4.1          1.0\n",
       "128           6.4          2.8           5.6          2.1\n",
       "8             4.4          2.9           1.4          0.2\n",
       "129           7.2          3.0           5.8          1.6\n",
       "30            4.8          3.1           1.6          0.2\n",
       "104           6.5          3.0           5.8          2.2\n",
       "135           7.7          3.0           6.1          2.3\n",
       "148           6.2          3.4           5.4          2.3"
      ]
     },
     "execution_count": 145,
     "metadata": {},
     "output_type": "execute_result"
    }
   ],
   "source": [
    "# Should display 50 rows from the test size.\n",
    "inputs_test"
   ]
  },
  {
   "cell_type": "code",
   "execution_count": 146,
   "metadata": {},
   "outputs": [
    {
     "data": {
      "text/plain": [
       "78     versicolor\n",
       "81     versicolor\n",
       "119     virginica\n",
       "143     virginica\n",
       "144     virginica\n",
       "18         setosa\n",
       "24         setosa\n",
       "93     versicolor\n",
       "44         setosa\n",
       "14         setosa\n",
       "132     virginica\n",
       "108     virginica\n",
       "23         setosa\n",
       "77     versicolor\n",
       "33         setosa\n",
       "75     versicolor\n",
       "50     versicolor\n",
       "101     virginica\n",
       "13         setosa\n",
       "98     versicolor\n",
       "84     versicolor\n",
       "41         setosa\n",
       "9          setosa\n",
       "5          setosa\n",
       "118     virginica\n",
       "15         setosa\n",
       "141     virginica\n",
       "91     versicolor\n",
       "146     virginica\n",
       "16         setosa\n",
       "58     versicolor\n",
       "102     virginica\n",
       "69     versicolor\n",
       "147     virginica\n",
       "12         setosa\n",
       "100     virginica\n",
       "29         setosa\n",
       "126     virginica\n",
       "72     versicolor\n",
       "64     versicolor\n",
       "130     virginica\n",
       "52     versicolor\n",
       "67     versicolor\n",
       "128     virginica\n",
       "8          setosa\n",
       "129     virginica\n",
       "30         setosa\n",
       "104     virginica\n",
       "135     virginica\n",
       "148     virginica\n",
       "Name: species, dtype: object"
      ]
     },
     "execution_count": 146,
     "metadata": {},
     "output_type": "execute_result"
    }
   ],
   "source": [
    "outputs_test # Also 50 rows from test"
   ]
  },
  {
   "cell_type": "markdown",
   "metadata": {},
   "source": [
    "#### One we have split the training and test set, we will re-create our classifier, only train it on training inputs and outputs."
   ]
  },
  {
   "cell_type": "code",
   "execution_count": 147,
   "metadata": {},
   "outputs": [
    {
     "data": {
      "text/plain": [
       "KNeighborsClassifier()"
      ]
     },
     "execution_count": 147,
     "metadata": {},
     "output_type": "execute_result"
    }
   ],
   "source": [
    "knn = nei.KNeighborsClassifier(n_neighbors=5) # Re-create classifier\n",
    "# Fit classifier with inputs and ouptuts train, \n",
    "knn.fit(inputs_train, outputs_train) # only train it on 100 training inputs and outputs."
   ]
  },
  {
   "cell_type": "code",
   "execution_count": 148,
   "metadata": {},
   "outputs": [
    {
     "data": {
      "text/plain": [
       "array(['versicolor', 'versicolor', 'virginica', 'virginica', 'virginica',\n",
       "       'setosa', 'setosa', 'versicolor', 'setosa', 'setosa', 'virginica',\n",
       "       'virginica', 'setosa', 'virginica', 'setosa', 'versicolor',\n",
       "       'versicolor', 'virginica', 'setosa', 'versicolor', 'versicolor',\n",
       "       'setosa', 'setosa', 'setosa', 'virginica', 'setosa', 'virginica',\n",
       "       'versicolor', 'virginica', 'setosa', 'versicolor', 'virginica',\n",
       "       'versicolor', 'virginica', 'setosa', 'virginica', 'setosa',\n",
       "       'virginica', 'versicolor', 'versicolor', 'virginica', 'versicolor',\n",
       "       'versicolor', 'virginica', 'setosa', 'virginica', 'setosa',\n",
       "       'virginica', 'virginica', 'virginica'], dtype=object)"
      ]
     },
     "execution_count": 148,
     "metadata": {},
     "output_type": "execute_result"
    }
   ],
   "source": [
    "# Train it on the 50 inputs left over from training set.\n",
    "knn.predict(inputs_test) # predict test inputs, on the 50 leftover."
   ]
  },
  {
   "cell_type": "code",
   "execution_count": 160,
   "metadata": {},
   "outputs": [
    {
     "data": {
      "text/plain": [
       "78      True\n",
       "81      True\n",
       "119     True\n",
       "143     True\n",
       "144     True\n",
       "18      True\n",
       "24      True\n",
       "93      True\n",
       "44      True\n",
       "14      True\n",
       "132     True\n",
       "108     True\n",
       "23      True\n",
       "77     False\n",
       "33      True\n",
       "75      True\n",
       "50      True\n",
       "101     True\n",
       "13      True\n",
       "98      True\n",
       "84      True\n",
       "41      True\n",
       "9       True\n",
       "5       True\n",
       "118     True\n",
       "15      True\n",
       "141     True\n",
       "91      True\n",
       "146     True\n",
       "16      True\n",
       "58      True\n",
       "102     True\n",
       "69      True\n",
       "147     True\n",
       "12      True\n",
       "100     True\n",
       "29      True\n",
       "126     True\n",
       "72      True\n",
       "64      True\n",
       "130     True\n",
       "52      True\n",
       "67      True\n",
       "128     True\n",
       "8       True\n",
       "129     True\n",
       "30      True\n",
       "104     True\n",
       "135     True\n",
       "148     True\n",
       "Name: species, dtype: bool"
      ]
     },
     "execution_count": 160,
     "metadata": {},
     "output_type": "execute_result"
    }
   ],
   "source": [
    "# Can see a lot of them are true, \n",
    "knn.predict(inputs_test) == outputs_test # Compare them to outputs test."
   ]
  },
  {
   "cell_type": "markdown",
   "metadata": {},
   "source": [
    "Below we see that we gave it 50 inputs, it has never seen before, it got 49 correct and one false. Use Numpy to randomly select the inputs for the test array and the training array."
   ]
  },
  {
   "cell_type": "code",
   "execution_count": 161,
   "metadata": {},
   "outputs": [
    {
     "data": {
      "text/plain": [
       "49"
      ]
     },
     "execution_count": 161,
     "metadata": {},
     "output_type": "execute_result"
    }
   ],
   "source": [
    "# Count 49 were true, and one was false.\n",
    "(knn.predict(inputs_test) == outputs_test).sum()"
   ]
  },
  {
   "cell_type": "markdown",
   "metadata": {},
   "source": [
    "## KNN as Classifier\n",
    "### Testing more accuracy."
   ]
  },
  {
   "cell_type": "code",
   "execution_count": 163,
   "metadata": {},
   "outputs": [],
   "source": [
    "X = df.iloc[:, :-1].values\n",
    "y = df.iloc[:, 4].values"
   ]
  },
  {
   "cell_type": "markdown",
   "metadata": {},
   "source": [
    "Split data into train and test split. 60% and 40%. Here we can use 40%."
   ]
  },
  {
   "cell_type": "code",
   "execution_count": 165,
   "metadata": {},
   "outputs": [],
   "source": [
    "from sklearn.model_selection import train_test_split\n",
    "X_train, X_test, y_train, y_test = train_test_split(X, y, test_size = 0.40)"
   ]
  },
  {
   "cell_type": "code",
   "execution_count": 166,
   "metadata": {},
   "outputs": [],
   "source": [
    "from sklearn.preprocessing import StandardScaler\n",
    "scaler = StandardScaler()\n",
    "scaler.fit(X_train)\n",
    "X_train = scaler.transform(X_train)\n",
    "X_test = scaler.transform(X_test)"
   ]
  },
  {
   "cell_type": "markdown",
   "metadata": {},
   "source": [
    "#### Data Scaling"
   ]
  },
  {
   "cell_type": "code",
   "execution_count": 167,
   "metadata": {},
   "outputs": [],
   "source": [
    "from sklearn.preprocessing import StandardScaler\n",
    "scaler = StandardScaler()\n",
    "scaler.fit(X_train)\n",
    "X_train = scaler.transform(X_train)\n",
    "X_test = scaler.transform(X_test)"
   ]
  },
  {
   "cell_type": "markdown",
   "metadata": {},
   "source": [
    "#### Train model"
   ]
  },
  {
   "cell_type": "code",
   "execution_count": 168,
   "metadata": {},
   "outputs": [
    {
     "data": {
      "text/plain": [
       "KNeighborsClassifier(n_neighbors=8)"
      ]
     },
     "execution_count": 168,
     "metadata": {},
     "output_type": "execute_result"
    }
   ],
   "source": [
    "from sklearn.neighbors import KNeighborsClassifier\n",
    "classifier = KNeighborsClassifier(n_neighbors = 8)\n",
    "classifier.fit(X_train, y_train)"
   ]
  },
  {
   "cell_type": "code",
   "execution_count": 169,
   "metadata": {},
   "outputs": [],
   "source": [
    "# Make prediction\n",
    "y_pred = classifier.predict(X_test)"
   ]
  },
  {
   "cell_type": "markdown",
   "metadata": {},
   "source": [
    "Here we get an accuracy score of our data we just used the algorithm on. "
   ]
  },
  {
   "cell_type": "code",
   "execution_count": 170,
   "metadata": {},
   "outputs": [
    {
     "name": "stdout",
     "output_type": "stream",
     "text": [
      "Confusion Matrix:\n",
      "[[22  0  0]\n",
      " [ 0 19  0]\n",
      " [ 0  3 16]]\n",
      "Classification Report:\n",
      "              precision    recall  f1-score   support\n",
      "\n",
      "      setosa       1.00      1.00      1.00        22\n",
      "  versicolor       0.86      1.00      0.93        19\n",
      "   virginica       1.00      0.84      0.91        19\n",
      "\n",
      "    accuracy                           0.95        60\n",
      "   macro avg       0.95      0.95      0.95        60\n",
      "weighted avg       0.96      0.95      0.95        60\n",
      "\n",
      "Accuracy: 0.95\n"
     ]
    }
   ],
   "source": [
    "# code adpated from: https://www.tutorialspoint.com/machine_learning_with_python/machine_learning_with_python_knn_algorithm_finding_nearest_neighbors.htm\n",
    "\n",
    "from sklearn.metrics import classification_report, confusion_matrix, accuracy_score\n",
    "result = confusion_matrix(y_test, y_pred)\n",
    "print(\"Confusion Matrix:\")\n",
    "print(result)\n",
    "result1 = classification_report(y_test, y_pred)\n",
    "print(\"Classification Report:\",)\n",
    "print (result1)\n",
    "result2 = accuracy_score(y_test,y_pred)\n",
    "print(\"Accuracy:\",result2)"
   ]
  },
  {
   "cell_type": "markdown",
   "metadata": {},
   "source": [
    "## Conclusion  \n",
    "\n",
    "Here we can look at the positive side to the KNN algorithm. K-Nearest Neighbors despite its simplicity, continues to perform fairly well for large training sets. It essentially relies only on the most basic assumption underlying all prediction: that observations with similar characteristics will tend to have similar outcomes. K-NN algorithm is very simple to understand and equally easy to implement. To classify the new data point K-NN algorithm reads through whole dataset to find out K nearest neighbors. One of the biggest advantages of K-NN is that K-NN can be used both for classification and regression problems.\n",
    "\n",
    "While it may be a very popular algorithm in many sectors today, it does have it's flaws also. K-NN might be very easy to implement but as dataset grows efficiency or speed of algorithm declines very fast. It works well with small number of input variables but as the numbers of variables grow K-NN algorithm struggles to predict the output of new data point. One of the biggest issues with K-NN is to choose the optimal number of neighbors to be considered while classifying the new data entry. It is is very sensitive to outliers as it simply chose the neighbors based on distance criteria.\n",
    "\n",
    "\n",
    "\n",
    "\n"
   ]
  },
  {
   "cell_type": "markdown",
   "metadata": {},
   "source": [
    "## References \n",
    "\n",
    "Scikit.learn, KNeighborsClassifier, 2019, viewed on the 2019/12/16, available online at: https://scikit-learn.org/stable/modules/generated/sklearn.neighbors.KNeighborsClassifier.html\n",
    "\n",
    "Genisis, K-Nearest Neighbour, 2018, viewed on the 2019/12/16, available online at: https://www.fromthegenesis.com/pros-and-cons-of-k-nearest-neighbors/\n",
    "\n",
    "Medium, KNN, 2019,  viewed on the 2019/12/16, available online at: https://medium.com/capital-one-tech/k-nearest-neighbors-knn-algorithm-for-machine-learning-e883219c8f26\n",
    "\n",
    "Tutorialspoint, Finding Nearest Neighours, 2020, viewed on the 2019/12/16, available online at: https://www.tutorialspoint.com/machine_learning_with_python/machine_learning_with_python_knn_algorithm_finding_nearest_neighbors.htm\n",
    "\n",
    "Analyticsteps, How Does KNN Work?, 2020, viewed on the 2019/12/16, available online at: https://www.analyticssteps.com/blogs/how-does-k-nearest-neighbor-works-machine-learning-classification-problem\n",
    "\n",
    "\n",
    "Pandas, Tutorials, 2020, 2020, viewed on the 2019/12/16, available online at: https://pandas.pydata.org/docs/getting_started/intro_tutorials/10_text_data.html"
   ]
  },
  {
   "cell_type": "markdown",
   "metadata": {},
   "source": [
    "***\n",
    "\n",
    "## The end\n",
    "\n",
    "***"
   ]
  }
 ],
 "metadata": {
  "kernelspec": {
   "display_name": "Python 3",
   "language": "python",
   "name": "python3"
  },
  "language_info": {
   "codemirror_mode": {
    "name": "ipython",
    "version": 3
   },
   "file_extension": ".py",
   "mimetype": "text/x-python",
   "name": "python",
   "nbconvert_exporter": "python",
   "pygments_lexer": "ipython3",
   "version": "3.8.3"
  }
 },
 "nbformat": 4,
 "nbformat_minor": 4
}
