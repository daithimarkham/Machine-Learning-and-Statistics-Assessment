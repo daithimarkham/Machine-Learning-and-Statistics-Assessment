{
 "cells": [
  {
   "cell_type": "markdown",
   "metadata": {},
   "source": [
    "![title](Images/image2.png)\n",
    "<br>\n",
    "<br>\n",
    "\n",
    "![title](Images/image1.png)\n",
    "<br>\n",
    "# <center>Machine Learning and Statistics Tasks</center>\n",
    "<br>\n",
    "<br>\n",
    "<br>\n",
    "\n",
    "- **A Jupyter Notebook containing assessments for Machine Learning & Statistics.**\n",
    "<br>\n",
    "<br>\n",
    "- **We will be completing four tasks throughout the course of the semester.**\n",
    "<br>\n",
    "<br>\n",
    "- **All tasks will be completed in this Notebook.**\n",
    "\n",
    "<br>\n",
    "<br>\n",
    "<br>\n",
    "<br>"
   ]
  },
  {
   "cell_type": "markdown",
   "metadata": {},
   "source": [
    "# <center>Task 1</center>\n",
    "\n",
    "\n",
    "\n",
    "\n",
    "\n",
    "Write a Python function called sqrt2 that calculates and prints to the screen the square root of 2 to 100 decimal places.\n",
    "\n",
    "Your code should not depend on any module from the standard library1 or otherwise. (By this, you should not import a library.)\n",
    "\n",
    "You should research the task first and include references and a description of your algorithm.\n",
    "\n",
    "![title](Images/image3.png)"
   ]
  },
  {
   "cell_type": "markdown",
   "metadata": {},
   "source": [
    "### Getting started\n",
    "\n",
    "Finding the square root in programming languages is straight forward, as most have mathemathical packages built in, and will calculate it for you. For this task we have to go back to basics and write code that will output the square root of 2 to 100 decimal places.\n",
    "\n",
    "In algebra, a number x, is the result of a number, n, multiplied by itself: x = n²\n",
    "\n",
    "n = 5\n",
    "<br>\n",
    "x = x ** 2 \n",
    "<br>\n",
    "x = 25 \n",
    "\n",
    "The tricky part is displaying the decimal to 100 places. The decimal module in Python will display this for us, but we are asked to try and achieve this without using any of the imported modules.\n",
    "\n",
    "We can calculate the square root of 2 using <a href=\"https://www.math24.net/newtons-method/\">Newton's method.</a>\n",
    "\n",
    "To find the square root of $z$ of $y$:\n",
    "\n",
    "This can be done using the following equation: \n",
    "\n",
    "$$ z = z - \\frac{z^2 - y} {2z}$$"
   ]
  },
  {
   "cell_type": "markdown",
   "metadata": {},
   "source": [
    "This was the first method, and is only out-putting a certain of amount of deciaml places. Once it gets to 50, it outputs zeros. This has to do with using floating point numbers instead of integers."
   ]
  },
  {
   "cell_type": "code",
   "execution_count": 1,
   "metadata": {},
   "outputs": [
    {
     "name": "stdout",
     "output_type": "stream",
     "text": [
      "1.4142135623730951454746218587388284504413604736328125000000000000000000000000000000000000000000000000\n"
     ]
    }
   ],
   "source": [
    "# Code adapted from Stackoverflow.\n",
    "\n",
    "\n",
    "def sqrt(y): # Calculate square root of value y.\n",
    "    z = y / 2 # Initial guess of square root z.\n",
    "    \n",
    "    # Create while loop until accurate.\n",
    "    # While you square z and take it away from y, while it's bigger than 0.000001 and  z squared doesn't agree with z,\n",
    "    # keep looping.\n",
    "    while abs(y - (z * z)) > 0.000001: # abs gives you positive value if it's minus. Can increase accuracy with more decimal places.\n",
    "        z -= (z*z - y) / (2 * z) # Calculates, give us an approx of value.\n",
    "    # Return square root of y.\n",
    "    return z\n",
    "\n",
    "result = 2**(0.5)\n",
    "\n",
    "printResult = format(result, ',.100f') # formats to 100 decimal places when you add the 'f' after .100.\n",
    "print(printResult)"
   ]
  },
  {
   "cell_type": "markdown",
   "metadata": {},
   "source": [
    "### Test function with different values."
   ]
  },
  {
   "cell_type": "code",
   "execution_count": 2,
   "metadata": {
    "scrolled": false
   },
   "outputs": [
    {
     "data": {
      "text/plain": [
       "1.4142135623746899"
      ]
     },
     "execution_count": 2,
     "metadata": {},
     "output_type": "execute_result"
    }
   ],
   "source": [
    "sqrt(2)"
   ]
  },
  {
   "cell_type": "markdown",
   "metadata": {},
   "source": [
    "Here we can check to see f it is correct by multiplying the above output ** 2. "
   ]
  },
  {
   "cell_type": "code",
   "execution_count": 3,
   "metadata": {},
   "outputs": [
    {
     "data": {
      "text/plain": [
       "2.0000000000045106"
      ]
     },
     "execution_count": 3,
     "metadata": {},
     "output_type": "execute_result"
    }
   ],
   "source": [
    "1.4142135623746899 ** 2"
   ]
  },
  {
   "cell_type": "code",
   "execution_count": 4,
   "metadata": {},
   "outputs": [
    {
     "data": {
      "text/plain": [
       "3.0000000000393214"
      ]
     },
     "execution_count": 4,
     "metadata": {},
     "output_type": "execute_result"
    }
   ],
   "source": [
    "sqrt(9)"
   ]
  },
  {
   "cell_type": "markdown",
   "metadata": {},
   "source": [
    "### Output 100 decimal places with correct values.\n",
    "\n",
    "Above we found the square root of two without the use of libraries, but was only formatting 50 decimal places, then the remainder was all zero's. Now we use must get the output of 100 decimal places, to produce values instead of zero's after 50 places.\n",
    "\n",
    "Here is one solution which was on <a href=\"https://www.math24.net/newtons-method/\">Stackoverflow.</a>"
   ]
  },
  {
   "cell_type": "code",
   "execution_count": 5,
   "metadata": {
    "scrolled": true
   },
   "outputs": [
    {
     "name": "stdout",
     "output_type": "stream",
     "text": [
      "1.4142135623730950488016887242096980785696718753769480731766797379907324784621070388503875343276415727\n"
     ]
    }
   ],
   "source": [
    "# Code adapted from Stackoverflow.\n",
    "# https://stackoverflow.com/questions/64278117/is-there-a-way-to-create-more-decimal-points-on-python-without-importing-a-libra\n",
    "\n",
    "x = 2 * 10 ** 200\n",
    "\n",
    "r = x\n",
    "\n",
    "def test_diffs(x, r):\n",
    "    d0 = abs(x - r**2)\n",
    "    dm = abs(x - (r-1)**2)\n",
    "    dp = abs(x - (r+1)**2)\n",
    "    minimised = d0 <= dm and d0 <= dp\n",
    "    below_min = dp < dm\n",
    "    return minimised, below_min\n",
    "\n",
    "while True:\n",
    "    oldr = r\n",
    "    r = (r + x // r) // 2\n",
    "\n",
    "    minimised, below_min = test_diffs(x, r)\n",
    "    if minimised:\n",
    "        break\n",
    "\n",
    "    if r == oldr:\n",
    "        if below_min:\n",
    "            r += 1\n",
    "        else:\n",
    "            r -= 1\n",
    "        minimised, _ = test_diffs(x, r)\n",
    "        if minimised:\n",
    "            break\n",
    "\n",
    "print(f'{r // 10**100}.{r % 10**100:0100d}') # formating decimal places, 1st part 10**100 is the integer, 2nd modulo remainder."
   ]
  },
  {
   "cell_type": "markdown",
   "metadata": {},
   "source": [
    "**Here we can check the square root of two using another method, to confirm that our code above is correct.**"
   ]
  },
  {
   "cell_type": "code",
   "execution_count": 3,
   "metadata": {},
   "outputs": [
    {
     "name": "stdout",
     "output_type": "stream",
     "text": [
      "Please enter a number: 2\n",
      "The square root is: 1.4142135623730951\n"
     ]
    }
   ],
   "source": [
    "number = int(input(\"Please enter a number: \"))\n",
    "sqrt = number ** 0.5 # calculates the square root of user input.\n",
    "print(\"The square root is:\", sqrt)"
   ]
  },
  {
   "cell_type": "markdown",
   "metadata": {},
   "source": [
    "#### Import math to compare results."
   ]
  },
  {
   "cell_type": "code",
   "execution_count": 13,
   "metadata": {
    "scrolled": true
   },
   "outputs": [
    {
     "name": "stdout",
     "output_type": "stream",
     "text": [
      "1.4142135623730951\n"
     ]
    }
   ],
   "source": [
    "import math\n",
    "print(math.sqrt(2))"
   ]
  },
  {
   "cell_type": "markdown",
   "metadata": {},
   "source": [
    "### Here we can find square root on graph."
   ]
  },
  {
   "cell_type": "code",
   "execution_count": 13,
   "metadata": {},
   "outputs": [
    {
     "data": {
      "image/png": "[encoded data removed]",
      "text/plain": [
       "<Figure size 432x288 with 1 Axes>"
      ]
     },
     "metadata": {
      "needs_background": "light"
     },
     "output_type": "display_data"
    }
   ],
   "source": [
    "import numpy as np \n",
    "import matplotlib.pyplot as plt\n",
    "import seaborn as sns # makes plot look nicer\n",
    "\n",
    "x = np.linspace(0.0, 10.0, 1000)\n",
    "y = np.sqrt(x)\n",
    "\n",
    "plt.plot(x, y)\n",
    "\n",
    "plt.xlabel('Square Root')\n",
    "plt.ylabel('')\n",
    "plt.title('Square root of 2 for example = 1.4')\n",
    "\n",
    "\n",
    "plt.show()\n"
   ]
  },
  {
   "cell_type": "markdown",
   "metadata": {},
   "source": [
    "## References\n",
    "\n",
    "Learn Python, 2020, Statistics and Machine Learning compared, viewed on 2019/10/12, available online at: https://pythonprogramminglanguage.com/what-is-the-difference-between-statistics-and-machine-learning/\n",
    "\n",
    "Real Python, 2019, The Python Square Root Function, viewed on 2019/10/12, available online at: https://realpython.com/python-square-root-function/\n",
    "\n",
    "Data Flair, 2020, Python repr Function With Example, viewed on 2019/10/12, available online at: https://data-flair.training/blogs/python-repr-function/\n",
    "\n",
    "Newton's method, 2020, Math24, viewed on 2019/10/13, available online at: https://www.math24.net/newtons-method/\n",
    "\n",
    "MathJax, 2020, Writing Mathematics for MathJax, viewed on 2019/10/13, available online at: https://www.mathjax.org/\n",
    "\n",
    "Reddit, 2020, How to square root of two without using libraries, viewed on 2019/10/02 vailable online at: https://www.reddit.com/r/AskProgramming/comments/j8mwxr/how_to_get_the_square_root_of_a_number_to_100/\n",
    "\n",
    "Random ASCII, Float Precision–From Zero to 100+ Digits, 2012, viewed on 2019/10/02 vailable online at: https://randomascii.wordpress.com/2012/03/08/float-precisionfrom-zero-to-100-digits-2/ \n",
    "\n",
    "Stackoverflow, How to get the square root of a number to 100 decimal places without using any libraries or modules, 2020, viewed on 2019/10/02 vailable online at: https://stackoverflow.com/questions/64295245/how-to-get-the-square-root-of-a-number-to-100-decimal-places-without-using-any-l \n",
    "\n",
    "Real Python, The Python Square Root in mathemathics, 2019, viewed on 2019/11/20 vailable online at: https://realpython.com/python-square-root-function/\n",
    "\n",
    "Python, Decimal fixed point and floating point arithmetic, 2020, viewed on 2019/11/20 vailable online at: https://docs.python.org/2/library/decimal.html"
   ]
  },
  {
   "cell_type": "markdown",
   "metadata": {},
   "source": [
    "# <center>Task 2</center>\n",
    "\n",
    "The Chi-squared test for independence is a statistical\n",
    "hypothesis test like a t-test. It is used to analyse whether two categorical variables\n",
    "are independent.\n",
    "\n",
    "The Wikipedia article gives the table below as an example [4],\n",
    "stating the Chi-squared value based on it is approximately 24.6.\n",
    "\n",
    "Use scipy.stats to verify this value and calculate the associated p value. You should include a short note with references justifying your analysis in a markdown cell.\n",
    "\n",
    "![title](Images/image4.png)"
   ]
  },
  {
   "cell_type": "markdown",
   "metadata": {},
   "source": [
    "### Chi-Squared Test\n",
    "\n",
    "**What Is a T-Test?**\n",
    "\n",
    "A t-test is a type of inferential statistic used to determine if there is a significant difference between the means of two groups, which may be related in certain features. It is mostly used when the data sets, like the data set recorded as the outcome from flipping a coin 100 times, would follow a normal distribution and may have unknown variances. A t-test is used as a hypothesis testing tool, which allows testing of an assumption applicable to a population.\n",
    "\n",
    "A t-test looks at the t-statistic, the t-distribution values, and the degrees of freedom to determine the statistical significance. To conduct a test with three or more means, one must use an analysis of variance.\n",
    "\n",
    "Essentially, a t-test allows us to compare the average values of the two data sets and determine if they came from the same population.\n",
    "\n",
    "$t$-tests are among the most common statistical tests performed in world.\n",
    "\n",
    "This notebook focuses on the practicalities of performing $t$-tests in Python.\n",
    "\n",
    "More information about the $t$-test itself can be found <a href=\"https://statistics.laerd.com/spss-tutorials/independent-t-test-using-spss-statistics.php\">here.</a> \n",
    "\n",
    "**What is the Chi-Square Test?**\n",
    "\n",
    "A chi-square (χ2) statistic is a test that measures how a model compares to actual observed data. The data used in calculating a chi-square statistic must be random, raw, mutually exclusive, drawn from independent variables, and drawn from a large enough sample. For example, the results of tossing a fair coin meet these criteria.\n",
    "\n",
    "The Chi-Square test is a statistical procedure used by researchers to examine the differences between categorical variables in the same population. \n",
    "\n",
    "For example, imagine that a research group is interested in whether or not education level and marital status are related for all people in the U.S. \n",
    "\n",
    "After collecting a simple random sample of 500 U.S. citizens, and administering a survey to this sample, the researchers could first manually observe the frequency distribution of marital status and education category within their sample. \n",
    "\n",
    "The researchers could then perform a Chi-Square test to validate or provide additional context for these observed frequencies.\n",
    "\n",
    "\n",
    "\n",
    "Chi-Square **calculation formula** is as follows:\n",
    "\n",
    "\n",
    "![title](Images/image5.png) Source (Investopedia, 2020)\n",
    "\n",
    "**Understanding \"p\" Value**\n",
    "\n",
    "Most people want to see a p value less than 0.05 before they are happy to say the results show the groups have a different response. The \"p\" is the probability the variables are independent. Surveys are random, so we should expect the outcome/results to be slightly different each time. \n",
    "\n",
    "Just say we survey men and women, and their prefernces for dogs based on gender and the result was 0.03. In this case p < 0.05, so this result is thought of as being \"significant\" meaning we think the variables are not independent. We would think that gender is linked to gender preference, men and women have different preferences for male/female dogs.\n",
    "\n",
    "**Calculating Chi-squared Test.**\n",
    "\n",
    "This test only works for categorical data (data in categories), such as Gender {Men, Women} or color {Red, Yellow, Green, Blue} etc, but not numerical data such as height or weight.\n",
    "\n",
    "The numbers must be large enough. Each entry must be 5 or more.\n",
    "\n",
    "Our first step is to state our **hypotheses**: A statement that might be true, which can then be tested.\n",
    "\n",
    "From our table above, suppose there is a city of 1,000,000 residents with four neighborhoods: A, B, C, and D. A random sample of 650 residents of the city is taken and their occupation is recorded as “white collar”, “blue collar”, or “no collar”. The null hypothesis is that each person’s neighborhood of residence is independent of the person’s occupational classification.\n",
    "\n",
    "**The two hypotheses are.**\n",
    "Neighbourhood and preference for collar are independent.\n",
    "Neighbourhood and preference for collar are not independent.\n",
    "\n",
    "Lay the data out in a table, add up the rows and columns, and calculate the Expected Value for each entry(Multiply each row total by each column total and divide by the overall total). See code below to see how calculation is done. \n"
   ]
  },
  {
   "cell_type": "code",
   "execution_count": null,
   "metadata": {},
   "outputs": [],
   "source": []
  },
  {
   "cell_type": "code",
   "execution_count": null,
   "metadata": {},
   "outputs": [],
   "source": []
  },
  {
   "cell_type": "markdown",
   "metadata": {},
   "source": [
    "### Import Packages"
   ]
  },
  {
   "cell_type": "code",
   "execution_count": null,
   "metadata": {},
   "outputs": [],
   "source": [
    "import numpy as np # creates large numerical arrays.\n",
    "import pandas as pd # Creates dataframes and structures built from Numpy arrays\n",
    "import statsmodels.stats.weightstats as stat # Stats modles\n",
    "\n",
    "## Scipy.stats is the only library you need to doa t-test.\n",
    "import scipy.stats as ss # This module contains a large number of probability distributions as well as a growing library of stat functions\n",
    "import matplotlib.pyplot as plt # Displays plots\n",
    "import seaborn as sns # higher level plots, which gives more insight into datasets\n",
    "\n",
    "plt.style.use(\"fivethirtyeight\") # 538 vis of graphs"
   ]
  },
  {
   "cell_type": "code",
   "execution_count": null,
   "metadata": {},
   "outputs": [],
   "source": []
  },
  {
   "cell_type": "code",
   "execution_count": null,
   "metadata": {},
   "outputs": [],
   "source": []
  },
  {
   "cell_type": "markdown",
   "metadata": {},
   "source": [
    "## References\n",
    "\n",
    "Alchemer, What is the Chi-squared Test, 2020, viewed on 2019/11/20 vailable online at: https://www.alchemer.com/resources/blog/introduction-to-chi-square-test-and-when-to-use-it/\n",
    "\n",
    "Investopedia, Chi-Square (χ2) Statistic Definition, 2020, viewed on 2019/11/20 vailable online at: https://www.investopedia.com/terms/c/chi-square-statistic.asp "
   ]
  },
  {
   "cell_type": "code",
   "execution_count": null,
   "metadata": {},
   "outputs": [],
   "source": []
  }
 ],
 "metadata": {
  "kernelspec": {
   "display_name": "Python 3",
   "language": "python",
   "name": "python3"
  },
  "language_info": {
   "codemirror_mode": {
    "name": "ipython",
    "version": 3
   },
   "file_extension": ".py",
   "mimetype": "text/x-python",
   "name": "python",
   "nbconvert_exporter": "python",
   "pygments_lexer": "ipython3",
   "version": "3.8.3"
  }
 },
 "nbformat": 4,
 "nbformat_minor": 4
}
